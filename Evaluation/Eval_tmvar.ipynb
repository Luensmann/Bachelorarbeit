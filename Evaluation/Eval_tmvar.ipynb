{
  "cells": [
    {
      "cell_type": "markdown",
      "metadata": {
        "id": "view-in-github",
        "colab_type": "text"
      },
      "source": [
        "<a href=\"https://colab.research.google.com/github/Luensmann/Bachelorarbeit/blob/main/Evaluation/Eval_tmvar.ipynb\" target=\"_parent\"><img src=\"https://colab.research.google.com/assets/colab-badge.svg\" alt=\"Open In Colab\"/></a>"
      ]
    },
    {
      "cell_type": "code",
      "execution_count": null,
      "id": "50301fde-a849-460c-b0b5-973af6c68d68",
      "metadata": {
        "tags": [],
        "id": "50301fde-a849-460c-b0b5-973af6c68d68"
      },
      "outputs": [],
      "source": [
        "import torch\n",
        "from transformers import AutoTokenizer, BertForTokenClassification, AutoModelForTokenClassification\n",
        "from datasets import load_dataset"
      ]
    },
    {
      "cell_type": "code",
      "execution_count": null,
      "id": "a401b805-ca0a-47b7-a5f9-5be99399caad",
      "metadata": {
        "tags": [],
        "colab": {
          "referenced_widgets": [
            "3d3a3d12c1da41548bc37135764acf57",
            "5203cfe89c7842578c408c70d6f26b22",
            "cabb5db8cde1499d999739aa7dbd0ad4",
            "dd0cb00267fa4c58870d78049b802869",
            "01c654ba77914a65baaabf3d0d9fbeb9",
            "4db918187f3d4072a657ecd08ed9642b"
          ]
        },
        "id": "a401b805-ca0a-47b7-a5f9-5be99399caad",
        "outputId": "c2ebae06-82ad-4102-d599-e907e0e27dba"
      },
      "outputs": [
        {
          "data": {
            "application/vnd.jupyter.widget-view+json": {
              "model_id": "3d3a3d12c1da41548bc37135764acf57",
              "version_major": 2,
              "version_minor": 0
            },
            "text/plain": [
              "Downloading:   0%|          | 0.00/434 [00:00<?, ?B/s]"
            ]
          },
          "metadata": {},
          "output_type": "display_data"
        },
        {
          "data": {
            "application/vnd.jupyter.widget-view+json": {
              "model_id": "5203cfe89c7842578c408c70d6f26b22",
              "version_major": 2,
              "version_minor": 0
            },
            "text/plain": [
              "Downloading:   0%|          | 0.00/226k [00:00<?, ?B/s]"
            ]
          },
          "metadata": {},
          "output_type": "display_data"
        },
        {
          "data": {
            "application/vnd.jupyter.widget-view+json": {
              "model_id": "cabb5db8cde1499d999739aa7dbd0ad4",
              "version_major": 2,
              "version_minor": 0
            },
            "text/plain": [
              "Downloading:   0%|          | 0.00/706k [00:00<?, ?B/s]"
            ]
          },
          "metadata": {},
          "output_type": "display_data"
        },
        {
          "data": {
            "application/vnd.jupyter.widget-view+json": {
              "model_id": "dd0cb00267fa4c58870d78049b802869",
              "version_major": 2,
              "version_minor": 0
            },
            "text/plain": [
              "Downloading:   0%|          | 0.00/125 [00:00<?, ?B/s]"
            ]
          },
          "metadata": {},
          "output_type": "display_data"
        },
        {
          "data": {
            "application/vnd.jupyter.widget-view+json": {
              "model_id": "01c654ba77914a65baaabf3d0d9fbeb9",
              "version_major": 2,
              "version_minor": 0
            },
            "text/plain": [
              "Downloading:   0%|          | 0.00/1.03k [00:00<?, ?B/s]"
            ]
          },
          "metadata": {},
          "output_type": "display_data"
        },
        {
          "data": {
            "application/vnd.jupyter.widget-view+json": {
              "model_id": "4db918187f3d4072a657ecd08ed9642b",
              "version_major": 2,
              "version_minor": 0
            },
            "text/plain": [
              "Downloading:   0%|          | 0.00/436M [00:00<?, ?B/s]"
            ]
          },
          "metadata": {},
          "output_type": "display_data"
        }
      ],
      "source": [
        "saveName = \"2e-05_0404_ES6_strict_tok1\"\n",
        "model = \"Brizape/tmvar_\" + saveName\n",
        "\n",
        "tokenizer = AutoTokenizer.from_pretrained(model)\n",
        "model = AutoModelForTokenClassification.from_pretrained(model)"
      ]
    },
    {
      "cell_type": "code",
      "execution_count": null,
      "id": "3b74ed86-9494-4be5-b695-ead0b3d916e6",
      "metadata": {
        "tags": [],
        "colab": {
          "referenced_widgets": [
            "ee73212f443149c3afb6b2791892300b"
          ]
        },
        "id": "3b74ed86-9494-4be5-b695-ead0b3d916e6",
        "outputId": "726938a5-2060-4825-a197-71fffdca6fd8"
      },
      "outputs": [
        {
          "name": "stderr",
          "output_type": "stream",
          "text": [
            "Found cached dataset parquet (C:/Users/pc/.cache/huggingface/datasets/Brizape___parquet/Brizape--tmvar_tokenized_split_0404_dev-3b41f35c1b43fb07/0.0.0/2a3b91fbd88a2c90d1dbbb32b460cf621d31bd5b05b934492fdef7d8d6f236ec)\n"
          ]
        },
        {
          "data": {
            "application/vnd.jupyter.widget-view+json": {
              "model_id": "ee73212f443149c3afb6b2791892300b",
              "version_major": 2,
              "version_minor": 0
            },
            "text/plain": [
              "  0%|          | 0/3 [00:00<?, ?it/s]"
            ]
          },
          "metadata": {},
          "output_type": "display_data"
        },
        {
          "data": {
            "text/plain": [
              "DatasetDict({\n",
              "    train: Dataset({\n",
              "        features: ['id', 'tokens', 'ner_tags', 'texts', 'input_ids', 'token_type_ids', 'attention_mask', 'labels'],\n",
              "        num_rows: 801\n",
              "    })\n",
              "    validation: Dataset({\n",
              "        features: ['id', 'tokens', 'ner_tags', 'texts', 'input_ids', 'token_type_ids', 'attention_mask', 'labels'],\n",
              "        num_rows: 201\n",
              "    })\n",
              "    test: Dataset({\n",
              "        features: ['id', 'tokens', 'ner_tags', 'texts', 'input_ids', 'token_type_ids', 'attention_mask', 'labels'],\n",
              "        num_rows: 498\n",
              "    })\n",
              "})"
            ]
          },
          "execution_count": 23,
          "metadata": {},
          "output_type": "execute_result"
        }
      ],
      "source": [
        "dataset = load_dataset(\"Brizape/tmvar_tokenized_split_0404_dev\")\n",
        "dataset"
      ]
    },
    {
      "cell_type": "code",
      "execution_count": null,
      "id": "9fe26be7-4e48-4ec8-9f8e-1b75558bc63c",
      "metadata": {
        "tags": [],
        "id": "9fe26be7-4e48-4ec8-9f8e-1b75558bc63c"
      },
      "outputs": [],
      "source": [
        "# labels\n",
        "\n",
        "label_list = [\"O\", \"B-DNAMutation\", \"I-DNAMutation\", \"B-ProteinMutation\", \"I-ProteinMutation\", \"B-SNP\", \"I-SNP\"]\n",
        "\n",
        "id2label = {\n",
        "    0: \"O\",\n",
        "    1: \"B-DNAMutation\",\n",
        "    2: \"I-DNAMutation\",\n",
        "    3: \"B-ProteinMutation\",\n",
        "    4: \"I-ProteinMutation\",\n",
        "    5: \"B-SNP\",\n",
        "    6: \"I-SNP\",\n",
        "}\n",
        "label2id = {\n",
        "    \"O\": 0,\n",
        "    \"B-DNAMutation\": 1,\n",
        "    \"I-DNAMutation\": 2,\n",
        "    \"B-ProteinMutation\": 3,\n",
        "    \"I-ProteinMutation\": 4,\n",
        "    \"B-SNP\": 5,\n",
        "    \"I-SNP\": 6,\n",
        "}"
      ]
    },
    {
      "cell_type": "code",
      "execution_count": null,
      "id": "938ed8fd-3499-4669-a050-0d05ed6e441c",
      "metadata": {
        "tags": [],
        "id": "938ed8fd-3499-4669-a050-0d05ed6e441c"
      },
      "outputs": [],
      "source": [
        "# gold_id_all - expected outputs in ids-format\n",
        "# gold_label_all - expected outputs in label-format\n",
        "# pred_label_all - all predicted labels in label-format\n",
        "# pred_id_all - all predicted labels in id-format\n",
        "\n",
        "# del all missmatches in both list:\n",
        "# gold_id - expected outputs in ids-format\n",
        "# gold_label - expected outputs in label-format\n",
        "# pred_label - all predicted labels in label-format\n",
        "# pred_id - all predicted labels in id-format\n",
        "\n",
        "# y_true - for sklearn, no sublists\n",
        "# y-pred - for sklearn, no sublists"
      ]
    },
    {
      "cell_type": "code",
      "execution_count": null,
      "id": "32934883-d194-4d09-b944-3d67edbbdc12",
      "metadata": {
        "tags": [],
        "id": "32934883-d194-4d09-b944-3d67edbbdc12",
        "outputId": "b2984419-6e41-40ac-801e-dbceb86fd461"
      },
      "outputs": [
        {
          "data": {
            "text/plain": [
              "498"
            ]
          },
          "execution_count": 26,
          "metadata": {},
          "output_type": "execute_result"
        }
      ],
      "source": [
        "# get all texts for predictions\n",
        "\n",
        "texts = []\n",
        "for item in dataset[\"test\"]:\n",
        "    texts.append(item[\"texts\"])\n",
        "len(texts)"
      ]
    },
    {
      "cell_type": "code",
      "execution_count": null,
      "id": "bee4d509-6cd5-426f-8ea5-0ec7496b0cae",
      "metadata": {
        "tags": [],
        "id": "bee4d509-6cd5-426f-8ea5-0ec7496b0cae",
        "outputId": "204ac478-eaf6-4d34-9aab-0c573ca53136"
      },
      "outputs": [
        {
          "data": {
            "text/plain": [
              "498"
            ]
          },
          "execution_count": 27,
          "metadata": {},
          "output_type": "execute_result"
        }
      ],
      "source": [
        "# get all gold labels aka true labels\n",
        "\n",
        "gold_id_all = []\n",
        "for item in dataset[\"test\"]:\n",
        "    gold_id_all.append(item[\"labels\"][1:-1])\n",
        "len(gold_id_all)"
      ]
    },
    {
      "cell_type": "code",
      "execution_count": null,
      "id": "e3183b78-752e-40a0-a4b2-efd0b3d444fc",
      "metadata": {
        "tags": [],
        "id": "e3183b78-752e-40a0-a4b2-efd0b3d444fc",
        "outputId": "f4d58920-8ce0-4f6d-9b98-fc505518664c"
      },
      "outputs": [
        {
          "data": {
            "text/plain": [
              "498"
            ]
          },
          "execution_count": 28,
          "metadata": {},
          "output_type": "execute_result"
        }
      ],
      "source": [
        "# convert all IDs into labels\n",
        "\n",
        "gold_label_all = []\n",
        "for item in gold_id_all:\n",
        "    gold_label_all.append([id2label[i] for i in item])\n",
        "len(gold_label_all)"
      ]
    },
    {
      "cell_type": "code",
      "execution_count": null,
      "id": "6d611a63-af84-4897-9e72-73bf1ab1c1d5",
      "metadata": {
        "tags": [],
        "id": "6d611a63-af84-4897-9e72-73bf1ab1c1d5"
      },
      "outputs": [],
      "source": [
        "def predict(text):\n",
        "    \n",
        "    inputs = tokenizer(text, add_special_tokens=False, return_tensors=\"pt\", truncation=True, max_length=512)\n",
        "    if inputs['input_ids'].numel() == 0:\n",
        "        print(\"input_ids is empty\")\n",
        "        return []\n",
        "    \n",
        "    with torch.no_grad():\n",
        "        logits = model(**inputs).logits \n",
        "    predictions = torch.argmax(logits, dim=2)\n",
        "    \n",
        "    predicted_token_class = [model.config.id2label[t.item()] for t in predictions[0]]\n",
        "\n",
        "    return predicted_token_class"
      ]
    },
    {
      "cell_type": "code",
      "execution_count": null,
      "id": "3fa7745f-3b55-4dd7-8ff0-0707c15a028f",
      "metadata": {
        "tags": [],
        "id": "3fa7745f-3b55-4dd7-8ff0-0707c15a028f",
        "outputId": "bb4c73d6-7ee0-4f75-ef6c-bb0981234878"
      },
      "outputs": [
        {
          "name": "stdout",
          "output_type": "stream",
          "text": [
            "0 1 2 input_ids is empty\n",
            "3 4 5 input_ids is empty\n",
            "6 7 8 input_ids is empty\n",
            "9 10 11 input_ids is empty\n",
            "12 13 14 input_ids is empty\n",
            "15 16 17 input_ids is empty\n",
            "18 19 20 input_ids is empty\n",
            "21 22 23 input_ids is empty\n",
            "24 25 26 input_ids is empty\n",
            "27 28 29 input_ids is empty\n",
            "30 31 32 input_ids is empty\n",
            "33 34 35 input_ids is empty\n",
            "36 37 38 input_ids is empty\n",
            "39 40 41 input_ids is empty\n",
            "42 43 44 input_ids is empty\n",
            "45 46 47 input_ids is empty\n",
            "48 49 50 input_ids is empty\n",
            "51 52 53 input_ids is empty\n",
            "54 55 56 input_ids is empty\n",
            "57 58 59 input_ids is empty\n",
            "60 61 62 input_ids is empty\n",
            "63 64 65 input_ids is empty\n",
            "66 67 68 input_ids is empty\n",
            "69 70 71 input_ids is empty\n",
            "72 73 74 input_ids is empty\n",
            "75 76 77 input_ids is empty\n",
            "78 79 80 input_ids is empty\n",
            "81 82 83 input_ids is empty\n",
            "84 85 86 input_ids is empty\n",
            "87 88 89 input_ids is empty\n",
            "90 91 92 input_ids is empty\n",
            "93 94 95 input_ids is empty\n",
            "96 97 98 input_ids is empty\n",
            "99 100 101 input_ids is empty\n",
            "102 103 104 input_ids is empty\n",
            "105 106 107 input_ids is empty\n",
            "108 109 110 input_ids is empty\n",
            "111 112 113 input_ids is empty\n",
            "114 115 116 input_ids is empty\n",
            "117 118 119 input_ids is empty\n",
            "120 121 122 input_ids is empty\n",
            "123 124 125 input_ids is empty\n",
            "126 127 128 input_ids is empty\n",
            "129 130 131 input_ids is empty\n",
            "132 133 134 input_ids is empty\n",
            "135 136 137 input_ids is empty\n",
            "138 139 140 input_ids is empty\n",
            "141 142 143 input_ids is empty\n",
            "144 145 146 input_ids is empty\n",
            "147 148 149 input_ids is empty\n",
            "150 151 152 input_ids is empty\n",
            "153 154 155 input_ids is empty\n",
            "156 157 158 input_ids is empty\n",
            "159 160 161 input_ids is empty\n",
            "162 163 164 input_ids is empty\n",
            "165 166 167 input_ids is empty\n",
            "168 169 170 input_ids is empty\n",
            "171 172 173 input_ids is empty\n",
            "174 175 176 input_ids is empty\n",
            "177 178 179 input_ids is empty\n",
            "180 181 182 input_ids is empty\n",
            "183 184 185 input_ids is empty\n",
            "186 187 188 input_ids is empty\n",
            "189 190 191 input_ids is empty\n",
            "192 193 194 input_ids is empty\n",
            "195 196 197 input_ids is empty\n",
            "198 199 200 input_ids is empty\n",
            "201 202 203 input_ids is empty\n",
            "204 205 206 input_ids is empty\n",
            "207 208 209 input_ids is empty\n",
            "210 211 212 input_ids is empty\n",
            "213 214 215 input_ids is empty\n",
            "216 217 218 input_ids is empty\n",
            "219 220 221 input_ids is empty\n",
            "222 223 224 input_ids is empty\n",
            "225 226 227 input_ids is empty\n",
            "228 229 230 input_ids is empty\n",
            "231 232 233 input_ids is empty\n",
            "234 235 236 input_ids is empty\n",
            "237 238 239 input_ids is empty\n",
            "240 241 242 input_ids is empty\n",
            "243 244 245 input_ids is empty\n",
            "246 247 248 input_ids is empty\n",
            "249 250 251 input_ids is empty\n",
            "252 253 254 input_ids is empty\n",
            "255 256 257 input_ids is empty\n",
            "258 259 260 input_ids is empty\n",
            "261 262 263 input_ids is empty\n",
            "264 265 266 input_ids is empty\n",
            "267 268 269 input_ids is empty\n",
            "270 271 272 input_ids is empty\n",
            "273 274 275 input_ids is empty\n",
            "276 277 278 input_ids is empty\n",
            "279 280 281 input_ids is empty\n",
            "282 283 284 input_ids is empty\n",
            "285 286 287 input_ids is empty\n",
            "288 289 290 input_ids is empty\n",
            "291 292 293 input_ids is empty\n",
            "294 295 296 input_ids is empty\n",
            "297 298 299 input_ids is empty\n",
            "300 301 302 input_ids is empty\n",
            "303 304 305 input_ids is empty\n",
            "306 307 308 input_ids is empty\n",
            "309 310 311 input_ids is empty\n",
            "312 313 314 input_ids is empty\n",
            "315 316 317 input_ids is empty\n",
            "318 319 320 input_ids is empty\n",
            "321 322 323 input_ids is empty\n",
            "324 325 326 input_ids is empty\n",
            "327 328 329 input_ids is empty\n",
            "330 331 332 input_ids is empty\n",
            "333 334 335 input_ids is empty\n",
            "336 337 338 input_ids is empty\n",
            "339 340 341 input_ids is empty\n",
            "342 343 344 input_ids is empty\n",
            "345 346 347 input_ids is empty\n",
            "348 349 350 input_ids is empty\n",
            "351 352 353 input_ids is empty\n",
            "354 355 356 input_ids is empty\n",
            "357 358 359 input_ids is empty\n",
            "360 361 362 input_ids is empty\n",
            "363 364 365 input_ids is empty\n",
            "366 367 368 input_ids is empty\n",
            "369 370 371 input_ids is empty\n",
            "372 373 374 input_ids is empty\n",
            "375 376 377 input_ids is empty\n",
            "378 379 380 input_ids is empty\n",
            "381 382 383 input_ids is empty\n",
            "384 385 386 input_ids is empty\n",
            "387 388 389 input_ids is empty\n",
            "390 391 392 input_ids is empty\n",
            "393 394 395 input_ids is empty\n",
            "396 397 398 input_ids is empty\n",
            "399 400 401 input_ids is empty\n",
            "402 403 404 input_ids is empty\n",
            "405 406 407 input_ids is empty\n",
            "408 409 410 input_ids is empty\n",
            "411 412 413 input_ids is empty\n",
            "414 415 416 input_ids is empty\n",
            "417 418 419 input_ids is empty\n",
            "420 421 422 input_ids is empty\n",
            "423 424 425 input_ids is empty\n",
            "426 427 428 input_ids is empty\n",
            "429 430 431 input_ids is empty\n",
            "432 433 434 input_ids is empty\n",
            "435 436 437 input_ids is empty\n",
            "438 439 440 input_ids is empty\n",
            "441 442 443 input_ids is empty\n",
            "444 445 446 input_ids is empty\n",
            "447 448 449 input_ids is empty\n",
            "450 451 452 input_ids is empty\n",
            "453 454 455 input_ids is empty\n",
            "456 457 458 input_ids is empty\n",
            "459 460 461 input_ids is empty\n",
            "462 463 464 input_ids is empty\n",
            "465 466 467 input_ids is empty\n",
            "468 469 470 input_ids is empty\n",
            "471 472 473 input_ids is empty\n",
            "474 475 476 input_ids is empty\n",
            "477 478 479 input_ids is empty\n",
            "480 481 482 input_ids is empty\n",
            "483 484 485 input_ids is empty\n",
            "486 487 488 input_ids is empty\n",
            "489 490 491 input_ids is empty\n",
            "492 493 494 input_ids is empty\n",
            "495 496 497 input_ids is empty\n"
          ]
        },
        {
          "data": {
            "text/plain": [
              "498"
            ]
          },
          "execution_count": 30,
          "metadata": {},
          "output_type": "execute_result"
        }
      ],
      "source": [
        "# predict all text\n",
        "pred_label_all = []\n",
        "for index, text in enumerate(texts):\n",
        "    print(index, end=' ')\n",
        "    pred_label_all.append(predict(text))\n",
        "len(pred_label_all)\n",
        "\n"
      ]
    },
    {
      "cell_type": "code",
      "execution_count": null,
      "id": "9f448a39-b5d1-4c4e-bf80-9e05a1d445d5",
      "metadata": {
        "tags": [],
        "id": "9f448a39-b5d1-4c4e-bf80-9e05a1d445d5"
      },
      "outputs": [],
      "source": [
        "# delete all special token\n",
        "for i, pred in enumerate(pred_label_all):\n",
        "    if len(pred) == 512:\n",
        "        pred_label_all[i] = pred[1:-1]"
      ]
    },
    {
      "cell_type": "code",
      "execution_count": null,
      "id": "eeedf1a9-936a-4f42-8021-c52b470915b0",
      "metadata": {
        "tags": [],
        "id": "eeedf1a9-936a-4f42-8021-c52b470915b0",
        "outputId": "c5c43fde-809d-4716-f0ab-9235d1c40af6"
      },
      "outputs": [
        {
          "data": {
            "text/plain": [
              "498"
            ]
          },
          "execution_count": 32,
          "metadata": {},
          "output_type": "execute_result"
        }
      ],
      "source": [
        "# convert all IDs into labels\n",
        "pred_id_all = []\n",
        "for item in pred_label_all:\n",
        "    pred_id_all.append([label2id[i] for i in item])\n",
        "len(pred_id_all)"
      ]
    },
    {
      "cell_type": "code",
      "execution_count": null,
      "id": "67a04063-8ebe-46fb-a5d7-395a1b450a33",
      "metadata": {
        "tags": [],
        "id": "67a04063-8ebe-46fb-a5d7-395a1b450a33"
      },
      "outputs": [],
      "source": [
        "# checking if all gold and pred are same len\n",
        "# reutrn list with indices of all missmatches\n",
        "def check_len(gold, pred):\n",
        "    missmatch_index = []\n",
        "    for index, (gold, pred) in enumerate(zip(gold, pred)):\n",
        "        if len(gold)==len(pred):\n",
        "            #print(\"yes\")\n",
        "            continue\n",
        "        else:\n",
        "            missmatch_index.append(index)\n",
        "    print(\"indices to del:\" + str(missmatch_index))\n",
        "    return missmatch_index"
      ]
    },
    {
      "cell_type": "code",
      "execution_count": null,
      "id": "e77a2fd3-be25-4542-9172-df4e4e2e7416",
      "metadata": {
        "tags": [],
        "id": "e77a2fd3-be25-4542-9172-df4e4e2e7416"
      },
      "outputs": [],
      "source": [
        "# delete all missmatches from both sets\n",
        "def del_missmatches(list1, list2, indices_to_del):\n",
        "    for index in sorted(indices_to_del, reverse=True):\n",
        "            del list1[index]\n",
        "            del list2[index]"
      ]
    },
    {
      "cell_type": "code",
      "execution_count": null,
      "id": "c566ae2d-09b0-4ad2-b7f2-f3ba89554151",
      "metadata": {
        "tags": [],
        "id": "c566ae2d-09b0-4ad2-b7f2-f3ba89554151",
        "outputId": "884e8c7c-16d9-4012-b344-24e79da61c6a"
      },
      "outputs": [
        {
          "name": "stdout",
          "output_type": "stream",
          "text": [
            "len befor:\n",
            "498\n",
            "498\n",
            "498\n",
            "498\n",
            "indices to del:[]\n",
            "len after:\n",
            "498\n",
            "498\n",
            "498\n",
            "498\n"
          ]
        }
      ],
      "source": [
        "# copy _all files\n",
        "gold_id = gold_id_all[:] \n",
        "gold_label = gold_label_all[:]\n",
        "pred_id = pred_id_all[:]\n",
        "pred_label = pred_label_all[:]\n",
        "all = [gold_id, gold_label, pred_id, pred_label]\n",
        "print('len befor:')\n",
        "for listi in all:\n",
        "    print(len(listi))\n",
        "# get indicies with missmatch\n",
        "# and delete them from both sets\n",
        "indices_to_del = check_len(gold_id, pred_id)\n",
        "del_missmatches(gold_id , pred_id, indices_to_del)\n",
        "del_missmatches(gold_label , pred_label, indices_to_del)\n",
        "print('len after:')\n",
        "for listi in all:\n",
        "    print(len(listi))\n",
        "    \n"
      ]
    },
    {
      "cell_type": "code",
      "execution_count": null,
      "id": "7eed2d19-3031-4dec-8d71-c0350e6dd6fd",
      "metadata": {
        "tags": [],
        "id": "7eed2d19-3031-4dec-8d71-c0350e6dd6fd",
        "outputId": "4ef7f814-7e04-49e6-a0ee-21c9a3dc9da9"
      },
      "outputs": [
        {
          "name": "stdout",
          "output_type": "stream",
          "text": [
            "27\n",
            "27\n"
          ]
        }
      ],
      "source": [
        "print(len(dataset['test']['input_ids'][0][1:-1]))\n",
        "print(len(gold_label[0]))"
      ]
    },
    {
      "cell_type": "code",
      "execution_count": null,
      "id": "954206f8-3de4-4fd2-9237-bfc7295d1dae",
      "metadata": {
        "id": "954206f8-3de4-4fd2-9237-bfc7295d1dae"
      },
      "outputs": [],
      "source": [
        "i = 0\n",
        "for (pred, gold, inIDs) in zip(pred_label, gold_label, dataset['test']['input_ids']):\n",
        "    print(i, len(pred), len(inIDs[1:-1]), end=\"\\n\")\n",
        "    i = i+1\n",
        "    for i, (label1, label2, inID) in enumerate(zip(pred, gold, inIDs[1:-1])):\n",
        "        print(i, tokenizer.decode(inID), \":(\" + str(label1), \",\", label2 + ')')\n",
        "        if label1 != label2:\n",
        "            print(\"#########################\")\n",
        "            #print(\":(\" + str(label1), \",\", label2, end=')\\n')\n",
        "    print(\" \")"
      ]
    },
    {
      "cell_type": "code",
      "execution_count": null,
      "id": "d273e315-9bcf-4c1b-90e3-ac143eb4672a",
      "metadata": {
        "tags": [],
        "id": "d273e315-9bcf-4c1b-90e3-ac143eb4672a"
      },
      "outputs": [],
      "source": [
        "############################################################\n",
        "######################### seqeval ##########################\n",
        "############################################################"
      ]
    },
    {
      "cell_type": "code",
      "execution_count": null,
      "id": "0721e886-5693-4594-8dca-73e823eb46dd",
      "metadata": {
        "tags": [],
        "id": "0721e886-5693-4594-8dca-73e823eb46dd"
      },
      "outputs": [],
      "source": [
        "from seqeval.metrics import accuracy_score\n",
        "from seqeval.metrics import classification_report\n",
        "from seqeval.metrics import f1_score\n",
        "from seqeval.scheme import IOB2"
      ]
    },
    {
      "cell_type": "code",
      "execution_count": null,
      "id": "3634f920-9971-477a-bb9b-429afd532cec",
      "metadata": {
        "tags": [],
        "id": "3634f920-9971-477a-bb9b-429afd532cec",
        "outputId": "d00e3b5a-11ac-4183-aa7e-0c4d1d39b8e0"
      },
      "outputs": [
        {
          "name": "stdout",
          "output_type": "stream",
          "text": [
            "\n",
            "\n",
            "------------------------------------------------------------\n",
            "    SeqEval strict\n",
            "------------------------------------------------------------\n",
            "strict: \n",
            "                 precision    recall  f1-score   support\n",
            "\n",
            "    DNAMutation       0.82      0.78      0.80       220\n",
            "ProteinMutation       0.93      0.85      0.89       205\n",
            "            SNP       0.95      0.95      0.95        39\n",
            "\n",
            "      micro avg       0.88      0.83      0.85       464\n",
            "      macro avg       0.90      0.86      0.88       464\n",
            "   weighted avg       0.88      0.83      0.85       464\n",
            "\n",
            "\n",
            "\n",
            "------------------------------------------------------------\n",
            "    SeqEval default\n",
            "------------------------------------------------------------\n",
            "default: \n",
            "                 precision    recall  f1-score   support\n",
            "\n",
            "    DNAMutation       0.72      0.79      0.75       220\n",
            "ProteinMutation       0.90      0.86      0.88       205\n",
            "            SNP       0.95      0.95      0.95        39\n",
            "\n",
            "      micro avg       0.81      0.84      0.82       464\n",
            "      macro avg       0.86      0.87      0.86       464\n",
            "   weighted avg       0.82      0.84      0.83       464\n",
            "\n"
          ]
        }
      ],
      "source": [
        "# generate metrics\n",
        "print(\"\\n\")\n",
        "print(\"-\"*60 + \"\\n\" + \"    SeqEval strict\\n\" + \"-\"*60)\n",
        "print(\"strict: \\n\" + classification_report(gold_label, pred_label,  mode='strict'))\n",
        "print(\"\\n\")\n",
        "print(\"-\"*60 + \"\\n\" + \"    SeqEval default\\n\" + \"-\"*60)\n",
        "print(\"default: \\n\" + classification_report(gold_label, pred_label))"
      ]
    },
    {
      "cell_type": "code",
      "execution_count": null,
      "id": "617853df-8f3c-4c91-ab77-9198705eb85e",
      "metadata": {
        "tags": [],
        "id": "617853df-8f3c-4c91-ab77-9198705eb85e",
        "outputId": "337a29eb-f4c6-4ebc-d664-1cc15fea642e"
      },
      "outputs": [
        {
          "name": "stdout",
          "output_type": "stream",
          "text": [
            "                 precision    recall  f1-score  support\n",
            "DNAMutation       0.818182  0.777273  0.797203    220.0\n",
            "ProteinMutation   0.930851  0.853659  0.890585    205.0\n",
            "SNP               0.948718  0.948718  0.948718     39.0\n",
            "micro avg         0.878440  0.825431  0.851111    464.0\n",
            "macro avg         0.899250  0.859883  0.878835    464.0\n",
            "weighted avg      0.878932  0.825431  0.851195    464.0\n"
          ]
        },
        {
          "ename": "PermissionError",
          "evalue": "[Errno 13] Permission denied: 'tmvar\\\\ 2e-05_0404_ES6_strict_tok1.xlsx'",
          "output_type": "error",
          "traceback": [
            "\u001b[1;31m---------------------------------------------------------------------------\u001b[0m",
            "\u001b[1;31mPermissionError\u001b[0m                           Traceback (most recent call last)",
            "Cell \u001b[1;32mIn[51], line 8\u001b[0m\n\u001b[0;32m      6\u001b[0m \u001b[38;5;66;03m# With a Sheet Name\u001b[39;00m\n\u001b[0;32m      7\u001b[0m file_name \u001b[38;5;241m=\u001b[39m \u001b[38;5;124m\"\u001b[39m\u001b[38;5;124mtmvar\u001b[39m\u001b[38;5;124m\"\u001b[39m \u001b[38;5;241m+\u001b[39m saveName\n\u001b[1;32m----> 8\u001b[0m \u001b[43mreport\u001b[49m\u001b[38;5;241;43m.\u001b[39;49m\u001b[43mto_excel\u001b[49m\u001b[43m(\u001b[49m\u001b[38;5;124;43m'\u001b[39;49m\u001b[38;5;124;43mtmvar\u001b[39;49m\u001b[38;5;124;43m\\\u001b[39;49m\u001b[38;5;124;43m \u001b[39;49m\u001b[38;5;124;43m'\u001b[39;49m\u001b[43m \u001b[49m\u001b[38;5;241;43m+\u001b[39;49m\u001b[43m \u001b[49m\u001b[43msaveName\u001b[49m\u001b[43m \u001b[49m\u001b[38;5;241;43m+\u001b[39;49m\u001b[43m \u001b[49m\u001b[38;5;124;43m'\u001b[39;49m\u001b[38;5;124;43m.xlsx\u001b[39;49m\u001b[38;5;124;43m'\u001b[39;49m\u001b[43m,\u001b[49m\u001b[43m \u001b[49m\u001b[43mindex\u001b[49m\u001b[38;5;241;43m=\u001b[39;49m\u001b[38;5;28;43;01mTrue\u001b[39;49;00m\u001b[43m)\u001b[49m\n",
            "File \u001b[1;32m~\\AppData\\Local\\Programs\\Python\\Python310\\lib\\site-packages\\pandas\\util\\_decorators.py:211\u001b[0m, in \u001b[0;36mdeprecate_kwarg.<locals>._deprecate_kwarg.<locals>.wrapper\u001b[1;34m(*args, **kwargs)\u001b[0m\n\u001b[0;32m    209\u001b[0m     \u001b[38;5;28;01melse\u001b[39;00m:\n\u001b[0;32m    210\u001b[0m         kwargs[new_arg_name] \u001b[38;5;241m=\u001b[39m new_arg_value\n\u001b[1;32m--> 211\u001b[0m \u001b[38;5;28;01mreturn\u001b[39;00m func(\u001b[38;5;241m*\u001b[39margs, \u001b[38;5;241m*\u001b[39m\u001b[38;5;241m*\u001b[39mkwargs)\n",
            "File \u001b[1;32m~\\AppData\\Local\\Programs\\Python\\Python310\\lib\\site-packages\\pandas\\util\\_decorators.py:211\u001b[0m, in \u001b[0;36mdeprecate_kwarg.<locals>._deprecate_kwarg.<locals>.wrapper\u001b[1;34m(*args, **kwargs)\u001b[0m\n\u001b[0;32m    209\u001b[0m     \u001b[38;5;28;01melse\u001b[39;00m:\n\u001b[0;32m    210\u001b[0m         kwargs[new_arg_name] \u001b[38;5;241m=\u001b[39m new_arg_value\n\u001b[1;32m--> 211\u001b[0m \u001b[38;5;28;01mreturn\u001b[39;00m func(\u001b[38;5;241m*\u001b[39margs, \u001b[38;5;241m*\u001b[39m\u001b[38;5;241m*\u001b[39mkwargs)\n",
            "File \u001b[1;32m~\\AppData\\Local\\Programs\\Python\\Python310\\lib\\site-packages\\pandas\\core\\generic.py:2374\u001b[0m, in \u001b[0;36mNDFrame.to_excel\u001b[1;34m(self, excel_writer, sheet_name, na_rep, float_format, columns, header, index, index_label, startrow, startcol, engine, merge_cells, encoding, inf_rep, verbose, freeze_panes, storage_options)\u001b[0m\n\u001b[0;32m   2361\u001b[0m \u001b[38;5;28;01mfrom\u001b[39;00m \u001b[38;5;21;01mpandas\u001b[39;00m\u001b[38;5;21;01m.\u001b[39;00m\u001b[38;5;21;01mio\u001b[39;00m\u001b[38;5;21;01m.\u001b[39;00m\u001b[38;5;21;01mformats\u001b[39;00m\u001b[38;5;21;01m.\u001b[39;00m\u001b[38;5;21;01mexcel\u001b[39;00m \u001b[38;5;28;01mimport\u001b[39;00m ExcelFormatter\n\u001b[0;32m   2363\u001b[0m formatter \u001b[38;5;241m=\u001b[39m ExcelFormatter(\n\u001b[0;32m   2364\u001b[0m     df,\n\u001b[0;32m   2365\u001b[0m     na_rep\u001b[38;5;241m=\u001b[39mna_rep,\n\u001b[1;32m   (...)\u001b[0m\n\u001b[0;32m   2372\u001b[0m     inf_rep\u001b[38;5;241m=\u001b[39minf_rep,\n\u001b[0;32m   2373\u001b[0m )\n\u001b[1;32m-> 2374\u001b[0m \u001b[43mformatter\u001b[49m\u001b[38;5;241;43m.\u001b[39;49m\u001b[43mwrite\u001b[49m\u001b[43m(\u001b[49m\n\u001b[0;32m   2375\u001b[0m \u001b[43m    \u001b[49m\u001b[43mexcel_writer\u001b[49m\u001b[43m,\u001b[49m\n\u001b[0;32m   2376\u001b[0m \u001b[43m    \u001b[49m\u001b[43msheet_name\u001b[49m\u001b[38;5;241;43m=\u001b[39;49m\u001b[43msheet_name\u001b[49m\u001b[43m,\u001b[49m\n\u001b[0;32m   2377\u001b[0m \u001b[43m    \u001b[49m\u001b[43mstartrow\u001b[49m\u001b[38;5;241;43m=\u001b[39;49m\u001b[43mstartrow\u001b[49m\u001b[43m,\u001b[49m\n\u001b[0;32m   2378\u001b[0m \u001b[43m    \u001b[49m\u001b[43mstartcol\u001b[49m\u001b[38;5;241;43m=\u001b[39;49m\u001b[43mstartcol\u001b[49m\u001b[43m,\u001b[49m\n\u001b[0;32m   2379\u001b[0m \u001b[43m    \u001b[49m\u001b[43mfreeze_panes\u001b[49m\u001b[38;5;241;43m=\u001b[39;49m\u001b[43mfreeze_panes\u001b[49m\u001b[43m,\u001b[49m\n\u001b[0;32m   2380\u001b[0m \u001b[43m    \u001b[49m\u001b[43mengine\u001b[49m\u001b[38;5;241;43m=\u001b[39;49m\u001b[43mengine\u001b[49m\u001b[43m,\u001b[49m\n\u001b[0;32m   2381\u001b[0m \u001b[43m    \u001b[49m\u001b[43mstorage_options\u001b[49m\u001b[38;5;241;43m=\u001b[39;49m\u001b[43mstorage_options\u001b[49m\u001b[43m,\u001b[49m\n\u001b[0;32m   2382\u001b[0m \u001b[43m\u001b[49m\u001b[43m)\u001b[49m\n",
            "File \u001b[1;32m~\\AppData\\Local\\Programs\\Python\\Python310\\lib\\site-packages\\pandas\\io\\formats\\excel.py:918\u001b[0m, in \u001b[0;36mExcelFormatter.write\u001b[1;34m(self, writer, sheet_name, startrow, startcol, freeze_panes, engine, storage_options)\u001b[0m\n\u001b[0;32m    914\u001b[0m     need_save \u001b[38;5;241m=\u001b[39m \u001b[38;5;28;01mFalse\u001b[39;00m\n\u001b[0;32m    915\u001b[0m \u001b[38;5;28;01melse\u001b[39;00m:\n\u001b[0;32m    916\u001b[0m     \u001b[38;5;66;03m# error: Cannot instantiate abstract class 'ExcelWriter' with abstract\u001b[39;00m\n\u001b[0;32m    917\u001b[0m     \u001b[38;5;66;03m# attributes 'engine', 'save', 'supported_extensions' and 'write_cells'\u001b[39;00m\n\u001b[1;32m--> 918\u001b[0m     writer \u001b[38;5;241m=\u001b[39m \u001b[43mExcelWriter\u001b[49m\u001b[43m(\u001b[49m\u001b[43m  \u001b[49m\u001b[38;5;66;43;03m# type: ignore[abstract]\u001b[39;49;00m\n\u001b[0;32m    919\u001b[0m \u001b[43m        \u001b[49m\u001b[43mwriter\u001b[49m\u001b[43m,\u001b[49m\u001b[43m \u001b[49m\u001b[43mengine\u001b[49m\u001b[38;5;241;43m=\u001b[39;49m\u001b[43mengine\u001b[49m\u001b[43m,\u001b[49m\u001b[43m \u001b[49m\u001b[43mstorage_options\u001b[49m\u001b[38;5;241;43m=\u001b[39;49m\u001b[43mstorage_options\u001b[49m\n\u001b[0;32m    920\u001b[0m \u001b[43m    \u001b[49m\u001b[43m)\u001b[49m\n\u001b[0;32m    921\u001b[0m     need_save \u001b[38;5;241m=\u001b[39m \u001b[38;5;28;01mTrue\u001b[39;00m\n\u001b[0;32m    923\u001b[0m \u001b[38;5;28;01mtry\u001b[39;00m:\n",
            "File \u001b[1;32m~\\AppData\\Local\\Programs\\Python\\Python310\\lib\\site-packages\\pandas\\io\\excel\\_openpyxl.py:60\u001b[0m, in \u001b[0;36mOpenpyxlWriter.__init__\u001b[1;34m(self, path, engine, date_format, datetime_format, mode, storage_options, if_sheet_exists, engine_kwargs, **kwargs)\u001b[0m\n\u001b[0;32m     56\u001b[0m \u001b[38;5;28;01mfrom\u001b[39;00m \u001b[38;5;21;01mopenpyxl\u001b[39;00m\u001b[38;5;21;01m.\u001b[39;00m\u001b[38;5;21;01mworkbook\u001b[39;00m \u001b[38;5;28;01mimport\u001b[39;00m Workbook\n\u001b[0;32m     58\u001b[0m engine_kwargs \u001b[38;5;241m=\u001b[39m combine_kwargs(engine_kwargs, kwargs)\n\u001b[1;32m---> 60\u001b[0m \u001b[38;5;28;43msuper\u001b[39;49m\u001b[43m(\u001b[49m\u001b[43m)\u001b[49m\u001b[38;5;241;43m.\u001b[39;49m\u001b[38;5;21;43m__init__\u001b[39;49m\u001b[43m(\u001b[49m\n\u001b[0;32m     61\u001b[0m \u001b[43m    \u001b[49m\u001b[43mpath\u001b[49m\u001b[43m,\u001b[49m\n\u001b[0;32m     62\u001b[0m \u001b[43m    \u001b[49m\u001b[43mmode\u001b[49m\u001b[38;5;241;43m=\u001b[39;49m\u001b[43mmode\u001b[49m\u001b[43m,\u001b[49m\n\u001b[0;32m     63\u001b[0m \u001b[43m    \u001b[49m\u001b[43mstorage_options\u001b[49m\u001b[38;5;241;43m=\u001b[39;49m\u001b[43mstorage_options\u001b[49m\u001b[43m,\u001b[49m\n\u001b[0;32m     64\u001b[0m \u001b[43m    \u001b[49m\u001b[43mif_sheet_exists\u001b[49m\u001b[38;5;241;43m=\u001b[39;49m\u001b[43mif_sheet_exists\u001b[49m\u001b[43m,\u001b[49m\n\u001b[0;32m     65\u001b[0m \u001b[43m    \u001b[49m\u001b[43mengine_kwargs\u001b[49m\u001b[38;5;241;43m=\u001b[39;49m\u001b[43mengine_kwargs\u001b[49m\u001b[43m,\u001b[49m\n\u001b[0;32m     66\u001b[0m \u001b[43m\u001b[49m\u001b[43m)\u001b[49m\n\u001b[0;32m     68\u001b[0m \u001b[38;5;66;03m# ExcelWriter replaced \"a\" by \"r+\" to allow us to first read the excel file from\u001b[39;00m\n\u001b[0;32m     69\u001b[0m \u001b[38;5;66;03m# the file and later write to it\u001b[39;00m\n\u001b[0;32m     70\u001b[0m \u001b[38;5;28;01mif\u001b[39;00m \u001b[38;5;124m\"\u001b[39m\u001b[38;5;124mr+\u001b[39m\u001b[38;5;124m\"\u001b[39m \u001b[38;5;129;01min\u001b[39;00m \u001b[38;5;28mself\u001b[39m\u001b[38;5;241m.\u001b[39m_mode:  \u001b[38;5;66;03m# Load from existing workbook\u001b[39;00m\n",
            "File \u001b[1;32m~\\AppData\\Local\\Programs\\Python\\Python310\\lib\\site-packages\\pandas\\io\\excel\\_base.py:1313\u001b[0m, in \u001b[0;36mExcelWriter.__init__\u001b[1;34m(self, path, engine, date_format, datetime_format, mode, storage_options, if_sheet_exists, engine_kwargs, **kwargs)\u001b[0m\n\u001b[0;32m   1309\u001b[0m \u001b[38;5;28mself\u001b[39m\u001b[38;5;241m.\u001b[39m_handles \u001b[38;5;241m=\u001b[39m IOHandles(\n\u001b[0;32m   1310\u001b[0m     cast(IO[\u001b[38;5;28mbytes\u001b[39m], path), compression\u001b[38;5;241m=\u001b[39m{\u001b[38;5;124m\"\u001b[39m\u001b[38;5;124mcompression\u001b[39m\u001b[38;5;124m\"\u001b[39m: \u001b[38;5;28;01mNone\u001b[39;00m}\n\u001b[0;32m   1311\u001b[0m )\n\u001b[0;32m   1312\u001b[0m \u001b[38;5;28;01mif\u001b[39;00m \u001b[38;5;129;01mnot\u001b[39;00m \u001b[38;5;28misinstance\u001b[39m(path, ExcelWriter):\n\u001b[1;32m-> 1313\u001b[0m     \u001b[38;5;28mself\u001b[39m\u001b[38;5;241m.\u001b[39m_handles \u001b[38;5;241m=\u001b[39m \u001b[43mget_handle\u001b[49m\u001b[43m(\u001b[49m\n\u001b[0;32m   1314\u001b[0m \u001b[43m        \u001b[49m\u001b[43mpath\u001b[49m\u001b[43m,\u001b[49m\u001b[43m \u001b[49m\u001b[43mmode\u001b[49m\u001b[43m,\u001b[49m\u001b[43m \u001b[49m\u001b[43mstorage_options\u001b[49m\u001b[38;5;241;43m=\u001b[39;49m\u001b[43mstorage_options\u001b[49m\u001b[43m,\u001b[49m\u001b[43m \u001b[49m\u001b[43mis_text\u001b[49m\u001b[38;5;241;43m=\u001b[39;49m\u001b[38;5;28;43;01mFalse\u001b[39;49;00m\n\u001b[0;32m   1315\u001b[0m \u001b[43m    \u001b[49m\u001b[43m)\u001b[49m\n\u001b[0;32m   1316\u001b[0m \u001b[38;5;28mself\u001b[39m\u001b[38;5;241m.\u001b[39m_cur_sheet \u001b[38;5;241m=\u001b[39m \u001b[38;5;28;01mNone\u001b[39;00m\n\u001b[0;32m   1318\u001b[0m \u001b[38;5;28;01mif\u001b[39;00m date_format \u001b[38;5;129;01mis\u001b[39;00m \u001b[38;5;28;01mNone\u001b[39;00m:\n",
            "File \u001b[1;32m~\\AppData\\Local\\Programs\\Python\\Python310\\lib\\site-packages\\pandas\\io\\common.py:865\u001b[0m, in \u001b[0;36mget_handle\u001b[1;34m(path_or_buf, mode, encoding, compression, memory_map, is_text, errors, storage_options)\u001b[0m\n\u001b[0;32m    856\u001b[0m         handle \u001b[38;5;241m=\u001b[39m \u001b[38;5;28mopen\u001b[39m(\n\u001b[0;32m    857\u001b[0m             handle,\n\u001b[0;32m    858\u001b[0m             ioargs\u001b[38;5;241m.\u001b[39mmode,\n\u001b[1;32m   (...)\u001b[0m\n\u001b[0;32m    861\u001b[0m             newline\u001b[38;5;241m=\u001b[39m\u001b[38;5;124m\"\u001b[39m\u001b[38;5;124m\"\u001b[39m,\n\u001b[0;32m    862\u001b[0m         )\n\u001b[0;32m    863\u001b[0m     \u001b[38;5;28;01melse\u001b[39;00m:\n\u001b[0;32m    864\u001b[0m         \u001b[38;5;66;03m# Binary mode\u001b[39;00m\n\u001b[1;32m--> 865\u001b[0m         handle \u001b[38;5;241m=\u001b[39m \u001b[38;5;28;43mopen\u001b[39;49m\u001b[43m(\u001b[49m\u001b[43mhandle\u001b[49m\u001b[43m,\u001b[49m\u001b[43m \u001b[49m\u001b[43mioargs\u001b[49m\u001b[38;5;241;43m.\u001b[39;49m\u001b[43mmode\u001b[49m\u001b[43m)\u001b[49m\n\u001b[0;32m    866\u001b[0m     handles\u001b[38;5;241m.\u001b[39mappend(handle)\n\u001b[0;32m    868\u001b[0m \u001b[38;5;66;03m# Convert BytesIO or file objects passed with an encoding\u001b[39;00m\n",
            "\u001b[1;31mPermissionError\u001b[0m: [Errno 13] Permission denied: 'tmvar\\\\ 2e-05_0404_ES6_strict_tok1.xlsx'"
          ]
        }
      ],
      "source": [
        "# save reports as csv\n",
        "import pandas as pd\n",
        "report = pd.DataFrame(classification_report(gold_label, pred_label, mode='strict', digits=2, output_dict=True)).transpose()\n",
        "print(report)\n",
        "df = pd.DataFrame(report)#.transpose()\n",
        "# With a Sheet Name\n",
        "file_name = \"tmvar\" + saveName\n",
        "report.to_excel('tmvar\\ ' + saveName + '.xlsx', index=True)"
      ]
    },
    {
      "cell_type": "code",
      "execution_count": null,
      "id": "e4a3b016-f463-4894-83d3-a41022d924dd",
      "metadata": {
        "id": "e4a3b016-f463-4894-83d3-a41022d924dd"
      },
      "outputs": [],
      "source": [
        "#######################################################\n",
        "####################### sklearn #######################\n",
        "#######################################################"
      ]
    },
    {
      "cell_type": "code",
      "execution_count": null,
      "id": "37445535-5d68-4a9e-877f-1792b089a434",
      "metadata": {
        "tags": [],
        "id": "37445535-5d68-4a9e-877f-1792b089a434"
      },
      "outputs": [],
      "source": [
        "from sklearn.metrics import confusion_matrix\n",
        "from sklearn.utils.multiclass import unique_labels\n",
        "import pandas as pd\n",
        "import seaborn as sns\n",
        "import evaluate"
      ]
    },
    {
      "cell_type": "code",
      "execution_count": null,
      "id": "a1242d4e-9270-4ae7-83ad-b8a8efb0622b",
      "metadata": {
        "tags": [],
        "id": "a1242d4e-9270-4ae7-83ad-b8a8efb0622b",
        "outputId": "d88eeabe-c390-4d2b-f4a6-baabe96674f9"
      },
      "outputs": [
        {
          "data": {
            "text/plain": [
              "53340"
            ]
          },
          "execution_count": 53,
          "metadata": {},
          "output_type": "execute_result"
        }
      ],
      "source": [
        "y_pred = []\n",
        "for sublist in pred_id:\n",
        "    for label in sublist:\n",
        "        y_pred.append(label)\n",
        "len(y_pred)"
      ]
    },
    {
      "cell_type": "code",
      "execution_count": null,
      "id": "1706389a-85cb-4b89-b302-92f5c3e45290",
      "metadata": {
        "tags": [],
        "id": "1706389a-85cb-4b89-b302-92f5c3e45290",
        "outputId": "77f78d09-cf37-4349-ca23-1f662eb63688"
      },
      "outputs": [
        {
          "data": {
            "text/plain": [
              "53340"
            ]
          },
          "execution_count": 54,
          "metadata": {},
          "output_type": "execute_result"
        }
      ],
      "source": [
        "y_true = []\n",
        "for sublist in gold_id:\n",
        "    for label in sublist:\n",
        "        y_true.append(label)\n",
        "len(y_true)"
      ]
    },
    {
      "cell_type": "code",
      "execution_count": null,
      "id": "f321664f-d3a7-476b-9f4b-cfa1722c487a",
      "metadata": {
        "tags": [],
        "id": "f321664f-d3a7-476b-9f4b-cfa1722c487a",
        "outputId": "a3971e6b-4328-41a5-8cba-2577baffb527"
      },
      "outputs": [
        {
          "name": "stdout",
          "output_type": "stream",
          "text": [
            "[0 1 2 3 4 5 6]\n",
            "[0 1 2 3 4 5 6]\n"
          ]
        }
      ],
      "source": [
        "print(unique_labels(y_pred))\n",
        "print(unique_labels(y_true))"
      ]
    },
    {
      "cell_type": "code",
      "execution_count": null,
      "id": "2db46878-7436-43d9-93b5-3ef82e020044",
      "metadata": {
        "tags": [],
        "id": "2db46878-7436-43d9-93b5-3ef82e020044",
        "outputId": "dd07d202-15e2-4327-d2f4-ddbaa6a0f29b"
      },
      "outputs": [
        {
          "data": {
            "text/plain": [
              "array([[51073,    12,    63,     5,    15,     0,     2],\n",
              "       [   35,   180,     4,     1,     0,     0,     0],\n",
              "       [   84,     3,   931,     0,     2,     0,     0],\n",
              "       [    6,    14,     0,   182,     3,     0,     0],\n",
              "       [   16,     0,    39,     0,   516,     0,     0],\n",
              "       [    0,     0,     0,     0,     0,    39,     0],\n",
              "       [    0,     0,     0,     0,     0,     0,   115]], dtype=int64)"
            ]
          },
          "execution_count": 56,
          "metadata": {},
          "output_type": "execute_result"
        }
      ],
      "source": [
        "confusion_matrix(y_true, y_pred, labels=[0,1,2,3,4,5,6])"
      ]
    },
    {
      "cell_type": "code",
      "execution_count": null,
      "id": "3c2d3287-667c-4dd6-a9a5-5050bcd8cf71",
      "metadata": {
        "tags": [],
        "id": "3c2d3287-667c-4dd6-a9a5-5050bcd8cf71"
      },
      "outputs": [],
      "source": [
        "def plot(freal, predicted_token_class, label_list):\n",
        "    label_names = label_list #unique_labels(y_true)\n",
        "    columns = [f'{label}' for label in label_names]\n",
        "    index = [f'{label}' for label in label_names]\n",
        "    table = pd.DataFrame(confusion_matrix(y_true, y_pred, labels=[0,1,2,3,4,5,6]), columns=columns, index=index)\n",
        "    return table"
      ]
    },
    {
      "cell_type": "code",
      "execution_count": null,
      "id": "921bcf54-371c-4452-8790-46ec7e8ed720",
      "metadata": {
        "id": "921bcf54-371c-4452-8790-46ec7e8ed720",
        "outputId": "90bb2873-aad6-4e7c-9ba2-e795e2cddc19"
      },
      "outputs": [
        {
          "name": "stdout",
          "output_type": "stream",
          "text": [
            "                       O  B-DNAMutation  I-DNAMutation  B-ProteinMutation  \\\n",
            "O                  51073             12             63                  5   \n",
            "B-DNAMutation         35            180              4                  1   \n",
            "I-DNAMutation         84              3            931                  0   \n",
            "B-ProteinMutation      6             14              0                182   \n",
            "I-ProteinMutation     16              0             39                  0   \n",
            "B-SNP                  0              0              0                  0   \n",
            "I-SNP                  0              0              0                  0   \n",
            "\n",
            "                   I-ProteinMutation  B-SNP  I-SNP  \n",
            "O                                 15      0      2  \n",
            "B-DNAMutation                      0      0      0  \n",
            "I-DNAMutation                      2      0      0  \n",
            "B-ProteinMutation                  3      0      0  \n",
            "I-ProteinMutation                516      0      0  \n",
            "B-SNP                              0     39      0  \n",
            "I-SNP                              0      0    115  \n"
          ]
        },
        {
          "ename": "ValueError",
          "evalue": "No engine for filetype: 'xlsxa'",
          "output_type": "error",
          "traceback": [
            "\u001b[1;31m---------------------------------------------------------------------------\u001b[0m",
            "\u001b[1;31mOptionError\u001b[0m                               Traceback (most recent call last)",
            "File \u001b[1;32m~\\AppData\\Local\\Programs\\Python\\Python310\\lib\\site-packages\\pandas\\io\\excel\\_base.py:1144\u001b[0m, in \u001b[0;36mExcelWriter.__new__\u001b[1;34m(cls, path, engine, date_format, datetime_format, mode, storage_options, if_sheet_exists, engine_kwargs, **kwargs)\u001b[0m\n\u001b[0;32m   1143\u001b[0m \u001b[38;5;28;01mtry\u001b[39;00m:\n\u001b[1;32m-> 1144\u001b[0m     engine \u001b[38;5;241m=\u001b[39m \u001b[43mconfig\u001b[49m\u001b[38;5;241;43m.\u001b[39;49m\u001b[43mget_option\u001b[49m\u001b[43m(\u001b[49m\u001b[38;5;124;43mf\u001b[39;49m\u001b[38;5;124;43m\"\u001b[39;49m\u001b[38;5;124;43mio.excel.\u001b[39;49m\u001b[38;5;132;43;01m{\u001b[39;49;00m\u001b[43mext\u001b[49m\u001b[38;5;132;43;01m}\u001b[39;49;00m\u001b[38;5;124;43m.writer\u001b[39;49m\u001b[38;5;124;43m\"\u001b[39;49m\u001b[43m,\u001b[49m\u001b[43m \u001b[49m\u001b[43msilent\u001b[49m\u001b[38;5;241;43m=\u001b[39;49m\u001b[38;5;28;43;01mTrue\u001b[39;49;00m\u001b[43m)\u001b[49m\n\u001b[0;32m   1145\u001b[0m     \u001b[38;5;28;01mif\u001b[39;00m engine \u001b[38;5;241m==\u001b[39m \u001b[38;5;124m\"\u001b[39m\u001b[38;5;124mauto\u001b[39m\u001b[38;5;124m\"\u001b[39m:\n",
            "File \u001b[1;32m~\\AppData\\Local\\Programs\\Python\\Python310\\lib\\site-packages\\pandas\\_config\\config.py:263\u001b[0m, in \u001b[0;36mCallableDynamicDoc.__call__\u001b[1;34m(self, *args, **kwds)\u001b[0m\n\u001b[0;32m    262\u001b[0m \u001b[38;5;28;01mdef\u001b[39;00m \u001b[38;5;21m__call__\u001b[39m(\u001b[38;5;28mself\u001b[39m, \u001b[38;5;241m*\u001b[39margs, \u001b[38;5;241m*\u001b[39m\u001b[38;5;241m*\u001b[39mkwds) \u001b[38;5;241m-\u001b[39m\u001b[38;5;241m>\u001b[39m T:\n\u001b[1;32m--> 263\u001b[0m     \u001b[38;5;28;01mreturn\u001b[39;00m \u001b[38;5;28mself\u001b[39m\u001b[38;5;241m.\u001b[39m\u001b[38;5;18m__func__\u001b[39m(\u001b[38;5;241m*\u001b[39margs, \u001b[38;5;241m*\u001b[39m\u001b[38;5;241m*\u001b[39mkwds)\n",
            "File \u001b[1;32m~\\AppData\\Local\\Programs\\Python\\Python310\\lib\\site-packages\\pandas\\_config\\config.py:135\u001b[0m, in \u001b[0;36m_get_option\u001b[1;34m(pat, silent)\u001b[0m\n\u001b[0;32m    134\u001b[0m \u001b[38;5;28;01mdef\u001b[39;00m \u001b[38;5;21m_get_option\u001b[39m(pat: \u001b[38;5;28mstr\u001b[39m, silent: \u001b[38;5;28mbool\u001b[39m \u001b[38;5;241m=\u001b[39m \u001b[38;5;28;01mFalse\u001b[39;00m) \u001b[38;5;241m-\u001b[39m\u001b[38;5;241m>\u001b[39m Any:\n\u001b[1;32m--> 135\u001b[0m     key \u001b[38;5;241m=\u001b[39m \u001b[43m_get_single_key\u001b[49m\u001b[43m(\u001b[49m\u001b[43mpat\u001b[49m\u001b[43m,\u001b[49m\u001b[43m \u001b[49m\u001b[43msilent\u001b[49m\u001b[43m)\u001b[49m\n\u001b[0;32m    137\u001b[0m     \u001b[38;5;66;03m# walk the nested dict\u001b[39;00m\n",
            "File \u001b[1;32m~\\AppData\\Local\\Programs\\Python\\Python310\\lib\\site-packages\\pandas\\_config\\config.py:121\u001b[0m, in \u001b[0;36m_get_single_key\u001b[1;34m(pat, silent)\u001b[0m\n\u001b[0;32m    120\u001b[0m         _warn_if_deprecated(pat)\n\u001b[1;32m--> 121\u001b[0m     \u001b[38;5;28;01mraise\u001b[39;00m OptionError(\u001b[38;5;124mf\u001b[39m\u001b[38;5;124m\"\u001b[39m\u001b[38;5;124mNo such keys(s): \u001b[39m\u001b[38;5;132;01m{\u001b[39;00m\u001b[38;5;28mrepr\u001b[39m(pat)\u001b[38;5;132;01m}\u001b[39;00m\u001b[38;5;124m\"\u001b[39m)\n\u001b[0;32m    122\u001b[0m \u001b[38;5;28;01mif\u001b[39;00m \u001b[38;5;28mlen\u001b[39m(keys) \u001b[38;5;241m>\u001b[39m \u001b[38;5;241m1\u001b[39m:\n",
            "\u001b[1;31mOptionError\u001b[0m: No such keys(s): 'io.excel.xlsxa.writer'",
            "\nThe above exception was the direct cause of the following exception:\n",
            "\u001b[1;31mValueError\u001b[0m                                Traceback (most recent call last)",
            "Cell \u001b[1;32mIn[58], line 4\u001b[0m\n\u001b[0;32m      2\u001b[0m \u001b[38;5;28mprint\u001b[39m(plot)\n\u001b[0;32m      3\u001b[0m df \u001b[38;5;241m=\u001b[39m pd\u001b[38;5;241m.\u001b[39mDataFrame(plot)\u001b[38;5;66;03m#.transpose()\u001b[39;00m\n\u001b[1;32m----> 4\u001b[0m \u001b[43mdf\u001b[49m\u001b[38;5;241;43m.\u001b[39;49m\u001b[43mto_excel\u001b[49m\u001b[43m(\u001b[49m\u001b[38;5;124;43m'\u001b[39;49m\u001b[38;5;124;43mtmvar\u001b[39;49m\u001b[38;5;124;43m\\\u001b[39;49m\u001b[38;5;124;43m \u001b[39;49m\u001b[38;5;124;43m'\u001b[39;49m\u001b[43m \u001b[49m\u001b[38;5;241;43m+\u001b[39;49m\u001b[43m \u001b[49m\u001b[43msaveName\u001b[49m\u001b[43m \u001b[49m\u001b[38;5;241;43m+\u001b[39;49m\u001b[43m \u001b[49m\u001b[38;5;124;43m'\u001b[39;49m\u001b[38;5;124;43mconfusion_.xlsxa\u001b[39;49m\u001b[38;5;124;43m'\u001b[39;49m\u001b[43m,\u001b[49m\u001b[43m \u001b[49m\u001b[43mindex\u001b[49m\u001b[38;5;241;43m=\u001b[39;49m\u001b[38;5;28;43;01mTrue\u001b[39;49;00m\u001b[43m)\u001b[49m\n",
            "File \u001b[1;32m~\\AppData\\Local\\Programs\\Python\\Python310\\lib\\site-packages\\pandas\\util\\_decorators.py:211\u001b[0m, in \u001b[0;36mdeprecate_kwarg.<locals>._deprecate_kwarg.<locals>.wrapper\u001b[1;34m(*args, **kwargs)\u001b[0m\n\u001b[0;32m    209\u001b[0m     \u001b[38;5;28;01melse\u001b[39;00m:\n\u001b[0;32m    210\u001b[0m         kwargs[new_arg_name] \u001b[38;5;241m=\u001b[39m new_arg_value\n\u001b[1;32m--> 211\u001b[0m \u001b[38;5;28;01mreturn\u001b[39;00m func(\u001b[38;5;241m*\u001b[39margs, \u001b[38;5;241m*\u001b[39m\u001b[38;5;241m*\u001b[39mkwargs)\n",
            "File \u001b[1;32m~\\AppData\\Local\\Programs\\Python\\Python310\\lib\\site-packages\\pandas\\util\\_decorators.py:211\u001b[0m, in \u001b[0;36mdeprecate_kwarg.<locals>._deprecate_kwarg.<locals>.wrapper\u001b[1;34m(*args, **kwargs)\u001b[0m\n\u001b[0;32m    209\u001b[0m     \u001b[38;5;28;01melse\u001b[39;00m:\n\u001b[0;32m    210\u001b[0m         kwargs[new_arg_name] \u001b[38;5;241m=\u001b[39m new_arg_value\n\u001b[1;32m--> 211\u001b[0m \u001b[38;5;28;01mreturn\u001b[39;00m func(\u001b[38;5;241m*\u001b[39margs, \u001b[38;5;241m*\u001b[39m\u001b[38;5;241m*\u001b[39mkwargs)\n",
            "File \u001b[1;32m~\\AppData\\Local\\Programs\\Python\\Python310\\lib\\site-packages\\pandas\\core\\generic.py:2374\u001b[0m, in \u001b[0;36mNDFrame.to_excel\u001b[1;34m(self, excel_writer, sheet_name, na_rep, float_format, columns, header, index, index_label, startrow, startcol, engine, merge_cells, encoding, inf_rep, verbose, freeze_panes, storage_options)\u001b[0m\n\u001b[0;32m   2361\u001b[0m \u001b[38;5;28;01mfrom\u001b[39;00m \u001b[38;5;21;01mpandas\u001b[39;00m\u001b[38;5;21;01m.\u001b[39;00m\u001b[38;5;21;01mio\u001b[39;00m\u001b[38;5;21;01m.\u001b[39;00m\u001b[38;5;21;01mformats\u001b[39;00m\u001b[38;5;21;01m.\u001b[39;00m\u001b[38;5;21;01mexcel\u001b[39;00m \u001b[38;5;28;01mimport\u001b[39;00m ExcelFormatter\n\u001b[0;32m   2363\u001b[0m formatter \u001b[38;5;241m=\u001b[39m ExcelFormatter(\n\u001b[0;32m   2364\u001b[0m     df,\n\u001b[0;32m   2365\u001b[0m     na_rep\u001b[38;5;241m=\u001b[39mna_rep,\n\u001b[1;32m   (...)\u001b[0m\n\u001b[0;32m   2372\u001b[0m     inf_rep\u001b[38;5;241m=\u001b[39minf_rep,\n\u001b[0;32m   2373\u001b[0m )\n\u001b[1;32m-> 2374\u001b[0m \u001b[43mformatter\u001b[49m\u001b[38;5;241;43m.\u001b[39;49m\u001b[43mwrite\u001b[49m\u001b[43m(\u001b[49m\n\u001b[0;32m   2375\u001b[0m \u001b[43m    \u001b[49m\u001b[43mexcel_writer\u001b[49m\u001b[43m,\u001b[49m\n\u001b[0;32m   2376\u001b[0m \u001b[43m    \u001b[49m\u001b[43msheet_name\u001b[49m\u001b[38;5;241;43m=\u001b[39;49m\u001b[43msheet_name\u001b[49m\u001b[43m,\u001b[49m\n\u001b[0;32m   2377\u001b[0m \u001b[43m    \u001b[49m\u001b[43mstartrow\u001b[49m\u001b[38;5;241;43m=\u001b[39;49m\u001b[43mstartrow\u001b[49m\u001b[43m,\u001b[49m\n\u001b[0;32m   2378\u001b[0m \u001b[43m    \u001b[49m\u001b[43mstartcol\u001b[49m\u001b[38;5;241;43m=\u001b[39;49m\u001b[43mstartcol\u001b[49m\u001b[43m,\u001b[49m\n\u001b[0;32m   2379\u001b[0m \u001b[43m    \u001b[49m\u001b[43mfreeze_panes\u001b[49m\u001b[38;5;241;43m=\u001b[39;49m\u001b[43mfreeze_panes\u001b[49m\u001b[43m,\u001b[49m\n\u001b[0;32m   2380\u001b[0m \u001b[43m    \u001b[49m\u001b[43mengine\u001b[49m\u001b[38;5;241;43m=\u001b[39;49m\u001b[43mengine\u001b[49m\u001b[43m,\u001b[49m\n\u001b[0;32m   2381\u001b[0m \u001b[43m    \u001b[49m\u001b[43mstorage_options\u001b[49m\u001b[38;5;241;43m=\u001b[39;49m\u001b[43mstorage_options\u001b[49m\u001b[43m,\u001b[49m\n\u001b[0;32m   2382\u001b[0m \u001b[43m\u001b[49m\u001b[43m)\u001b[49m\n",
            "File \u001b[1;32m~\\AppData\\Local\\Programs\\Python\\Python310\\lib\\site-packages\\pandas\\io\\formats\\excel.py:918\u001b[0m, in \u001b[0;36mExcelFormatter.write\u001b[1;34m(self, writer, sheet_name, startrow, startcol, freeze_panes, engine, storage_options)\u001b[0m\n\u001b[0;32m    914\u001b[0m     need_save \u001b[38;5;241m=\u001b[39m \u001b[38;5;28;01mFalse\u001b[39;00m\n\u001b[0;32m    915\u001b[0m \u001b[38;5;28;01melse\u001b[39;00m:\n\u001b[0;32m    916\u001b[0m     \u001b[38;5;66;03m# error: Cannot instantiate abstract class 'ExcelWriter' with abstract\u001b[39;00m\n\u001b[0;32m    917\u001b[0m     \u001b[38;5;66;03m# attributes 'engine', 'save', 'supported_extensions' and 'write_cells'\u001b[39;00m\n\u001b[1;32m--> 918\u001b[0m     writer \u001b[38;5;241m=\u001b[39m \u001b[43mExcelWriter\u001b[49m\u001b[43m(\u001b[49m\u001b[43m  \u001b[49m\u001b[38;5;66;43;03m# type: ignore[abstract]\u001b[39;49;00m\n\u001b[0;32m    919\u001b[0m \u001b[43m        \u001b[49m\u001b[43mwriter\u001b[49m\u001b[43m,\u001b[49m\u001b[43m \u001b[49m\u001b[43mengine\u001b[49m\u001b[38;5;241;43m=\u001b[39;49m\u001b[43mengine\u001b[49m\u001b[43m,\u001b[49m\u001b[43m \u001b[49m\u001b[43mstorage_options\u001b[49m\u001b[38;5;241;43m=\u001b[39;49m\u001b[43mstorage_options\u001b[49m\n\u001b[0;32m    920\u001b[0m \u001b[43m    \u001b[49m\u001b[43m)\u001b[49m\n\u001b[0;32m    921\u001b[0m     need_save \u001b[38;5;241m=\u001b[39m \u001b[38;5;28;01mTrue\u001b[39;00m\n\u001b[0;32m    923\u001b[0m \u001b[38;5;28;01mtry\u001b[39;00m:\n",
            "File \u001b[1;32m~\\AppData\\Local\\Programs\\Python\\Python310\\lib\\site-packages\\pandas\\io\\excel\\_base.py:1148\u001b[0m, in \u001b[0;36mExcelWriter.__new__\u001b[1;34m(cls, path, engine, date_format, datetime_format, mode, storage_options, if_sheet_exists, engine_kwargs, **kwargs)\u001b[0m\n\u001b[0;32m   1146\u001b[0m             engine \u001b[38;5;241m=\u001b[39m get_default_engine(ext, mode\u001b[38;5;241m=\u001b[39m\u001b[38;5;124m\"\u001b[39m\u001b[38;5;124mwriter\u001b[39m\u001b[38;5;124m\"\u001b[39m)\n\u001b[0;32m   1147\u001b[0m     \u001b[38;5;28;01mexcept\u001b[39;00m \u001b[38;5;167;01mKeyError\u001b[39;00m \u001b[38;5;28;01mas\u001b[39;00m err:\n\u001b[1;32m-> 1148\u001b[0m         \u001b[38;5;28;01mraise\u001b[39;00m \u001b[38;5;167;01mValueError\u001b[39;00m(\u001b[38;5;124mf\u001b[39m\u001b[38;5;124m\"\u001b[39m\u001b[38;5;124mNo engine for filetype: \u001b[39m\u001b[38;5;124m'\u001b[39m\u001b[38;5;132;01m{\u001b[39;00mext\u001b[38;5;132;01m}\u001b[39;00m\u001b[38;5;124m'\u001b[39m\u001b[38;5;124m\"\u001b[39m) \u001b[38;5;28;01mfrom\u001b[39;00m \u001b[38;5;21;01merr\u001b[39;00m\n\u001b[0;32m   1150\u001b[0m \u001b[38;5;28;01mif\u001b[39;00m engine \u001b[38;5;241m==\u001b[39m \u001b[38;5;124m\"\u001b[39m\u001b[38;5;124mxlwt\u001b[39m\u001b[38;5;124m\"\u001b[39m:\n\u001b[0;32m   1151\u001b[0m     xls_config_engine \u001b[38;5;241m=\u001b[39m config\u001b[38;5;241m.\u001b[39mget_option(\n\u001b[0;32m   1152\u001b[0m         \u001b[38;5;124m\"\u001b[39m\u001b[38;5;124mio.excel.xls.writer\u001b[39m\u001b[38;5;124m\"\u001b[39m, silent\u001b[38;5;241m=\u001b[39m\u001b[38;5;28;01mTrue\u001b[39;00m\n\u001b[0;32m   1153\u001b[0m     )\n",
            "\u001b[1;31mValueError\u001b[0m: No engine for filetype: 'xlsxa'"
          ]
        }
      ],
      "source": [
        "plot = plot(y_true, y_pred, label_list)\n",
        "print(plot)\n",
        "df = pd.DataFrame(plot)#.transpose()\n",
        "df.to_excel('tmvar\\ ' + saveName + 'confusion_.xlsxa', index=True)"
      ]
    },
    {
      "cell_type": "code",
      "execution_count": null,
      "id": "cddeada2-70ff-4fc1-8d2c-b88b20c9b05b",
      "metadata": {
        "tags": [],
        "id": "cddeada2-70ff-4fc1-8d2c-b88b20c9b05b"
      },
      "outputs": [],
      "source": [
        "def plot_heat(freal, predicted_token_class, label_list):\n",
        "    label_names = label_list #unique_labels(y_true)\n",
        "    columns = [f'{label}' for label in label_names]\n",
        "    index = [f'{label}' for label in label_names]\n",
        "    table = pd.DataFrame(confusion_matrix(y_true, y_pred, labels= [0,1,2,3,4,5,6]), columns=columns, index=index)\n",
        "    figsize=(25,20)\n",
        "    return sns.heatmap(table, annot=True, fmt='d', linewidth=.1, vmax=1000, cmap='YlOrBr')"
      ]
    },
    {
      "cell_type": "code",
      "execution_count": null,
      "id": "f9992f50-5b71-4ed6-bed7-4804ad804b93",
      "metadata": {
        "tags": [],
        "id": "f9992f50-5b71-4ed6-bed7-4804ad804b93",
        "outputId": "bfb1053a-f11f-4c6d-ee51-0b9d20d1d0cc"
      },
      "outputs": [
        {
          "data": {
            "image/png": "[encoded data removed]",
            "text/plain": [
              "<Figure size 640x480 with 2 Axes>"
            ]
          },
          "metadata": {},
          "output_type": "display_data"
        }
      ],
      "source": [
        "ax = plot_heat(y_true, y_pred, label_list)\n",
        "ax.set(xlabel=\"Prediction\", ylabel=\"Actual\")\n",
        "ax.figure.savefig(\"output.png\")"
      ]
    },
    {
      "cell_type": "code",
      "execution_count": null,
      "id": "88e0b36e-dbf5-4eed-955f-1f5762ad3bd6",
      "metadata": {
        "tags": [],
        "id": "88e0b36e-dbf5-4eed-955f-1f5762ad3bd6"
      },
      "outputs": [],
      "source": [
        "from sklearn.metrics import classification_report"
      ]
    },
    {
      "cell_type": "code",
      "execution_count": null,
      "id": "35c420e9-448a-45a8-bff1-c6f084b9e84c",
      "metadata": {
        "tags": [],
        "id": "35c420e9-448a-45a8-bff1-c6f084b9e84c",
        "outputId": "814f14bd-79f1-4230-8eff-51bdd663e09e"
      },
      "outputs": [
        {
          "name": "stdout",
          "output_type": "stream",
          "text": [
            "{'O': {'precision': 0.9972468465653923, 'recall': 0.9981043580222787, 'f1-score': 0.9976754180340678, 'support': 51170}, 'B-DNAMutation': {'precision': 0.861244019138756, 'recall': 0.8181818181818182, 'f1-score': 0.8391608391608392, 'support': 220}, 'I-DNAMutation': {'precision': 0.8977820636451301, 'recall': 0.9127450980392157, 'f1-score': 0.9052017501215361, 'support': 1020}, 'B-ProteinMutation': {'precision': 0.9680851063829787, 'recall': 0.8878048780487805, 'f1-score': 0.9262086513994912, 'support': 205}, 'I-ProteinMutation': {'precision': 0.9626865671641791, 'recall': 0.9036777583187391, 'f1-score': 0.9322493224932249, 'support': 571}, 'B-SNP': {'precision': 1.0, 'recall': 1.0, 'f1-score': 1.0, 'support': 39}, 'I-SNP': {'precision': 0.9829059829059829, 'recall': 1.0, 'f1-score': 0.9913793103448275, 'support': 115}, 'accuracy': 0.9943007124109486, 'macro avg': {'precision': 0.9528500836860598, 'recall': 0.9315019872301189, 'f1-score': 0.9416964702219982, 'support': 53340}, 'weighted avg': {'precision': 0.9942729319942469, 'recall': 0.9943007124109486, 'f1-score': 0.9942663679773673, 'support': 53340}}\n",
            "\n",
            "\n",
            "------------------------------------------------------------\n",
            "    Label Report\n",
            "------------------------------------------------------------\n",
            "                   precision    recall  f1-score       support\n",
            "O                   0.997247  0.998104  0.997675  51170.000000\n",
            "B-DNAMutation       0.861244  0.818182  0.839161    220.000000\n",
            "I-DNAMutation       0.897782  0.912745  0.905202   1020.000000\n",
            "B-ProteinMutation   0.968085  0.887805  0.926209    205.000000\n",
            "I-ProteinMutation   0.962687  0.903678  0.932249    571.000000\n",
            "B-SNP               1.000000  1.000000  1.000000     39.000000\n",
            "I-SNP               0.982906  1.000000  0.991379    115.000000\n",
            "accuracy            0.994301  0.994301  0.994301      0.994301\n",
            "macro avg           0.952850  0.931502  0.941696  53340.000000\n",
            "weighted avg        0.994273  0.994301  0.994266  53340.000000\n"
          ]
        },
        {
          "name": "stderr",
          "output_type": "stream",
          "text": [
            "C:\\Users\\pc\\AppData\\Local\\Temp\\ipykernel_21068\\2431995263.py:10: FutureWarning: The frame.append method is deprecated and will be removed from pandas in a future version. Use pandas.concat instead.\n",
            "  exl = exl.append(df, ignore_index=True)\n"
          ]
        }
      ],
      "source": [
        "exl = pd.DataFrame()\n",
        "\n",
        "\n",
        "report = classification_report(y_true, y_pred, labels=[i for i in range(7)], target_names = label_list, output_dict=True)\n",
        "print(report)\n",
        "df = pd.DataFrame(report).transpose()\n",
        "print(\"\\n\")\n",
        "print(\"-\"*60 + \"\\n\" + \"    Label Report\\n\" + \"-\"*60)\n",
        "print(df)\n",
        "exl = exl.append(df, ignore_index=True)\n",
        "exl.to_excel('tmvar\\ ' + saveName + '_labelReport.xlsx', index=True)#.transpose()"
      ]
    },
    {
      "cell_type": "code",
      "execution_count": null,
      "id": "c0a7b315-241a-4566-93f5-e33ee8f9a047",
      "metadata": {
        "id": "c0a7b315-241a-4566-93f5-e33ee8f9a047"
      },
      "outputs": [],
      "source": []
    },
    {
      "cell_type": "code",
      "execution_count": null,
      "id": "77c0fe1b-b7d6-41ca-9639-5598fc66e567",
      "metadata": {
        "id": "77c0fe1b-b7d6-41ca-9639-5598fc66e567"
      },
      "outputs": [],
      "source": [
        "i = 0\n",
        "for (pred, gold, inIDs) in zip(pred_label, gold_label, dataset['test']['input_ids']):\n",
        "    print(i, len(pred), len(inIDs[1:-1]), end=\"\\n\")\n",
        "    i = i+1\n",
        "    for i, (label1, label2, inID) in enumerate(zip(pred, gold, inIDs[1:-1])):\n",
        "        print(i, tokenizer.decode(inID), \":(\" + str(label1), \",\", label2 + ')')\n",
        "        if label1 != label2:\n",
        "            print(\"#########################\")\n",
        "            #print(\":(\" + str(label1), \",\", label2, end=')\\n')\n",
        "    print(\" \")\n",
        "    "
      ]
    },
    {
      "cell_type": "code",
      "execution_count": null,
      "id": "849a1183-74c5-4721-b3f7-e4ac3d6808b8",
      "metadata": {
        "id": "849a1183-74c5-4721-b3f7-e4ac3d6808b8"
      },
      "outputs": [],
      "source": []
    }
  ],
  "metadata": {
    "kernelspec": {
      "display_name": "Python 3 (ipykernel)",
      "language": "python",
      "name": "python3"
    },
    "language_info": {
      "codemirror_mode": {
        "name": "ipython",
        "version": 3
      },
      "file_extension": ".py",
      "mimetype": "text/x-python",
      "name": "python",
      "nbconvert_exporter": "python",
      "pygments_lexer": "ipython3",
      "version": "3.10.7"
    },
    "colab": {
      "provenance": [],
      "include_colab_link": true
    }
  },
  "nbformat": 4,
  "nbformat_minor": 5
}