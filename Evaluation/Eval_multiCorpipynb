{
  "cells": [
    {
      "cell_type": "markdown",
      "metadata": {
        "id": "view-in-github",
        "colab_type": "text"
      },
      "source": [
        "<a href=\"https://colab.research.google.com/github/Luensmann/Bachelorarbeit/blob/main/Evaluation/Eval_multiCorpipynb\" target=\"_parent\"><img src=\"https://colab.research.google.com/assets/colab-badge.svg\" alt=\"Open In Colab\"/></a>"
      ]
    },
    {
      "cell_type": "code",
      "execution_count": null,
      "id": "50301fde-a849-460c-b0b5-973af6c68d68",
      "metadata": {
        "tags": [],
        "id": "50301fde-a849-460c-b0b5-973af6c68d68"
      },
      "outputs": [],
      "source": [
        "import torch\n",
        "from transformers import AutoTokenizer, BertForTokenClassification, AutoModelForTokenClassification\n",
        "from datasets import load_dataset"
      ]
    },
    {
      "cell_type": "code",
      "execution_count": null,
      "id": "cc6cf1b9-2f66-49d9-b8c0-64935645b80c",
      "metadata": {
        "tags": [],
        "id": "cc6cf1b9-2f66-49d9-b8c0-64935645b80c"
      },
      "outputs": [],
      "source": [
        "# labels\n",
        "\n",
        "labels = ['O', 'B-Gene_Protein', 'I-Gene_Protein', 'B-DNAMutation', 'I-DNAMutation', 'B-ProteinMutation', 'I-ProteinMutation', 'B-SNP', 'I-SNP', 'B-DNA_modification', 'I-DNA_modification', 'B-RNA', 'I-RNA', 'B-RNA_Mutation', 'I-RNA_Mutation', 'B-locus', 'I-locus', 'B-disease', 'I-disease', 'B-body-part', 'I-body-part', 'B-mutation', 'I-mutation', 'B-Physiology', 'I-Physiology', 'B-cohort-patient', 'I-cohort-patient', 'B-size', 'I-size', 'B-gender', 'I-gender', 'B-age', 'I-age', 'B-Concepts_Ideas', 'I-Concepts_Ideas', 'B-Disorder', 'I-Disorder', 'B-Phenomena', 'I-Phenomena', 'B-ethnicity', 'I-ethnicity']\n",
        "\n",
        "label2id = {'B-Concepts_Ideas': 33,\n",
        "             'B-DNAMutation': 3,\n",
        "             'B-DNA_modification': 9,\n",
        "             'B-Disorder': 35,\n",
        "             'B-Gene_Protein': 1,\n",
        "             'B-Phenomena': 37,\n",
        "             'B-Physiology': 23,\n",
        "             'B-ProteinMutation': 5,\n",
        "             'B-RNA': 11,\n",
        "             'B-RNA_Mutation': 13,\n",
        "             'B-SNP': 7,\n",
        "             'B-age': 31,\n",
        "             'B-body-part': 19,\n",
        "             'B-cohort-patient': 25,\n",
        "             'B-disease': 17,\n",
        "             'B-ethnicity': 39,\n",
        "             'B-gender': 29,\n",
        "             'B-locus': 15,\n",
        "             'B-mutation': 21,\n",
        "             'B-size': 27,\n",
        "             'I-Concepts_Ideas': 34,\n",
        "             'I-DNAMutation': 4,\n",
        "             'I-DNA_modification': 10,\n",
        "             'I-Disorder': 36,\n",
        "             'I-Gene_Protein': 2,\n",
        "             'I-Phenomena': 38,\n",
        "             'I-Physiology': 24,\n",
        "             'I-ProteinMutation': 6,\n",
        "             'I-RNA': 12,\n",
        "             'I-RNA_Mutation': 14,\n",
        "             'I-SNP': 8,\n",
        "             'I-age': 32,\n",
        "             'I-body-part': 20,\n",
        "             'I-cohort-patient': 26,\n",
        "             'I-disease': 18,\n",
        "             'I-ethnicity': 40,\n",
        "             'I-gender': 30,\n",
        "             'I-locus': 16,\n",
        "             'I-mutation': 22,\n",
        "             'I-size': 28,\n",
        "             'O': 0}\n",
        "id2label = {0: 'O',\n",
        "             1: 'B-Gene_Protein',\n",
        "             2: 'I-Gene_Protein',\n",
        "             3: 'B-DNAMutation',\n",
        "             4: 'I-DNAMutation',\n",
        "             5: 'B-ProteinMutation',\n",
        "             6: 'I-ProteinMutation',\n",
        "             7: 'B-SNP',\n",
        "             8: 'I-SNP',\n",
        "             9: 'B-DNA_modification',\n",
        "             10: 'I-DNA_modification',\n",
        "             11: 'B-RNA',\n",
        "             12: 'I-RNA',\n",
        "             13: 'B-RNA_Mutation',\n",
        "             14: 'I-RNA_Mutation',\n",
        "             15: 'B-locus',\n",
        "             16: 'I-locus',\n",
        "             17: 'B-disease',\n",
        "             18: 'I-disease',\n",
        "             19: 'B-body-part',\n",
        "             20: 'I-body-part',\n",
        "             21: 'B-mutation',\n",
        "             22: 'I-mutation',\n",
        "             23: 'B-Physiology',\n",
        "             24: 'I-Physiology',\n",
        "             25: 'B-cohort-patient',\n",
        "             26: 'I-cohort-patient',\n",
        "             27: 'B-size',\n",
        "             28: 'I-size',\n",
        "             29: 'B-gender',\n",
        "             30: 'I-gender',\n",
        "             31: 'B-age',\n",
        "             32: 'I-age',\n",
        "             33: 'B-Concepts_Ideas',\n",
        "             34: 'I-Concepts_Ideas',\n",
        "             35: 'B-Disorder',\n",
        "             36: 'I-Disorder',\n",
        "             37: 'B-Phenomena',\n",
        "             38: 'I-Phenomena',\n",
        "             39: 'B-ethnicity',\n",
        "             40: 'I-ethnicity'}"
      ]
    },
    {
      "cell_type": "code",
      "execution_count": null,
      "id": "6ca3ea21-b2a1-4c29-8908-d57d86305d53",
      "metadata": {
        "tags": [],
        "id": "6ca3ea21-b2a1-4c29-8908-d57d86305d53",
        "outputId": "5220d9a7-ca1b-4715-8970-4fb0e12bc22a",
        "colab": {
          "referenced_widgets": [
            "b70b06094f624d73b6362b1a9c768d12"
          ]
        }
      },
      "outputs": [
        {
          "name": "stderr",
          "output_type": "stream",
          "text": [
            "Found cached dataset parquet (C:/Users/pc/.cache/huggingface/datasets/Brizape___parquet/Brizape--multiCorp_tokenized_split_0404_dev-beb303d11c31fea1/0.0.0/2a3b91fbd88a2c90d1dbbb32b460cf621d31bd5b05b934492fdef7d8d6f236ec)\n"
          ]
        },
        {
          "data": {
            "application/vnd.jupyter.widget-view+json": {
              "model_id": "b70b06094f624d73b6362b1a9c768d12",
              "version_major": 2,
              "version_minor": 0
            },
            "text/plain": [
              "  0%|          | 0/3 [00:00<?, ?it/s]"
            ]
          },
          "metadata": {},
          "output_type": "display_data"
        },
        {
          "data": {
            "text/plain": [
              "DatasetDict({\n",
              "    train: Dataset({\n",
              "        features: ['id', 'tokens', 'ner_tags', 'texts', 'input_ids', 'token_type_ids', 'attention_mask', 'labels'],\n",
              "        num_rows: 5165\n",
              "    })\n",
              "    test: Dataset({\n",
              "        features: ['id', 'tokens', 'ner_tags', 'texts', 'input_ids', 'token_type_ids', 'attention_mask', 'labels'],\n",
              "        num_rows: 2035\n",
              "    })\n",
              "    validation: Dataset({\n",
              "        features: ['id', 'tokens', 'ner_tags', 'texts', 'input_ids', 'token_type_ids', 'attention_mask', 'labels'],\n",
              "        num_rows: 1293\n",
              "    })\n",
              "})"
            ]
          },
          "execution_count": 14,
          "metadata": {},
          "output_type": "execute_result"
        }
      ],
      "source": [
        "dataset = load_dataset(\"Brizape/multiCorp_tokenized_split_0404_dev\")\n",
        "dataset"
      ]
    },
    {
      "cell_type": "code",
      "execution_count": null,
      "id": "ffed12d3-53c1-4fed-a20e-21d57794b5af",
      "metadata": {
        "tags": [],
        "id": "ffed12d3-53c1-4fed-a20e-21d57794b5af",
        "outputId": "a6c0b1e9-19dd-472a-a0a6-e374d8516cd6"
      },
      "outputs": [
        {
          "name": "stdout",
          "output_type": "stream",
          "text": [
            "2035\n"
          ]
        }
      ],
      "source": [
        "# get all texts for predictions\n",
        "texts = []\n",
        "for item in dataset[\"test\"]:\n",
        "    texts.append(item[\"texts\"])\n",
        "print(len(texts))"
      ]
    },
    {
      "cell_type": "code",
      "execution_count": null,
      "id": "97ce5705-ee47-47a9-a2b5-5d0e2fa9e880",
      "metadata": {
        "tags": [],
        "id": "97ce5705-ee47-47a9-a2b5-5d0e2fa9e880",
        "outputId": "2aa95c68-3bb5-4b0a-c4aa-9c09adccac82"
      },
      "outputs": [
        {
          "name": "stdout",
          "output_type": "stream",
          "text": [
            "2035\n"
          ]
        }
      ],
      "source": [
        "# get all gold labels aka true labels\n",
        "gold_id_all = []\n",
        "for item in dataset[\"test\"]:\n",
        "    #gold_id_all.append([id2label[i] for i in item[\"labels\"][1:-1]])\n",
        "    gold_id_all.append(item[\"labels\"][1:-1])\n",
        "print(len(gold_id_all))"
      ]
    },
    {
      "cell_type": "code",
      "execution_count": null,
      "id": "0946550e-00a6-467b-8683-ac878c966b4d",
      "metadata": {
        "tags": [],
        "id": "0946550e-00a6-467b-8683-ac878c966b4d",
        "outputId": "6cb6cc73-3d90-4228-bce4-3fdb8e46afe4"
      },
      "outputs": [
        {
          "name": "stdout",
          "output_type": "stream",
          "text": [
            "2035\n"
          ]
        }
      ],
      "source": [
        "# convert all IDs into labels\n",
        "gold_label_all = []\n",
        "for item in gold_id_all:\n",
        "    gold_label_all.append([id2label[i] for i in item])\n",
        "print(len(gold_label_all))"
      ]
    },
    {
      "cell_type": "code",
      "execution_count": null,
      "id": "a401b805-ca0a-47b7-a5f9-5be99399caad",
      "metadata": {
        "tags": [],
        "id": "a401b805-ca0a-47b7-a5f9-5be99399caad"
      },
      "outputs": [],
      "source": [
        "saveName = \"all_label_2e-05_0404_ES2_strict_tok\"\n",
        "model = \"Brizape/MultiCorp_\" + saveName\n",
        "tokenizer = AutoTokenizer.from_pretrained(model)\n",
        "model = AutoModelForTokenClassification.from_pretrained(model)"
      ]
    },
    {
      "cell_type": "code",
      "execution_count": null,
      "id": "938ed8fd-3499-4669-a050-0d05ed6e441c",
      "metadata": {
        "tags": [],
        "id": "938ed8fd-3499-4669-a050-0d05ed6e441c"
      },
      "outputs": [],
      "source": [
        "# gold_id_all - expected outputs in ids-format\n",
        "# gold_label_all - expected outputs in label-format\n",
        "# pred_label_all - all predicted labels in label-format\n",
        "# pred_id_all - all predicted labels in id-format\n",
        "\n",
        "# del all missmatches in both list:\n",
        "# gold_id - expected outputs in ids-format\n",
        "# gold_label - expected outputs in label-format\n",
        "# pred_label - all predicted labels in label-format\n",
        "# pred_id - all predicted labels in id-format\n",
        "\n",
        "# gold_label_norm - normalisation; removed prefix\n",
        "# pred_label_norm - normalisation; removed prefix\n",
        "\n",
        "# y_true - for sklearn, no sublists\n",
        "# y-pred - for sklearn, no sublists"
      ]
    },
    {
      "cell_type": "code",
      "execution_count": null,
      "id": "6d611a63-af84-4897-9e72-73bf1ab1c1d5",
      "metadata": {
        "tags": [],
        "id": "6d611a63-af84-4897-9e72-73bf1ab1c1d5"
      },
      "outputs": [],
      "source": [
        "def predict(text):\n",
        "    \n",
        "    inputs = tokenizer(text, add_special_tokens=False, truncation=True, max_length=512, return_tensors=\"pt\")\n",
        "    if inputs['input_ids'].numel() == 0:\n",
        "        print(\"input_ids is empty\")\n",
        "        return []\n",
        "    \n",
        "    with torch.no_grad():\n",
        "        logits = model(**inputs).logits \n",
        "    predictions = torch.argmax(logits, dim=2)\n",
        "    \n",
        "    predicted_token_class = [model.config.id2label[t.item()] for t in predictions[0]]\n",
        "\n",
        "    return predicted_token_class"
      ]
    },
    {
      "cell_type": "code",
      "execution_count": null,
      "id": "3fa7745f-3b55-4dd7-8ff0-0707c15a028f",
      "metadata": {
        "tags": [],
        "id": "3fa7745f-3b55-4dd7-8ff0-0707c15a028f",
        "outputId": "eb389450-6582-42d6-92d9-049ded7faa73"
      },
      "outputs": [
        {
          "name": "stdout",
          "output_type": "stream",
          "text": [
            "0 1 2 input_ids is empty\n",
            "3 4 5 input_ids is empty\n",
            "6 7 8 input_ids is empty\n",
            "9 10 11 input_ids is empty\n",
            "12 13 14 input_ids is empty\n",
            "15 16 17 input_ids is empty\n",
            "18 19 20 input_ids is empty\n",
            "21 22 23 input_ids is empty\n",
            "24 25 26 input_ids is empty\n",
            "27 28 29 input_ids is empty\n",
            "30 31 32 input_ids is empty\n",
            "33 34 35 input_ids is empty\n",
            "36 37 38 input_ids is empty\n",
            "39 40 41 input_ids is empty\n",
            "42 43 44 input_ids is empty\n",
            "45 46 47 input_ids is empty\n",
            "48 49 50 input_ids is empty\n",
            "51 52 53 input_ids is empty\n",
            "54 55 56 input_ids is empty\n",
            "57 58 59 input_ids is empty\n",
            "60 61 62 input_ids is empty\n",
            "63 64 65 input_ids is empty\n",
            "66 67 68 input_ids is empty\n",
            "69 70 71 input_ids is empty\n",
            "72 73 74 input_ids is empty\n",
            "75 76 77 input_ids is empty\n",
            "78 79 80 input_ids is empty\n",
            "81 82 83 input_ids is empty\n",
            "84 85 86 input_ids is empty\n",
            "87 88 89 input_ids is empty\n",
            "90 91 92 input_ids is empty\n",
            "93 94 95 input_ids is empty\n",
            "96 97 98 input_ids is empty\n",
            "99 100 101 input_ids is empty\n",
            "102 103 104 input_ids is empty\n",
            "105 106 107 input_ids is empty\n",
            "108 109 110 input_ids is empty\n",
            "111 112 113 input_ids is empty\n",
            "114 115 116 input_ids is empty\n",
            "117 118 119 input_ids is empty\n",
            "120 121 122 input_ids is empty\n",
            "123 124 125 input_ids is empty\n",
            "126 127 128 input_ids is empty\n",
            "129 130 131 input_ids is empty\n",
            "132 133 134 input_ids is empty\n",
            "135 136 137 input_ids is empty\n",
            "138 139 140 input_ids is empty\n",
            "141 142 143 input_ids is empty\n",
            "144 145 146 input_ids is empty\n",
            "147 148 149 input_ids is empty\n",
            "150 151 152 input_ids is empty\n",
            "153 154 155 input_ids is empty\n",
            "156 157 158 input_ids is empty\n",
            "159 160 161 input_ids is empty\n",
            "162 163 164 input_ids is empty\n",
            "165 166 167 input_ids is empty\n",
            "168 169 170 input_ids is empty\n",
            "171 172 173 input_ids is empty\n",
            "174 175 176 input_ids is empty\n",
            "177 178 179 input_ids is empty\n",
            "180 181 182 input_ids is empty\n",
            "183 184 185 input_ids is empty\n",
            "186 187 188 input_ids is empty\n",
            "189 190 191 input_ids is empty\n",
            "192 193 194 input_ids is empty\n",
            "195 196 197 input_ids is empty\n",
            "198 199 200 input_ids is empty\n",
            "201 202 203 input_ids is empty\n",
            "204 205 206 input_ids is empty\n",
            "207 208 209 input_ids is empty\n",
            "210 211 212 input_ids is empty\n",
            "213 214 215 input_ids is empty\n",
            "216 217 218 input_ids is empty\n",
            "219 220 221 input_ids is empty\n",
            "222 223 224 input_ids is empty\n",
            "225 226 227 input_ids is empty\n",
            "228 229 230 input_ids is empty\n",
            "231 232 233 input_ids is empty\n",
            "234 235 236 input_ids is empty\n",
            "237 238 239 input_ids is empty\n",
            "240 241 242 input_ids is empty\n",
            "243 244 245 input_ids is empty\n",
            "246 247 248 input_ids is empty\n",
            "249 250 251 input_ids is empty\n",
            "252 253 254 input_ids is empty\n",
            "255 256 257 input_ids is empty\n",
            "258 259 260 input_ids is empty\n",
            "261 262 263 input_ids is empty\n",
            "264 265 266 input_ids is empty\n",
            "267 268 269 input_ids is empty\n",
            "270 271 272 input_ids is empty\n",
            "273 274 275 input_ids is empty\n",
            "276 277 278 input_ids is empty\n",
            "279 280 281 input_ids is empty\n",
            "282 283 284 input_ids is empty\n",
            "285 286 287 input_ids is empty\n",
            "288 289 290 input_ids is empty\n",
            "291 292 293 input_ids is empty\n",
            "294 295 296 input_ids is empty\n",
            "297 298 299 input_ids is empty\n",
            "300 301 302 input_ids is empty\n",
            "303 304 305 input_ids is empty\n",
            "306 307 308 input_ids is empty\n",
            "309 310 311 input_ids is empty\n",
            "312 313 314 input_ids is empty\n",
            "315 316 317 input_ids is empty\n",
            "318 319 320 input_ids is empty\n",
            "321 322 323 input_ids is empty\n",
            "324 325 326 input_ids is empty\n",
            "327 328 329 input_ids is empty\n",
            "330 331 332 input_ids is empty\n",
            "333 334 335 input_ids is empty\n",
            "336 337 338 input_ids is empty\n",
            "339 340 341 input_ids is empty\n",
            "342 343 344 input_ids is empty\n",
            "345 346 347 input_ids is empty\n",
            "348 349 350 input_ids is empty\n",
            "351 352 353 input_ids is empty\n",
            "354 355 356 input_ids is empty\n",
            "357 358 359 input_ids is empty\n",
            "360 361 362 input_ids is empty\n",
            "363 364 365 input_ids is empty\n",
            "366 367 368 input_ids is empty\n",
            "369 370 371 input_ids is empty\n",
            "372 373 374 input_ids is empty\n",
            "375 376 377 input_ids is empty\n",
            "378 379 380 input_ids is empty\n",
            "381 382 383 input_ids is empty\n",
            "384 385 386 input_ids is empty\n",
            "387 388 389 input_ids is empty\n",
            "390 391 392 input_ids is empty\n",
            "393 394 395 input_ids is empty\n",
            "396 397 398 input_ids is empty\n",
            "399 400 401 input_ids is empty\n",
            "402 403 404 input_ids is empty\n",
            "405 406 407 input_ids is empty\n",
            "408 409 410 input_ids is empty\n",
            "411 412 413 input_ids is empty\n",
            "414 415 416 input_ids is empty\n",
            "417 418 419 input_ids is empty\n",
            "420 421 422 input_ids is empty\n",
            "423 424 425 input_ids is empty\n",
            "426 427 428 input_ids is empty\n",
            "429 430 431 input_ids is empty\n",
            "432 433 434 input_ids is empty\n",
            "435 436 437 input_ids is empty\n",
            "438 439 440 input_ids is empty\n",
            "441 442 443 input_ids is empty\n",
            "444 445 446 input_ids is empty\n",
            "447 448 449 input_ids is empty\n",
            "450 451 452 input_ids is empty\n",
            "453 454 455 input_ids is empty\n",
            "456 457 458 input_ids is empty\n",
            "459 460 461 input_ids is empty\n",
            "462 463 464 input_ids is empty\n",
            "465 466 467 input_ids is empty\n",
            "468 469 470 input_ids is empty\n",
            "471 472 473 input_ids is empty\n",
            "474 475 476 input_ids is empty\n",
            "477 478 479 input_ids is empty\n",
            "480 481 482 input_ids is empty\n",
            "483 484 485 input_ids is empty\n",
            "486 487 488 input_ids is empty\n",
            "489 490 491 input_ids is empty\n",
            "492 493 494 input_ids is empty\n",
            "495 496 497 input_ids is empty\n",
            "498 499 500 501 502 503 504 505 506 507 508 509 510 511 512 513 514 515 516 517 518 519 520 521 522 523 524 525 526 527 528 529 530 531 532 533 534 535 536 537 538 539 540 541 542 543 544 545 546 547 548 549 550 551 552 553 554 555 556 557 558 559 560 561 562 563 564 565 566 567 568 569 570 571 572 573 574 575 576 577 578 579 580 581 582 583 584 585 586 587 588 589 590 591 592 593 594 595 596 597 598 599 600 601 602 603 604 605 606 607 608 609 610 611 612 613 614 615 616 617 618 619 620 621 622 623 624 625 626 627 628 629 630 631 632 633 634 635 636 637 638 639 640 input_ids is empty\n",
            "641 642 643 644 645 646 647 648 649 650 651 652 653 654 655 656 657 658 659 660 661 662 663 664 665 input_ids is empty\n",
            "666 667 668 669 670 671 672 673 674 675 676 677 678 679 680 681 682 683 684 685 input_ids is empty\n",
            "686 687 688 689 690 input_ids is empty\n",
            "691 692 693 694 695 696 697 698 699 700 701 702 703 704 input_ids is empty\n",
            "705 706 707 708 709 710 711 712 713 714 715 716 717 718 719 720 721 722 723 724 725 726 727 input_ids is empty\n",
            "728 729 730 731 732 input_ids is empty\n",
            "733 734 735 input_ids is empty\n",
            "736 737 738 739 740 input_ids is empty\n",
            "741 742 743 744 input_ids is empty\n",
            "745 746 747 input_ids is empty\n",
            "748 749 750 751 input_ids is empty\n",
            "752 753 754 input_ids is empty\n",
            "755 756 757 758 759 760 761 762 763 764 765 766 767 768 769 770 771 772 773 774 775 776 777 778 779 780 781 782 783 input_ids is empty\n",
            "784 785 786 787 788 input_ids is empty\n",
            "789 790 791 input_ids is empty\n",
            "792 793 794 795 input_ids is empty\n",
            "796 797 798 799 800 input_ids is empty\n",
            "801 802 803 804 805 806 input_ids is empty\n",
            "807 808 809 810 811 812 813 814 815 816 817 input_ids is empty\n",
            "818 819 820 821 822 input_ids is empty\n",
            "823 824 825 input_ids is empty\n",
            "826 827 828 829 830 831 832 833 834 835 836 837 838 839 840 841 842 843 844 845 846 847 848 849 850 851 852 input_ids is empty\n",
            "853 854 855 856 857 input_ids is empty\n",
            "858 859 860 861 862 input_ids is empty\n",
            "863 864 865 input_ids is empty\n",
            "866 867 868 869 870 input_ids is empty\n",
            "871 872 873 874 875 876 877 878 879 880 881 882 883 884 885 886 887 888 889 890 891 892 input_ids is empty\n",
            "893 894 895 input_ids is empty\n",
            "896 897 898 899 input_ids is empty\n",
            "900 901 902 903 904 input_ids is empty\n",
            "905 906 907 908 909 910 911 912 913 914 915 916 917 918 919 input_ids is empty\n",
            "920 921 922 input_ids is empty\n",
            "923 924 925 926 927 928 929 930 931 932 933 934 935 936 937 938 939 940 941 942 943 944 945 946 947 input_ids is empty\n",
            "948 949 950 951 952 953 954 955 956 957 958 959 960 961 962 963 964 965 966 967 968 969 970 971 972 973 974 975 976 977 978 input_ids is empty\n",
            "979 980 981 982 983 input_ids is empty\n",
            "984 985 986 987 input_ids is empty\n",
            "988 989 990 991 992 993 994 995 996 997 998 999 1000 1001 1002 1003 1004 1005 1006 1007 1008 input_ids is empty\n",
            "1009 1010 1011 input_ids is empty\n",
            "1012 1013 1014 1015 input_ids is empty\n",
            "1016 1017 1018 1019 input_ids is empty\n",
            "1020 1021 1022 input_ids is empty\n",
            "1023 1024 1025 input_ids is empty\n",
            "1026 1027 1028 1029 1030 1031 1032 1033 1034 input_ids is empty\n",
            "1035 1036 1037 1038 1039 1040 1041 1042 1043 input_ids is empty\n",
            "1044 1045 1046 1047 1048 1049 1050 1051 1052 1053 1054 1055 1056 1057 1058 1059 1060 1061 1062 1063 1064 1065 1066 1067 1068 1069 1070 1071 1072 1073 1074 1075 1076 1077 1078 1079 1080 1081 input_ids is empty\n",
            "1082 1083 1084 1085 1086 1087 1088 1089 1090 1091 1092 1093 1094 input_ids is empty\n",
            "1095 1096 1097 1098 1099 1100 1101 1102 1103 1104 1105 1106 1107 1108 1109 1110 1111 1112 1113 1114 1115 1116 1117 1118 1119 1120 1121 input_ids is empty\n",
            "1122 1123 1124 1125 1126 1127 input_ids is empty\n",
            "1128 1129 1130 1131 1132 1133 1134 1135 1136 1137 1138 1139 1140 1141 1142 1143 1144 1145 1146 1147 1148 1149 1150 1151 1152 1153 1154 input_ids is empty\n",
            "1155 1156 1157 1158 1159 1160 1161 1162 1163 1164 1165 1166 1167 1168 1169 1170 input_ids is empty\n",
            "1171 1172 1173 1174 1175 1176 1177 1178 1179 1180 1181 1182 1183 1184 1185 1186 1187 1188 1189 1190 1191 1192 1193 1194 1195 1196 1197 1198 1199 1200 1201 1202 1203 1204 1205 1206 1207 1208 1209 1210 1211 1212 1213 1214 1215 1216 1217 1218 1219 input_ids is empty\n",
            "1220 1221 1222 1223 1224 1225 1226 1227 1228 1229 1230 1231 1232 1233 1234 1235 1236 1237 1238 1239 1240 1241 1242 1243 1244 1245 1246 1247 1248 1249 1250 1251 1252 1253 1254 1255 1256 1257 1258 1259 1260 input_ids is empty\n",
            "1261 1262 1263 1264 1265 1266 1267 1268 1269 1270 1271 input_ids is empty\n",
            "1272 1273 1274 1275 1276 1277 1278 1279 1280 1281 1282 1283 1284 1285 1286 1287 1288 1289 1290 1291 input_ids is empty\n",
            "1292 1293 1294 1295 1296 1297 input_ids is empty\n",
            "1298 1299 1300 1301 1302 1303 1304 1305 1306 1307 1308 1309 1310 1311 1312 1313 1314 1315 1316 1317 1318 1319 1320 1321 1322 1323 1324 1325 1326 1327 1328 1329 1330 1331 1332 1333 1334 1335 1336 1337 1338 1339 1340 1341 1342 1343 1344 1345 1346 1347 1348 1349 1350 1351 1352 input_ids is empty\n",
            "1353 1354 1355 1356 1357 1358 1359 1360 1361 1362 1363 1364 1365 1366 1367 1368 1369 1370 1371 1372 1373 1374 1375 1376 1377 1378 input_ids is empty\n",
            "1379 1380 1381 1382 1383 1384 1385 1386 1387 1388 1389 1390 1391 1392 1393 1394 1395 1396 1397 1398 1399 1400 1401 1402 1403 1404 1405 1406 1407 1408 1409 1410 1411 1412 1413 1414 1415 1416 1417 1418 1419 1420 input_ids is empty\n",
            "1421 1422 1423 1424 1425 1426 1427 1428 1429 1430 1431 1432 1433 1434 1435 1436 1437 1438 1439 1440 1441 1442 1443 1444 1445 1446 1447 1448 1449 1450 1451 1452 1453 1454 1455 1456 1457 1458 1459 1460 1461 1462 1463 1464 1465 1466 1467 1468 1469 1470 1471 1472 1473 1474 1475 1476 1477 1478 1479 1480 1481 1482 1483 1484 1485 1486 1487 1488 1489 1490 1491 1492 1493 1494 1495 1496 1497 1498 1499 1500 1501 1502 1503 1504 1505 1506 1507 1508 input_ids is empty\n",
            "1509 1510 1511 1512 1513 1514 1515 1516 1517 1518 1519 1520 1521 1522 1523 1524 1525 1526 1527 1528 1529 1530 input_ids is empty\n",
            "1531 1532 1533 1534 1535 1536 1537 1538 1539 1540 1541 1542 1543 1544 1545 1546 1547 1548 1549 1550 1551 1552 1553 1554 1555 1556 1557 1558 1559 1560 1561 1562 1563 1564 1565 1566 1567 1568 1569 1570 1571 1572 1573 1574 1575 1576 1577 1578 1579 1580 1581 1582 1583 1584 1585 1586 1587 1588 1589 1590 1591 1592 1593 1594 1595 1596 1597 1598 1599 1600 1601 1602 1603 1604 1605 1606 1607 1608 1609 1610 1611 1612 1613 1614 1615 1616 1617 1618 1619 1620 1621 1622 1623 1624 1625 1626 1627 1628 1629 1630 1631 1632 1633 1634 1635 1636 1637 1638 1639 1640 1641 1642 1643 1644 1645 1646 1647 1648 1649 1650 1651 1652 1653 1654 1655 1656 1657 1658 1659 1660 1661 1662 1663 1664 1665 1666 1667 1668 1669 1670 1671 1672 1673 1674 1675 1676 1677 1678 1679 1680 1681 1682 1683 1684 1685 1686 1687 1688 1689 1690 1691 1692 1693 1694 1695 1696 1697 1698 1699 1700 1701 1702 1703 1704 1705 1706 1707 1708 1709 1710 1711 1712 1713 1714 1715 1716 1717 1718 1719 1720 1721 1722 1723 1724 1725 1726 1727 1728 1729 1730 1731 1732 1733 1734 1735 1736 1737 1738 1739 1740 1741 1742 1743 1744 1745 1746 1747 1748 1749 1750 1751 1752 1753 1754 1755 1756 1757 1758 1759 1760 1761 1762 1763 1764 1765 1766 1767 1768 1769 1770 1771 1772 1773 1774 1775 1776 1777 1778 1779 1780 1781 1782 1783 1784 1785 1786 1787 1788 1789 1790 1791 1792 1793 1794 1795 1796 1797 1798 1799 1800 1801 1802 1803 1804 1805 1806 1807 1808 1809 1810 1811 1812 1813 1814 1815 1816 1817 1818 1819 1820 1821 1822 1823 1824 1825 1826 input_ids is empty\n",
            "1827 1828 1829 1830 1831 1832 1833 1834 1835 1836 1837 1838 1839 1840 1841 1842 1843 1844 1845 1846 1847 1848 1849 1850 1851 1852 1853 1854 1855 1856 1857 1858 1859 1860 1861 1862 1863 1864 1865 1866 1867 1868 1869 1870 1871 1872 1873 input_ids is empty\n",
            "1874 1875 1876 1877 input_ids is empty\n",
            "1878 1879 1880 1881 1882 1883 1884 1885 1886 1887 1888 1889 1890 1891 1892 1893 1894 1895 1896 1897 1898 1899 1900 1901 1902 1903 1904 1905 1906 1907 input_ids is empty\n",
            "1908 1909 1910 input_ids is empty\n",
            "1911 1912 1913 1914 1915 1916 1917 1918 1919 1920 1921 1922 input_ids is empty\n",
            "1923 1924 1925 1926 1927 1928 1929 1930 1931 1932 1933 1934 1935 1936 1937 1938 1939 1940 1941 1942 1943 1944 1945 1946 1947 1948 1949 1950 1951 1952 1953 1954 1955 1956 1957 1958 1959 1960 1961 1962 1963 1964 1965 1966 1967 1968 1969 1970 1971 1972 1973 1974 1975 1976 1977 1978 1979 1980 1981 1982 1983 1984 1985 1986 1987 1988 1989 1990 1991 1992 1993 1994 1995 1996 1997 1998 1999 2000 input_ids is empty\n",
            "2001 2002 2003 2004 2005 2006 2007 2008 2009 2010 2011 2012 2013 2014 2015 2016 2017 2018 2019 2020 2021 2022 2023 2024 2025 2026 2027 2028 2029 2030 2031 2032 2033 2034 input_ids is empty\n"
          ]
        },
        {
          "data": {
            "text/plain": [
              "2035"
            ]
          },
          "execution_count": 21,
          "metadata": {},
          "output_type": "execute_result"
        }
      ],
      "source": [
        "# predict all text\n",
        "pred_label_all = []\n",
        "for index, text in enumerate(texts):\n",
        "    print(index, end=' ')\n",
        "    pred_label_all.append(predict(text))\n",
        "len(pred_label_all)"
      ]
    },
    {
      "cell_type": "code",
      "execution_count": null,
      "id": "3cff5f9e-9aa0-45c5-a8a3-0054ea3513b8",
      "metadata": {
        "tags": [],
        "id": "3cff5f9e-9aa0-45c5-a8a3-0054ea3513b8"
      },
      "outputs": [],
      "source": [
        "# delete all special token\n",
        "for i, (pred, gold) in enumerate(zip(pred_label_all, gold_label_all)):\n",
        "    if len(pred) == 512:\n",
        "        for pred_tag, gold_tag in zip(pred, gold):\n",
        "            print(pred_tag, gold_tag)\n",
        "        pred_label_all[i] = pred[1:-1]\n",
        "        #print(pred)"
      ]
    },
    {
      "cell_type": "code",
      "execution_count": null,
      "id": "fb3aba18-35e3-4124-95fe-6c103cf686d2",
      "metadata": {
        "tags": [],
        "id": "fb3aba18-35e3-4124-95fe-6c103cf686d2",
        "outputId": "8406d4e8-1bf0-479f-d53f-9ad1995ff174"
      },
      "outputs": [
        {
          "data": {
            "text/plain": [
              "2035"
            ]
          },
          "execution_count": 23,
          "metadata": {},
          "output_type": "execute_result"
        }
      ],
      "source": [
        "# convert all IDs into labels\n",
        "\n",
        "pred_id_all = []\n",
        "for item in pred_label_all:\n",
        "    pred_id_all.append([label2id[i] for i in item])\n",
        "len(pred_id_all)"
      ]
    },
    {
      "cell_type": "code",
      "execution_count": null,
      "id": "67a04063-8ebe-46fb-a5d7-395a1b450a33",
      "metadata": {
        "tags": [],
        "id": "67a04063-8ebe-46fb-a5d7-395a1b450a33"
      },
      "outputs": [],
      "source": [
        "# checking if all gold and pred are same len\n",
        "# reutrn list with indices of all missmatches\n",
        "def check_len(gold, pred):\n",
        "    missmatch_index = []\n",
        "    for index, (gold, pred) in enumerate(zip(gold, pred)):\n",
        "        if len(gold)==len(pred):\n",
        "            #print(\"yes\")\n",
        "            continue\n",
        "        else:\n",
        "            missmatch_index.append(index)\n",
        "    print(\"indices to del:\" + str(missmatch_index))\n",
        "    return missmatch_index"
      ]
    },
    {
      "cell_type": "code",
      "execution_count": null,
      "id": "e77a2fd3-be25-4542-9172-df4e4e2e7416",
      "metadata": {
        "tags": [],
        "id": "e77a2fd3-be25-4542-9172-df4e4e2e7416"
      },
      "outputs": [],
      "source": [
        "# delete all missmatches from both sets\n",
        "def del_missmatches(list1, list2, indices_to_del):\n",
        "    for index in sorted(indices_to_del, reverse=True):\n",
        "            del list1[index]\n",
        "            del list2[index]"
      ]
    },
    {
      "cell_type": "code",
      "execution_count": null,
      "id": "c566ae2d-09b0-4ad2-b7f2-f3ba89554151",
      "metadata": {
        "tags": [],
        "id": "c566ae2d-09b0-4ad2-b7f2-f3ba89554151",
        "outputId": "6db3f8e9-a7d1-4b64-e106-ed3dc800e058"
      },
      "outputs": [
        {
          "name": "stdout",
          "output_type": "stream",
          "text": [
            "len befor:\n",
            "2035\n",
            "2035\n",
            "2035\n",
            "2035\n",
            "indices to del:[794]\n",
            "len after:\n",
            "2034\n",
            "2034\n",
            "2034\n",
            "2034\n"
          ]
        }
      ],
      "source": [
        "# copy _all files\n",
        "gold_id = gold_id_all[:]\n",
        "gold_label = gold_label_all[:]\n",
        "pred_id = pred_id_all[:]\n",
        "pred_label = pred_label_all[:]\n",
        "all = [gold_id, gold_label, pred_id, pred_label]\n",
        "print('len befor:')\n",
        "for list in all:\n",
        "    print(len(list))\n",
        "# get indicies with missmatch\n",
        "# and delete them from both sets\n",
        "indices_to_del = check_len(gold_id, pred_id)\n",
        "del_missmatches(gold_id , pred_id, indices_to_del)\n",
        "del_missmatches(gold_label , pred_label, indices_to_del)\n",
        "print('len after:')\n",
        "for list in all:\n",
        "    print(len(list))\n",
        "    \n"
      ]
    },
    {
      "cell_type": "code",
      "execution_count": null,
      "id": "954206f8-3de4-4fd2-9237-bfc7295d1dae",
      "metadata": {
        "id": "954206f8-3de4-4fd2-9237-bfc7295d1dae"
      },
      "outputs": [],
      "source": []
    },
    {
      "cell_type": "code",
      "execution_count": null,
      "id": "d273e315-9bcf-4c1b-90e3-ac143eb4672a",
      "metadata": {
        "tags": [],
        "id": "d273e315-9bcf-4c1b-90e3-ac143eb4672a"
      },
      "outputs": [],
      "source": [
        "############################################################\n",
        "######################### seqeval ##########################\n",
        "############################################################"
      ]
    },
    {
      "cell_type": "code",
      "execution_count": null,
      "id": "0721e886-5693-4594-8dca-73e823eb46dd",
      "metadata": {
        "tags": [],
        "id": "0721e886-5693-4594-8dca-73e823eb46dd"
      },
      "outputs": [],
      "source": [
        "from seqeval.metrics import accuracy_score\n",
        "from seqeval.metrics import classification_report\n",
        "from seqeval.metrics import f1_score\n",
        "from seqeval.scheme import IOB2"
      ]
    },
    {
      "cell_type": "code",
      "execution_count": null,
      "id": "3634f920-9971-477a-bb9b-429afd532cec",
      "metadata": {
        "tags": [],
        "id": "3634f920-9971-477a-bb9b-429afd532cec",
        "outputId": "a1fc2642-e2bb-4dd6-bf81-ad1132a3973d"
      },
      "outputs": [
        {
          "name": "stdout",
          "output_type": "stream",
          "text": [
            "\n",
            "\n",
            "------------------------------------------------------------\n",
            "    SeqEval strict\n",
            "------------------------------------------------------------\n"
          ]
        },
        {
          "name": "stderr",
          "output_type": "stream",
          "text": [
            "C:\\Users\\pc\\AppData\\Local\\Programs\\Python\\Python310\\lib\\site-packages\\seqeval\\metrics\\v1.py:57: UndefinedMetricWarning: Precision and F-score are ill-defined and being set to 0.0 in labels with no predicted samples. Use `zero_division` parameter to control this behavior.\n",
            "  _warn_prf(average, modifier, msg_start, len(result))\n"
          ]
        },
        {
          "name": "stdout",
          "output_type": "stream",
          "text": [
            "strict: \n",
            "                 precision    recall  f1-score   support\n",
            "\n",
            " Concepts_Ideas       0.00      0.00      0.00        34\n",
            "    DNAMutation       0.56      0.01      0.02       487\n",
            "       Disorder       0.00      0.00      0.00        67\n",
            "   Gene_Protein       0.47      0.42      0.45       746\n",
            "      Phenomena       0.00      0.00      0.00         6\n",
            "     Physiology       0.00      0.00      0.00        40\n",
            "ProteinMutation       0.00      0.00      0.00       228\n",
            "            RNA       0.00      0.00      0.00         1\n",
            "   RNA_Mutation       0.00      0.00      0.00         2\n",
            "            SNP       0.00      0.00      0.00       204\n",
            "            age       0.00      0.00      0.00         9\n",
            "      body-part       0.00      0.00      0.00        79\n",
            " cohort-patient       0.41      0.32      0.36       228\n",
            "        disease       0.23      0.33      0.27       253\n",
            "      ethnicity       0.00      0.00      0.00         4\n",
            "         gender       0.00      0.00      0.00         7\n",
            "          locus       0.00      0.00      0.00        75\n",
            "       mutation       0.17      0.05      0.07        66\n",
            "           size       0.00      0.00      0.00       125\n",
            "\n",
            "      micro avg       0.39      0.18      0.25      2661\n",
            "      macro avg       0.10      0.06      0.06      2661\n",
            "   weighted avg       0.29      0.18      0.19      2661\n",
            "\n",
            "\n",
            "\n",
            "------------------------------------------------------------\n",
            "    SeqEval default\n",
            "------------------------------------------------------------\n",
            "default: \n",
            "                 precision    recall  f1-score   support\n",
            "\n",
            " Concepts_Ideas       0.00      0.00      0.00        34\n",
            "    DNAMutation       0.13      0.02      0.04       487\n",
            "       Disorder       0.00      0.00      0.00        67\n",
            "   Gene_Protein       0.43      0.43      0.43       746\n",
            "      Phenomena       0.00      0.00      0.00         6\n",
            "     Physiology       0.06      0.03      0.04        40\n",
            "ProteinMutation       0.00      0.00      0.00       228\n",
            "            RNA       0.00      0.00      0.00         1\n",
            "   RNA_Mutation       0.00      0.00      0.00         2\n",
            "            SNP       0.18      0.40      0.25       204\n",
            "            age       0.00      0.00      0.00         9\n",
            "      body-part       0.00      0.00      0.00        79\n",
            " cohort-patient       0.41      0.32      0.36       228\n",
            "        disease       0.23      0.33      0.27       253\n",
            "      ethnicity       0.00      0.00      0.00         4\n",
            "         gender       0.00      0.00      0.00         7\n",
            "          locus       0.00      0.00      0.00        75\n",
            "       mutation       0.07      0.12      0.09        66\n",
            "           size       0.00      0.00      0.00       125\n",
            "\n",
            "      micro avg       0.30      0.22      0.25      2661\n",
            "      macro avg       0.08      0.09      0.08      2661\n",
            "   weighted avg       0.22      0.22      0.21      2661\n",
            "\n"
          ]
        }
      ],
      "source": [
        "# generate metrics\n",
        "print(\"\\n\")\n",
        "print(\"-\"*60 + \"\\n\" + \"    SeqEval strict\\n\" + \"-\"*60)\n",
        "print(\"strict: \\n\" + classification_report(gold_label, pred_label, scheme=IOB2, mode='strict'))\n",
        "\n",
        "print(\"\\n\")\n",
        "print(\"-\"*60 + \"\\n\" + \"    SeqEval default\\n\" + \"-\"*60)\n",
        "print(\"default: \\n\" + classification_report(gold_label, pred_label))"
      ]
    },
    {
      "cell_type": "code",
      "execution_count": null,
      "id": "617853df-8f3c-4c91-ab77-9198705eb85e",
      "metadata": {
        "tags": [],
        "id": "617853df-8f3c-4c91-ab77-9198705eb85e",
        "outputId": "0dc31ce8-3091-4b60-ba6c-1a70e7d553ec"
      },
      "outputs": [
        {
          "name": "stdout",
          "output_type": "stream",
          "text": [
            "                 precision    recall  f1-score  support\n",
            "Concepts_Ideas    0.000000  0.000000  0.000000     34.0\n",
            "DNAMutation       0.555556  0.010267  0.020161    487.0\n",
            "Disorder          0.000000  0.000000  0.000000     67.0\n",
            "Gene_Protein      0.467552  0.424933  0.445225    746.0\n",
            "Phenomena         0.000000  0.000000  0.000000      6.0\n",
            "Physiology        0.000000  0.000000  0.000000     40.0\n",
            "ProteinMutation   0.000000  0.000000  0.000000    228.0\n",
            "RNA               0.000000  0.000000  0.000000      1.0\n",
            "RNA_Mutation      0.000000  0.000000  0.000000      2.0\n",
            "SNP               0.000000  0.000000  0.000000    204.0\n",
            "age               0.000000  0.000000  0.000000      9.0\n",
            "body-part         0.000000  0.000000  0.000000     79.0\n",
            "cohort-patient    0.413793  0.315789  0.358209    228.0\n",
            "disease           0.232687  0.332016  0.273616    253.0\n",
            "ethnicity         0.000000  0.000000  0.000000      4.0\n",
            "gender            0.000000  0.000000  0.000000      7.0\n",
            "locus             0.000000  0.000000  0.000000     75.0\n",
            "mutation          0.166667  0.045455  0.071429     66.0\n",
            "size              0.000000  0.000000  0.000000    125.0\n",
            "micro avg         0.387903  0.180759  0.246603   2661.0\n",
            "macro avg         0.096645  0.059393  0.061507   2661.0\n",
            "weighted avg      0.294462  0.180759  0.186985   2661.0\n"
          ]
        }
      ],
      "source": [
        "# save reports as csv\n",
        "import pandas as pd\n",
        "report = pd.DataFrame(classification_report(gold_label, pred_label, mode='strict', digits=2, output_dict=True)).transpose()\n",
        "print(report)\n",
        "df = pd.DataFrame(report)#.transpose()\n",
        "# With a Sheet Name\n",
        "file_name = \"multiCorpus\" + saveName\n",
        "report.to_excel('multiCorpus\\ ' + saveName + '.xlsx', index=True)"
      ]
    },
    {
      "cell_type": "code",
      "execution_count": null,
      "id": "e4a3b016-f463-4894-83d3-a41022d924dd",
      "metadata": {
        "id": "e4a3b016-f463-4894-83d3-a41022d924dd"
      },
      "outputs": [],
      "source": [
        "#######################################################\n",
        "####################### sklearn #######################\n",
        "#######################################################"
      ]
    },
    {
      "cell_type": "code",
      "execution_count": null,
      "id": "37445535-5d68-4a9e-877f-1792b089a434",
      "metadata": {
        "tags": [],
        "id": "37445535-5d68-4a9e-877f-1792b089a434"
      },
      "outputs": [],
      "source": [
        "from sklearn.metrics import confusion_matrix\n",
        "from sklearn.utils.multiclass import unique_labels\n",
        "import pandas as pd\n",
        "import seaborn as sns\n",
        "import evaluate"
      ]
    },
    {
      "cell_type": "code",
      "execution_count": null,
      "id": "a1242d4e-9270-4ae7-83ad-b8a8efb0622b",
      "metadata": {
        "tags": [],
        "id": "a1242d4e-9270-4ae7-83ad-b8a8efb0622b",
        "outputId": "dbb826ea-40a4-444e-f44c-876d6880b21d"
      },
      "outputs": [
        {
          "data": {
            "text/plain": [
              "197065"
            ]
          },
          "execution_count": 35,
          "metadata": {},
          "output_type": "execute_result"
        }
      ],
      "source": [
        "y_pred = []\n",
        "for sublist in pred_id:\n",
        "    for label in sublist:\n",
        "        y_pred.append(label)\n",
        "len(y_pred)"
      ]
    },
    {
      "cell_type": "code",
      "execution_count": null,
      "id": "1706389a-85cb-4b89-b302-92f5c3e45290",
      "metadata": {
        "tags": [],
        "id": "1706389a-85cb-4b89-b302-92f5c3e45290",
        "outputId": "7a00b13e-7c5d-438f-92ab-8c33d86fc550"
      },
      "outputs": [
        {
          "data": {
            "text/plain": [
              "197065"
            ]
          },
          "execution_count": 36,
          "metadata": {},
          "output_type": "execute_result"
        }
      ],
      "source": [
        "y_true = []\n",
        "for sublist in gold_id:\n",
        "    for label in sublist:\n",
        "        y_true.append(label)\n",
        "len(y_true)"
      ]
    },
    {
      "cell_type": "code",
      "execution_count": null,
      "id": "f321664f-d3a7-476b-9f4b-cfa1722c487a",
      "metadata": {
        "tags": [],
        "id": "f321664f-d3a7-476b-9f4b-cfa1722c487a",
        "outputId": "511d4b35-e64b-4b89-dc56-74a951774380"
      },
      "outputs": [
        {
          "name": "stdout",
          "output_type": "stream",
          "text": [
            "[ 0  1  2  3  4  8 17 21 22 24 25 28 32]\n",
            "[ 0  1  2  3  4  5  6  7  8 11 12 13 15 16 17 18 19 20 21 22 23 24 25 26\n",
            " 27 28 29 30 31 32 33 34 35 36 37 38 39]\n"
          ]
        }
      ],
      "source": [
        "print(unique_labels(y_pred))\n",
        "print(unique_labels(y_true))"
      ]
    },
    {
      "cell_type": "code",
      "execution_count": null,
      "id": "2db46878-7436-43d9-93b5-3ef82e020044",
      "metadata": {
        "tags": [],
        "id": "2db46878-7436-43d9-93b5-3ef82e020044",
        "outputId": "cc8167c8-186f-4afd-87bf-26f39beb6e62"
      },
      "outputs": [
        {
          "data": {
            "text/plain": [
              "array([[189606,    215,    134, ...,      0,      0,      0],\n",
              "       [   352,    355,     36, ...,      0,      0,      0],\n",
              "       [   460,     13,    298, ...,      0,      0,      0],\n",
              "       ...,\n",
              "       [    19,      3,      0, ...,      0,      0,      0],\n",
              "       [     3,      0,      0, ...,      0,      0,      0],\n",
              "       [     0,      0,      0, ...,      0,      0,      0]], dtype=int64)"
            ]
          },
          "execution_count": 38,
          "metadata": {},
          "output_type": "execute_result"
        }
      ],
      "source": [
        "confusion_matrix(y_true, y_pred, labels=[i for i in range(41)])"
      ]
    },
    {
      "cell_type": "code",
      "execution_count": null,
      "id": "3c2d3287-667c-4dd6-a9a5-5050bcd8cf71",
      "metadata": {
        "tags": [],
        "id": "3c2d3287-667c-4dd6-a9a5-5050bcd8cf71"
      },
      "outputs": [],
      "source": [
        "def plot(freal, predicted_token_class, label_list):\n",
        "    label_names = labels #unique_labels(y_true)\n",
        "    columns = [f'Pred{label}' for label in label_names]\n",
        "    index = [f'{label}' for label in label_names]\n",
        "    table = pd.DataFrame(confusion_matrix(y_true, y_pred, labels=[i for i in range(41)]), columns=columns, index=index)\n",
        "    return table"
      ]
    },
    {
      "cell_type": "code",
      "execution_count": null,
      "id": "921bcf54-371c-4452-8790-46ec7e8ed720",
      "metadata": {
        "id": "921bcf54-371c-4452-8790-46ec7e8ed720",
        "outputId": "194599f9-6363-4701-de0c-9a851a418404"
      },
      "outputs": [
        {
          "name": "stdout",
          "output_type": "stream",
          "text": [
            "                     PredO  PredB-Gene_Protein  PredI-Gene_Protein  \\\n",
            "O                   189606                 215                 134   \n",
            "B-Gene_Protein         352                 355                  36   \n",
            "I-Gene_Protein         460                  13                 298   \n",
            "B-DNAMutation          292                  25                   1   \n",
            "I-DNAMutation          476                   2                   0   \n",
            "B-ProteinMutation      156                   1                   0   \n",
            "I-ProteinMutation      225                   2                   0   \n",
            "B-SNP                  114                   0                   0   \n",
            "I-SNP                  220                   0                   0   \n",
            "B-DNA_modification       0                   0                   0   \n",
            "I-DNA_modification       0                   0                   0   \n",
            "B-RNA                    1                   0                   0   \n",
            "I-RNA                    1                   1                   1   \n",
            "B-RNA_Mutation           1                   0                   0   \n",
            "I-RNA_Mutation           0                   0                   0   \n",
            "B-locus                 49                  17                   2   \n",
            "I-locus                147                   5                  16   \n",
            "B-disease              139                   1                   0   \n",
            "I-disease               61                   0                   0   \n",
            "B-body-part             39                   0                   0   \n",
            "I-body-part              8                   0                   0   \n",
            "B-mutation              21                   8                   0   \n",
            "I-mutation             104                   1                   0   \n",
            "B-Physiology            22                   3                   0   \n",
            "I-Physiology            66                  18                   8   \n",
            "B-cohort-patient       110                   1                   2   \n",
            "I-cohort-patient        39                   0                   0   \n",
            "B-size                  77                   0                   0   \n",
            "I-size                 127                   0                   0   \n",
            "B-gender                 1                   0                   0   \n",
            "I-gender                 0                   0                   0   \n",
            "B-age                    6                   0                   0   \n",
            "I-age                   24                   0                   0   \n",
            "B-Concepts_Ideas        24                   0                   0   \n",
            "I-Concepts_Ideas        23                   0                   0   \n",
            "B-Disorder              42                   7                   0   \n",
            "I-Disorder              61                   0                   5   \n",
            "B-Phenomena              4                   0                   0   \n",
            "I-Phenomena             19                   3                   0   \n",
            "B-ethnicity              3                   0                   0   \n",
            "I-ethnicity              0                   0                   0   \n",
            "\n",
            "                    PredB-DNAMutation  PredI-DNAMutation  \\\n",
            "O                                   0                  7   \n",
            "B-Gene_Protein                      0                  0   \n",
            "I-Gene_Protein                      1                  0   \n",
            "B-DNAMutation                       7                 36   \n",
            "I-DNAMutation                       0                124   \n",
            "B-ProteinMutation                   0                  0   \n",
            "I-ProteinMutation                   0                  0   \n",
            "B-SNP                               0                  1   \n",
            "I-SNP                               0                  8   \n",
            "B-DNA_modification                  0                  0   \n",
            "I-DNA_modification                  0                  0   \n",
            "B-RNA                               0                  0   \n",
            "I-RNA                               0                  0   \n",
            "B-RNA_Mutation                      0                  0   \n",
            "I-RNA_Mutation                      0                  0   \n",
            "B-locus                             0                  0   \n",
            "I-locus                             0                  1   \n",
            "B-disease                           0                  0   \n",
            "I-disease                           0                  0   \n",
            "B-body-part                         0                  0   \n",
            "I-body-part                         0                  0   \n",
            "B-mutation                          1                  1   \n",
            "I-mutation                          0                  9   \n",
            "B-Physiology                        0                  0   \n",
            "I-Physiology                        0                  0   \n",
            "B-cohort-patient                    0                  0   \n",
            "I-cohort-patient                    0                  0   \n",
            "B-size                              0                  0   \n",
            "I-size                              0                  0   \n",
            "B-gender                            0                  0   \n",
            "I-gender                            0                  0   \n",
            "B-age                               0                  0   \n",
            "I-age                               0                  0   \n",
            "B-Concepts_Ideas                    0                  0   \n",
            "I-Concepts_Ideas                    0                  0   \n",
            "B-Disorder                          0                  0   \n",
            "I-Disorder                          0                  0   \n",
            "B-Phenomena                         0                  0   \n",
            "I-Phenomena                         0                  0   \n",
            "B-ethnicity                         0                  0   \n",
            "I-ethnicity                         0                  0   \n",
            "\n",
            "                    PredB-ProteinMutation  PredI-ProteinMutation  PredB-SNP  \\\n",
            "O                                       0                      0          0   \n",
            "B-Gene_Protein                          0                      0          0   \n",
            "I-Gene_Protein                          0                      0          0   \n",
            "B-DNAMutation                           0                      0          0   \n",
            "I-DNAMutation                           0                      0          0   \n",
            "B-ProteinMutation                       0                      0          0   \n",
            "I-ProteinMutation                       0                      0          0   \n",
            "B-SNP                                   0                      0          0   \n",
            "I-SNP                                   0                      0          0   \n",
            "B-DNA_modification                      0                      0          0   \n",
            "I-DNA_modification                      0                      0          0   \n",
            "B-RNA                                   0                      0          0   \n",
            "I-RNA                                   0                      0          0   \n",
            "B-RNA_Mutation                          0                      0          0   \n",
            "I-RNA_Mutation                          0                      0          0   \n",
            "B-locus                                 0                      0          0   \n",
            "I-locus                                 0                      0          0   \n",
            "B-disease                               0                      0          0   \n",
            "I-disease                               0                      0          0   \n",
            "B-body-part                             0                      0          0   \n",
            "I-body-part                             0                      0          0   \n",
            "B-mutation                              0                      0          0   \n",
            "I-mutation                              0                      0          0   \n",
            "B-Physiology                            0                      0          0   \n",
            "I-Physiology                            0                      0          0   \n",
            "B-cohort-patient                        0                      0          0   \n",
            "I-cohort-patient                        0                      0          0   \n",
            "B-size                                  0                      0          0   \n",
            "I-size                                  0                      0          0   \n",
            "B-gender                                0                      0          0   \n",
            "I-gender                                0                      0          0   \n",
            "B-age                                   0                      0          0   \n",
            "I-age                                   0                      0          0   \n",
            "B-Concepts_Ideas                        0                      0          0   \n",
            "I-Concepts_Ideas                        0                      0          0   \n",
            "B-Disorder                              0                      0          0   \n",
            "I-Disorder                              0                      0          0   \n",
            "B-Phenomena                             0                      0          0   \n",
            "I-Phenomena                             0                      0          0   \n",
            "B-ethnicity                             0                      0          0   \n",
            "I-ethnicity                             0                      0          0   \n",
            "\n",
            "                    PredI-SNP  PredB-DNA_modification  ...  PredB-age  \\\n",
            "O                         153                       0  ...          0   \n",
            "B-Gene_Protein              0                       0  ...          0   \n",
            "I-Gene_Protein              0                       0  ...          0   \n",
            "B-DNAMutation              53                       0  ...          0   \n",
            "I-DNAMutation             507                       0  ...          0   \n",
            "B-ProteinMutation          69                       0  ...          0   \n",
            "I-ProteinMutation         374                       0  ...          0   \n",
            "B-SNP                      89                       0  ...          0   \n",
            "I-SNP                     483                       0  ...          0   \n",
            "B-DNA_modification          0                       0  ...          0   \n",
            "I-DNA_modification          0                       0  ...          0   \n",
            "B-RNA                       0                       0  ...          0   \n",
            "I-RNA                       0                       0  ...          0   \n",
            "B-RNA_Mutation              0                       0  ...          0   \n",
            "I-RNA_Mutation              0                       0  ...          0   \n",
            "B-locus                     0                       0  ...          0   \n",
            "I-locus                     1                       0  ...          0   \n",
            "B-disease                   0                       0  ...          0   \n",
            "I-disease                   0                       0  ...          0   \n",
            "B-body-part                 0                       0  ...          0   \n",
            "I-body-part                 0                       0  ...          0   \n",
            "B-mutation                  0                       0  ...          0   \n",
            "I-mutation                 13                       0  ...          0   \n",
            "B-Physiology                0                       0  ...          0   \n",
            "I-Physiology                0                       0  ...          0   \n",
            "B-cohort-patient            0                       0  ...          0   \n",
            "I-cohort-patient            0                       0  ...          0   \n",
            "B-size                      0                       0  ...          0   \n",
            "I-size                      0                       0  ...          0   \n",
            "B-gender                    0                       0  ...          0   \n",
            "I-gender                    0                       0  ...          0   \n",
            "B-age                       0                       0  ...          0   \n",
            "I-age                       0                       0  ...          0   \n",
            "B-Concepts_Ideas            0                       0  ...          0   \n",
            "I-Concepts_Ideas            0                       0  ...          0   \n",
            "B-Disorder                  0                       0  ...          0   \n",
            "I-Disorder                  0                       0  ...          0   \n",
            "B-Phenomena                 0                       0  ...          0   \n",
            "I-Phenomena                 0                       0  ...          0   \n",
            "B-ethnicity                 0                       0  ...          0   \n",
            "I-ethnicity                 0                       0  ...          0   \n",
            "\n",
            "                    PredI-age  PredB-Concepts_Ideas  PredI-Concepts_Ideas  \\\n",
            "O                           0                     0                     0   \n",
            "B-Gene_Protein              0                     0                     0   \n",
            "I-Gene_Protein              0                     0                     0   \n",
            "B-DNAMutation               0                     0                     0   \n",
            "I-DNAMutation               0                     0                     0   \n",
            "B-ProteinMutation           0                     0                     0   \n",
            "I-ProteinMutation           0                     0                     0   \n",
            "B-SNP                       0                     0                     0   \n",
            "I-SNP                       0                     0                     0   \n",
            "B-DNA_modification          0                     0                     0   \n",
            "I-DNA_modification          0                     0                     0   \n",
            "B-RNA                       0                     0                     0   \n",
            "I-RNA                       0                     0                     0   \n",
            "B-RNA_Mutation              0                     0                     0   \n",
            "I-RNA_Mutation              0                     0                     0   \n",
            "B-locus                     0                     0                     0   \n",
            "I-locus                     0                     0                     0   \n",
            "B-disease                   0                     0                     0   \n",
            "I-disease                   0                     0                     0   \n",
            "B-body-part                 0                     0                     0   \n",
            "I-body-part                 0                     0                     0   \n",
            "B-mutation                  0                     0                     0   \n",
            "I-mutation                  0                     0                     0   \n",
            "B-Physiology                0                     0                     0   \n",
            "I-Physiology                0                     0                     0   \n",
            "B-cohort-patient            0                     0                     0   \n",
            "I-cohort-patient            0                     0                     0   \n",
            "B-size                      0                     0                     0   \n",
            "I-size                      4                     0                     0   \n",
            "B-gender                    0                     0                     0   \n",
            "I-gender                    0                     0                     0   \n",
            "B-age                       0                     0                     0   \n",
            "I-age                       3                     0                     0   \n",
            "B-Concepts_Ideas            0                     0                     0   \n",
            "I-Concepts_Ideas            0                     0                     0   \n",
            "B-Disorder                  0                     0                     0   \n",
            "I-Disorder                  0                     0                     0   \n",
            "B-Phenomena                 0                     0                     0   \n",
            "I-Phenomena                 0                     0                     0   \n",
            "B-ethnicity                 0                     0                     0   \n",
            "I-ethnicity                 0                     0                     0   \n",
            "\n",
            "                    PredB-Disorder  PredI-Disorder  PredB-Phenomena  \\\n",
            "O                                0               0                0   \n",
            "B-Gene_Protein                   0               0                0   \n",
            "I-Gene_Protein                   0               0                0   \n",
            "B-DNAMutation                    0               0                0   \n",
            "I-DNAMutation                    0               0                0   \n",
            "B-ProteinMutation                0               0                0   \n",
            "I-ProteinMutation                0               0                0   \n",
            "B-SNP                            0               0                0   \n",
            "I-SNP                            0               0                0   \n",
            "B-DNA_modification               0               0                0   \n",
            "I-DNA_modification               0               0                0   \n",
            "B-RNA                            0               0                0   \n",
            "I-RNA                            0               0                0   \n",
            "B-RNA_Mutation                   0               0                0   \n",
            "I-RNA_Mutation                   0               0                0   \n",
            "B-locus                          0               0                0   \n",
            "I-locus                          0               0                0   \n",
            "B-disease                        0               0                0   \n",
            "I-disease                        0               0                0   \n",
            "B-body-part                      0               0                0   \n",
            "I-body-part                      0               0                0   \n",
            "B-mutation                       0               0                0   \n",
            "I-mutation                       0               0                0   \n",
            "B-Physiology                     0               0                0   \n",
            "I-Physiology                     0               0                0   \n",
            "B-cohort-patient                 0               0                0   \n",
            "I-cohort-patient                 0               0                0   \n",
            "B-size                           0               0                0   \n",
            "I-size                           0               0                0   \n",
            "B-gender                         0               0                0   \n",
            "I-gender                         0               0                0   \n",
            "B-age                            0               0                0   \n",
            "I-age                            0               0                0   \n",
            "B-Concepts_Ideas                 0               0                0   \n",
            "I-Concepts_Ideas                 0               0                0   \n",
            "B-Disorder                       0               0                0   \n",
            "I-Disorder                       0               0                0   \n",
            "B-Phenomena                      0               0                0   \n",
            "I-Phenomena                      0               0                0   \n",
            "B-ethnicity                      0               0                0   \n",
            "I-ethnicity                      0               0                0   \n",
            "\n",
            "                    PredI-Phenomena  PredB-ethnicity  PredI-ethnicity  \n",
            "O                                 0                0                0  \n",
            "B-Gene_Protein                    0                0                0  \n",
            "I-Gene_Protein                    0                0                0  \n",
            "B-DNAMutation                     0                0                0  \n",
            "I-DNAMutation                     0                0                0  \n",
            "B-ProteinMutation                 0                0                0  \n",
            "I-ProteinMutation                 0                0                0  \n",
            "B-SNP                             0                0                0  \n",
            "I-SNP                             0                0                0  \n",
            "B-DNA_modification                0                0                0  \n",
            "I-DNA_modification                0                0                0  \n",
            "B-RNA                             0                0                0  \n",
            "I-RNA                             0                0                0  \n",
            "B-RNA_Mutation                    0                0                0  \n",
            "I-RNA_Mutation                    0                0                0  \n",
            "B-locus                           0                0                0  \n",
            "I-locus                           0                0                0  \n",
            "B-disease                         0                0                0  \n",
            "I-disease                         0                0                0  \n",
            "B-body-part                       0                0                0  \n",
            "I-body-part                       0                0                0  \n",
            "B-mutation                        0                0                0  \n",
            "I-mutation                        0                0                0  \n",
            "B-Physiology                      0                0                0  \n",
            "I-Physiology                      0                0                0  \n",
            "B-cohort-patient                  0                0                0  \n",
            "I-cohort-patient                  0                0                0  \n",
            "B-size                            0                0                0  \n",
            "I-size                            0                0                0  \n",
            "B-gender                          0                0                0  \n",
            "I-gender                          0                0                0  \n",
            "B-age                             0                0                0  \n",
            "I-age                             0                0                0  \n",
            "B-Concepts_Ideas                  0                0                0  \n",
            "I-Concepts_Ideas                  0                0                0  \n",
            "B-Disorder                        0                0                0  \n",
            "I-Disorder                        0                0                0  \n",
            "B-Phenomena                       0                0                0  \n",
            "I-Phenomena                       0                0                0  \n",
            "B-ethnicity                       0                0                0  \n",
            "I-ethnicity                       0                0                0  \n",
            "\n",
            "[41 rows x 41 columns]\n"
          ]
        }
      ],
      "source": [
        "plot = plot(y_true, y_pred, labels)\n",
        "print(plot)\n",
        "df = pd.DataFrame(plot)#.transpose()\n",
        "df.to_excel('multiCorpus\\ ' + saveName + 'confusion_.xlsx', index=True)"
      ]
    },
    {
      "cell_type": "code",
      "execution_count": null,
      "id": "2d815954-6556-4824-9f01-5d05fd326744",
      "metadata": {
        "tags": [],
        "id": "2d815954-6556-4824-9f01-5d05fd326744"
      },
      "outputs": [],
      "source": [
        "labels_heat = ['O', 'B-Gene_Protein', 'I-Gene_Protein', 'B-DNAMutation', 'I-DNAMutation', 'B-ProteinMutation', 'I-ProteinMutation', 'B-SNP', 'I-SNP']"
      ]
    },
    {
      "cell_type": "code",
      "execution_count": null,
      "id": "cddeada2-70ff-4fc1-8d2c-b88b20c9b05b",
      "metadata": {
        "tags": [],
        "id": "cddeada2-70ff-4fc1-8d2c-b88b20c9b05b"
      },
      "outputs": [],
      "source": [
        "def plot_heat(freal, predicted_token_class, label_list):\n",
        "    label_names = label_list #unique_labels(y_true)\n",
        "    columns = [f'{label}' for label in label_names]\n",
        "    index = [f'{label}' for label in label_names]\n",
        "    table = pd.DataFrame(confusion_matrix(y_true, y_pred, labels= [i for i in range(9)]), columns=columns, index=index)\n",
        "    figsize=(100,100)\n",
        "    return sns.heatmap(table, annot=True, fmt='d', vmax=510, cmap='YlOrBr')"
      ]
    },
    {
      "cell_type": "code",
      "execution_count": null,
      "id": "f9992f50-5b71-4ed6-bed7-4804ad804b93",
      "metadata": {
        "tags": [],
        "id": "f9992f50-5b71-4ed6-bed7-4804ad804b93",
        "outputId": "6ba992d8-2354-4c12-b70f-f9f68dbcb1ca"
      },
      "outputs": [
        {
          "data": {
            "image/png": "[encoded data removed]",
            "text/plain": [
              "<Figure size 640x480 with 2 Axes>"
            ]
          },
          "metadata": {},
          "output_type": "display_data"
        }
      ],
      "source": [
        "ax = plot_heat(y_true, y_pred, labels_heat)\n",
        "ax.set(xlabel=\"Prediction\", ylabel=\"Actual\")\n",
        "ax.figure.savefig(\"output.png\")"
      ]
    },
    {
      "cell_type": "code",
      "execution_count": null,
      "id": "88e0b36e-dbf5-4eed-955f-1f5762ad3bd6",
      "metadata": {
        "tags": [],
        "id": "88e0b36e-dbf5-4eed-955f-1f5762ad3bd6"
      },
      "outputs": [],
      "source": [
        "from sklearn.metrics import classification_report"
      ]
    },
    {
      "cell_type": "code",
      "execution_count": null,
      "id": "35c420e9-448a-45a8-bff1-c6f084b9e84c",
      "metadata": {
        "tags": [],
        "id": "35c420e9-448a-45a8-bff1-c6f084b9e84c",
        "outputId": "ea7ef79f-14f3-41ee-cb9c-8e93d0460222"
      },
      "outputs": [
        {
          "name": "stdout",
          "output_type": "stream",
          "text": [
            "{'O': {'precision': 0.9818040596520299, 'recall': 0.9970709338830371, 'f1-score': 0.9893786053647045, 'support': 190163}, 'B-Gene_Protein': {'precision': 0.523598820058997, 'recall': 0.47587131367292224, 'f1-score': 0.4985955056179775, 'support': 746}, 'I-Gene_Protein': {'precision': 0.5924453280318092, 'recall': 0.3855109961190168, 'f1-score': 0.46708463949843254, 'support': 773}, 'B-DNAMutation': {'precision': 0.7777777777777778, 'recall': 0.014373716632443531, 'f1-score': 0.028225806451612902, 'support': 487}, 'I-DNAMutation': {'precision': 0.6631016042780749, 'recall': 0.1084864391951006, 'f1-score': 0.18646616541353384, 'support': 1143}, 'B-ProteinMutation': {'precision': 0.0, 'recall': 0.0, 'f1-score': 0.0, 'support': 228}, 'I-ProteinMutation': {'precision': 0.0, 'recall': 0.0, 'f1-score': 0.0, 'support': 602}, 'B-SNP': {'precision': 0.0, 'recall': 0.0, 'f1-score': 0.0, 'support': 204}, 'I-SNP': {'precision': 0.2772675086107922, 'recall': 0.679324894514768, 'f1-score': 0.3938035059111292, 'support': 711}, 'B-DNA_modification': {'precision': 0.0, 'recall': 0.0, 'f1-score': 0.0, 'support': 0}, 'I-DNA_modification': {'precision': 0.0, 'recall': 0.0, 'f1-score': 0.0, 'support': 0}, 'B-RNA': {'precision': 0.0, 'recall': 0.0, 'f1-score': 0.0, 'support': 1}, 'I-RNA': {'precision': 0.0, 'recall': 0.0, 'f1-score': 0.0, 'support': 3}, 'B-RNA_Mutation': {'precision': 0.0, 'recall': 0.0, 'f1-score': 0.0, 'support': 2}, 'I-RNA_Mutation': {'precision': 0.0, 'recall': 0.0, 'f1-score': 0.0, 'support': 0}, 'B-locus': {'precision': 0.0, 'recall': 0.0, 'f1-score': 0.0, 'support': 75}, 'I-locus': {'precision': 0.0, 'recall': 0.0, 'f1-score': 0.0, 'support': 185}, 'B-disease': {'precision': 0.3074792243767313, 'recall': 0.43873517786561267, 'f1-score': 0.36156351791530944, 'support': 253}, 'I-disease': {'precision': 0.0, 'recall': 0.0, 'f1-score': 0.0, 'support': 89}, 'B-body-part': {'precision': 0.0, 'recall': 0.0, 'f1-score': 0.0, 'support': 79}, 'I-body-part': {'precision': 0.0, 'recall': 0.0, 'f1-score': 0.0, 'support': 16}, 'B-mutation': {'precision': 0.2222222222222222, 'recall': 0.06060606060606061, 'f1-score': 0.09523809523809523, 'support': 66}, 'I-mutation': {'precision': 0.37083333333333335, 'recall': 0.41203703703703703, 'f1-score': 0.3903508771929825, 'support': 216}, 'B-Physiology': {'precision': 0.0, 'recall': 0.0, 'f1-score': 0.0, 'support': 40}, 'I-Physiology': {'precision': 0.7142857142857143, 'recall': 0.13157894736842105, 'f1-score': 0.2222222222222222, 'support': 114}, 'B-cohort-patient': {'precision': 0.46551724137931033, 'recall': 0.35526315789473684, 'f1-score': 0.4029850746268656, 'support': 228}, 'I-cohort-patient': {'precision': 0.0, 'recall': 0.0, 'f1-score': 0.0, 'support': 61}, 'B-size': {'precision': 0.0, 'recall': 0.0, 'f1-score': 0.0, 'support': 125}, 'I-size': {'precision': 0.6, 'recall': 0.018404907975460124, 'f1-score': 0.03571428571428572, 'support': 163}, 'B-gender': {'precision': 0.0, 'recall': 0.0, 'f1-score': 0.0, 'support': 7}, 'I-gender': {'precision': 0.0, 'recall': 0.0, 'f1-score': 0.0, 'support': 1}, 'B-age': {'precision': 0.0, 'recall': 0.0, 'f1-score': 0.0, 'support': 9}, 'I-age': {'precision': 0.42857142857142855, 'recall': 0.10714285714285714, 'f1-score': 0.17142857142857143, 'support': 28}, 'B-Concepts_Ideas': {'precision': 0.0, 'recall': 0.0, 'f1-score': 0.0, 'support': 34}, 'I-Concepts_Ideas': {'precision': 0.0, 'recall': 0.0, 'f1-score': 0.0, 'support': 30}, 'B-Disorder': {'precision': 0.0, 'recall': 0.0, 'f1-score': 0.0, 'support': 67}, 'I-Disorder': {'precision': 0.0, 'recall': 0.0, 'f1-score': 0.0, 'support': 84}, 'B-Phenomena': {'precision': 0.0, 'recall': 0.0, 'f1-score': 0.0, 'support': 6}, 'I-Phenomena': {'precision': 0.0, 'recall': 0.0, 'f1-score': 0.0, 'support': 22}, 'B-ethnicity': {'precision': 0.0, 'recall': 0.0, 'f1-score': 0.0, 'support': 4}, 'I-ethnicity': {'precision': 0.0, 'recall': 0.0, 'f1-score': 0.0, 'support': 0}, 'micro avg': {'precision': 0.9701316824398041, 'recall': 0.9701316824398041, 'f1-score': 0.9701316824398042, 'support': 197065}, 'macro avg': {'precision': 0.16890010396532246, 'recall': 0.10205869365627986, 'f1-score': 0.10348919201452983, 'support': 197065}, 'weighted avg': {'precision': 0.960876542648002, 'recall': 0.9701316824398041, 'f1-score': 0.9625910025916101, 'support': 197065}}\n",
            "\n",
            "\n",
            "------------------------------------------------------------\n",
            "    Label Report\n",
            "------------------------------------------------------------\n",
            "                    precision    recall  f1-score   support\n",
            "O                    0.981804  0.997071  0.989379  190163.0\n",
            "B-Gene_Protein       0.523599  0.475871  0.498596     746.0\n",
            "I-Gene_Protein       0.592445  0.385511  0.467085     773.0\n",
            "B-DNAMutation        0.777778  0.014374  0.028226     487.0\n",
            "I-DNAMutation        0.663102  0.108486  0.186466    1143.0\n",
            "B-ProteinMutation    0.000000  0.000000  0.000000     228.0\n",
            "I-ProteinMutation    0.000000  0.000000  0.000000     602.0\n",
            "B-SNP                0.000000  0.000000  0.000000     204.0\n",
            "I-SNP                0.277268  0.679325  0.393804     711.0\n",
            "B-DNA_modification   0.000000  0.000000  0.000000       0.0\n",
            "I-DNA_modification   0.000000  0.000000  0.000000       0.0\n",
            "B-RNA                0.000000  0.000000  0.000000       1.0\n",
            "I-RNA                0.000000  0.000000  0.000000       3.0\n",
            "B-RNA_Mutation       0.000000  0.000000  0.000000       2.0\n",
            "I-RNA_Mutation       0.000000  0.000000  0.000000       0.0\n",
            "B-locus              0.000000  0.000000  0.000000      75.0\n",
            "I-locus              0.000000  0.000000  0.000000     185.0\n",
            "B-disease            0.307479  0.438735  0.361564     253.0\n",
            "I-disease            0.000000  0.000000  0.000000      89.0\n",
            "B-body-part          0.000000  0.000000  0.000000      79.0\n",
            "I-body-part          0.000000  0.000000  0.000000      16.0\n",
            "B-mutation           0.222222  0.060606  0.095238      66.0\n",
            "I-mutation           0.370833  0.412037  0.390351     216.0\n",
            "B-Physiology         0.000000  0.000000  0.000000      40.0\n",
            "I-Physiology         0.714286  0.131579  0.222222     114.0\n",
            "B-cohort-patient     0.465517  0.355263  0.402985     228.0\n",
            "I-cohort-patient     0.000000  0.000000  0.000000      61.0\n",
            "B-size               0.000000  0.000000  0.000000     125.0\n",
            "I-size               0.600000  0.018405  0.035714     163.0\n",
            "B-gender             0.000000  0.000000  0.000000       7.0\n",
            "I-gender             0.000000  0.000000  0.000000       1.0\n",
            "B-age                0.000000  0.000000  0.000000       9.0\n",
            "I-age                0.428571  0.107143  0.171429      28.0\n",
            "B-Concepts_Ideas     0.000000  0.000000  0.000000      34.0\n",
            "I-Concepts_Ideas     0.000000  0.000000  0.000000      30.0\n",
            "B-Disorder           0.000000  0.000000  0.000000      67.0\n",
            "I-Disorder           0.000000  0.000000  0.000000      84.0\n",
            "B-Phenomena          0.000000  0.000000  0.000000       6.0\n",
            "I-Phenomena          0.000000  0.000000  0.000000      22.0\n",
            "B-ethnicity          0.000000  0.000000  0.000000       4.0\n",
            "I-ethnicity          0.000000  0.000000  0.000000       0.0\n",
            "micro avg            0.970132  0.970132  0.970132  197065.0\n",
            "macro avg            0.168900  0.102059  0.103489  197065.0\n",
            "weighted avg         0.960877  0.970132  0.962591  197065.0\n"
          ]
        },
        {
          "name": "stderr",
          "output_type": "stream",
          "text": [
            "C:\\Users\\pc\\AppData\\Local\\Programs\\Python\\Python310\\lib\\site-packages\\sklearn\\metrics\\_classification.py:1344: UndefinedMetricWarning: Precision and F-score are ill-defined and being set to 0.0 in labels with no predicted samples. Use `zero_division` parameter to control this behavior.\n",
            "  _warn_prf(average, modifier, msg_start, len(result))\n",
            "C:\\Users\\pc\\AppData\\Local\\Programs\\Python\\Python310\\lib\\site-packages\\sklearn\\metrics\\_classification.py:1344: UndefinedMetricWarning: Recall and F-score are ill-defined and being set to 0.0 in labels with no true samples. Use `zero_division` parameter to control this behavior.\n",
            "  _warn_prf(average, modifier, msg_start, len(result))\n",
            "C:\\Users\\pc\\AppData\\Local\\Programs\\Python\\Python310\\lib\\site-packages\\sklearn\\metrics\\_classification.py:1344: UndefinedMetricWarning: Precision and F-score are ill-defined and being set to 0.0 in labels with no predicted samples. Use `zero_division` parameter to control this behavior.\n",
            "  _warn_prf(average, modifier, msg_start, len(result))\n",
            "C:\\Users\\pc\\AppData\\Local\\Programs\\Python\\Python310\\lib\\site-packages\\sklearn\\metrics\\_classification.py:1344: UndefinedMetricWarning: Recall and F-score are ill-defined and being set to 0.0 in labels with no true samples. Use `zero_division` parameter to control this behavior.\n",
            "  _warn_prf(average, modifier, msg_start, len(result))\n",
            "C:\\Users\\pc\\AppData\\Local\\Programs\\Python\\Python310\\lib\\site-packages\\sklearn\\metrics\\_classification.py:1344: UndefinedMetricWarning: Precision and F-score are ill-defined and being set to 0.0 in labels with no predicted samples. Use `zero_division` parameter to control this behavior.\n",
            "  _warn_prf(average, modifier, msg_start, len(result))\n",
            "C:\\Users\\pc\\AppData\\Local\\Programs\\Python\\Python310\\lib\\site-packages\\sklearn\\metrics\\_classification.py:1344: UndefinedMetricWarning: Recall and F-score are ill-defined and being set to 0.0 in labels with no true samples. Use `zero_division` parameter to control this behavior.\n",
            "  _warn_prf(average, modifier, msg_start, len(result))\n"
          ]
        }
      ],
      "source": [
        "report = classification_report(y_true, y_pred, labels=[i for i in range(41)], target_names = labels, output_dict=True)\n",
        "print(report)\n",
        "df = pd.DataFrame(report).transpose()\n",
        "df.to_csv('multiCorpus\\ ' + saveName + '_label_report.csv') \n",
        "print(\"\\n\")\n",
        "print(\"-\"*60 + \"\\n\" + \"    Label Report\\n\" + \"-\"*60)\n",
        "print(df)"
      ]
    },
    {
      "cell_type": "code",
      "execution_count": null,
      "id": "c0a7b315-241a-4566-93f5-e33ee8f9a047",
      "metadata": {
        "id": "c0a7b315-241a-4566-93f5-e33ee8f9a047",
        "outputId": "9ccc2e9c-dc11-4a31-982a-b07deeb13a48"
      },
      "outputs": [
        {
          "name": "stdout",
          "output_type": "stream",
          "text": [
            "{'O': {'precision': 0.9818040596520299, 'recall': 0.9970709338830371, 'f1-score': 0.9893786053647045, 'support': 190163}, 'B-Gene_Protein': {'precision': 0.523598820058997, 'recall': 0.47587131367292224, 'f1-score': 0.4985955056179775, 'support': 746}, 'I-Gene_Protein': {'precision': 0.5924453280318092, 'recall': 0.3855109961190168, 'f1-score': 0.46708463949843254, 'support': 773}, 'B-DNAMutation': {'precision': 0.7777777777777778, 'recall': 0.014373716632443531, 'f1-score': 0.028225806451612902, 'support': 487}, 'I-DNAMutation': {'precision': 0.6631016042780749, 'recall': 0.1084864391951006, 'f1-score': 0.18646616541353384, 'support': 1143}, 'B-ProteinMutation': {'precision': 0.0, 'recall': 0.0, 'f1-score': 0.0, 'support': 228}, 'I-ProteinMutation': {'precision': 0.0, 'recall': 0.0, 'f1-score': 0.0, 'support': 602}, 'B-SNP': {'precision': 0.0, 'recall': 0.0, 'f1-score': 0.0, 'support': 204}, 'I-SNP': {'precision': 0.2772675086107922, 'recall': 0.679324894514768, 'f1-score': 0.3938035059111292, 'support': 711}, 'B-DNA_modification': {'precision': 0.0, 'recall': 0.0, 'f1-score': 0.0, 'support': 0}, 'I-DNA_modification': {'precision': 0.0, 'recall': 0.0, 'f1-score': 0.0, 'support': 0}, 'B-RNA': {'precision': 0.0, 'recall': 0.0, 'f1-score': 0.0, 'support': 1}, 'I-RNA': {'precision': 0.0, 'recall': 0.0, 'f1-score': 0.0, 'support': 3}, 'B-RNA_Mutation': {'precision': 0.0, 'recall': 0.0, 'f1-score': 0.0, 'support': 2}, 'I-RNA_Mutation': {'precision': 0.0, 'recall': 0.0, 'f1-score': 0.0, 'support': 0}, 'B-locus': {'precision': 0.0, 'recall': 0.0, 'f1-score': 0.0, 'support': 75}, 'I-locus': {'precision': 0.0, 'recall': 0.0, 'f1-score': 0.0, 'support': 185}, 'B-disease': {'precision': 0.3074792243767313, 'recall': 0.43873517786561267, 'f1-score': 0.36156351791530944, 'support': 253}, 'I-disease': {'precision': 0.0, 'recall': 0.0, 'f1-score': 0.0, 'support': 89}, 'B-body-part': {'precision': 0.0, 'recall': 0.0, 'f1-score': 0.0, 'support': 79}, 'I-body-part': {'precision': 0.0, 'recall': 0.0, 'f1-score': 0.0, 'support': 16}, 'B-mutation': {'precision': 0.2222222222222222, 'recall': 0.06060606060606061, 'f1-score': 0.09523809523809523, 'support': 66}, 'I-mutation': {'precision': 0.37083333333333335, 'recall': 0.41203703703703703, 'f1-score': 0.3903508771929825, 'support': 216}, 'B-Physiology': {'precision': 0.0, 'recall': 0.0, 'f1-score': 0.0, 'support': 40}, 'I-Physiology': {'precision': 0.7142857142857143, 'recall': 0.13157894736842105, 'f1-score': 0.2222222222222222, 'support': 114}, 'B-cohort-patient': {'precision': 0.46551724137931033, 'recall': 0.35526315789473684, 'f1-score': 0.4029850746268656, 'support': 228}, 'I-cohort-patient': {'precision': 0.0, 'recall': 0.0, 'f1-score': 0.0, 'support': 61}, 'B-size': {'precision': 0.0, 'recall': 0.0, 'f1-score': 0.0, 'support': 125}, 'I-size': {'precision': 0.6, 'recall': 0.018404907975460124, 'f1-score': 0.03571428571428572, 'support': 163}, 'B-gender': {'precision': 0.0, 'recall': 0.0, 'f1-score': 0.0, 'support': 7}, 'I-gender': {'precision': 0.0, 'recall': 0.0, 'f1-score': 0.0, 'support': 1}, 'B-age': {'precision': 0.0, 'recall': 0.0, 'f1-score': 0.0, 'support': 9}, 'I-age': {'precision': 0.42857142857142855, 'recall': 0.10714285714285714, 'f1-score': 0.17142857142857143, 'support': 28}, 'B-Concepts_Ideas': {'precision': 0.0, 'recall': 0.0, 'f1-score': 0.0, 'support': 34}, 'I-Concepts_Ideas': {'precision': 0.0, 'recall': 0.0, 'f1-score': 0.0, 'support': 30}, 'B-Disorder': {'precision': 0.0, 'recall': 0.0, 'f1-score': 0.0, 'support': 67}, 'I-Disorder': {'precision': 0.0, 'recall': 0.0, 'f1-score': 0.0, 'support': 84}, 'B-Phenomena': {'precision': 0.0, 'recall': 0.0, 'f1-score': 0.0, 'support': 6}, 'I-Phenomena': {'precision': 0.0, 'recall': 0.0, 'f1-score': 0.0, 'support': 22}, 'B-ethnicity': {'precision': 0.0, 'recall': 0.0, 'f1-score': 0.0, 'support': 4}, 'I-ethnicity': {'precision': 0.0, 'recall': 0.0, 'f1-score': 0.0, 'support': 0}, 'micro avg': {'precision': 0.9701316824398041, 'recall': 0.9701316824398041, 'f1-score': 0.9701316824398042, 'support': 197065}, 'macro avg': {'precision': 0.16890010396532246, 'recall': 0.10205869365627986, 'f1-score': 0.10348919201452983, 'support': 197065}, 'weighted avg': {'precision': 0.960876542648002, 'recall': 0.9701316824398041, 'f1-score': 0.9625910025916101, 'support': 197065}}\n",
            "\n",
            "\n",
            "------------------------------------------------------------\n",
            "    Label Report\n",
            "------------------------------------------------------------\n",
            "                    precision    recall  f1-score   support\n",
            "O                    0.981804  0.997071  0.989379  190163.0\n",
            "B-Gene_Protein       0.523599  0.475871  0.498596     746.0\n",
            "I-Gene_Protein       0.592445  0.385511  0.467085     773.0\n",
            "B-DNAMutation        0.777778  0.014374  0.028226     487.0\n",
            "I-DNAMutation        0.663102  0.108486  0.186466    1143.0\n",
            "B-ProteinMutation    0.000000  0.000000  0.000000     228.0\n",
            "I-ProteinMutation    0.000000  0.000000  0.000000     602.0\n",
            "B-SNP                0.000000  0.000000  0.000000     204.0\n",
            "I-SNP                0.277268  0.679325  0.393804     711.0\n",
            "B-DNA_modification   0.000000  0.000000  0.000000       0.0\n",
            "I-DNA_modification   0.000000  0.000000  0.000000       0.0\n",
            "B-RNA                0.000000  0.000000  0.000000       1.0\n",
            "I-RNA                0.000000  0.000000  0.000000       3.0\n",
            "B-RNA_Mutation       0.000000  0.000000  0.000000       2.0\n",
            "I-RNA_Mutation       0.000000  0.000000  0.000000       0.0\n",
            "B-locus              0.000000  0.000000  0.000000      75.0\n",
            "I-locus              0.000000  0.000000  0.000000     185.0\n",
            "B-disease            0.307479  0.438735  0.361564     253.0\n",
            "I-disease            0.000000  0.000000  0.000000      89.0\n",
            "B-body-part          0.000000  0.000000  0.000000      79.0\n",
            "I-body-part          0.000000  0.000000  0.000000      16.0\n",
            "B-mutation           0.222222  0.060606  0.095238      66.0\n",
            "I-mutation           0.370833  0.412037  0.390351     216.0\n",
            "B-Physiology         0.000000  0.000000  0.000000      40.0\n",
            "I-Physiology         0.714286  0.131579  0.222222     114.0\n",
            "B-cohort-patient     0.465517  0.355263  0.402985     228.0\n",
            "I-cohort-patient     0.000000  0.000000  0.000000      61.0\n",
            "B-size               0.000000  0.000000  0.000000     125.0\n",
            "I-size               0.600000  0.018405  0.035714     163.0\n",
            "B-gender             0.000000  0.000000  0.000000       7.0\n",
            "I-gender             0.000000  0.000000  0.000000       1.0\n",
            "B-age                0.000000  0.000000  0.000000       9.0\n",
            "I-age                0.428571  0.107143  0.171429      28.0\n",
            "B-Concepts_Ideas     0.000000  0.000000  0.000000      34.0\n",
            "I-Concepts_Ideas     0.000000  0.000000  0.000000      30.0\n",
            "B-Disorder           0.000000  0.000000  0.000000      67.0\n",
            "I-Disorder           0.000000  0.000000  0.000000      84.0\n",
            "B-Phenomena          0.000000  0.000000  0.000000       6.0\n",
            "I-Phenomena          0.000000  0.000000  0.000000      22.0\n",
            "B-ethnicity          0.000000  0.000000  0.000000       4.0\n",
            "I-ethnicity          0.000000  0.000000  0.000000       0.0\n",
            "micro avg            0.970132  0.970132  0.970132  197065.0\n",
            "macro avg            0.168900  0.102059  0.103489  197065.0\n",
            "weighted avg         0.960877  0.970132  0.962591  197065.0\n"
          ]
        },
        {
          "name": "stderr",
          "output_type": "stream",
          "text": [
            "C:\\Users\\pc\\AppData\\Local\\Programs\\Python\\Python310\\lib\\site-packages\\sklearn\\metrics\\_classification.py:1344: UndefinedMetricWarning: Precision and F-score are ill-defined and being set to 0.0 in labels with no predicted samples. Use `zero_division` parameter to control this behavior.\n",
            "  _warn_prf(average, modifier, msg_start, len(result))\n",
            "C:\\Users\\pc\\AppData\\Local\\Programs\\Python\\Python310\\lib\\site-packages\\sklearn\\metrics\\_classification.py:1344: UndefinedMetricWarning: Recall and F-score are ill-defined and being set to 0.0 in labels with no true samples. Use `zero_division` parameter to control this behavior.\n",
            "  _warn_prf(average, modifier, msg_start, len(result))\n",
            "C:\\Users\\pc\\AppData\\Local\\Programs\\Python\\Python310\\lib\\site-packages\\sklearn\\metrics\\_classification.py:1344: UndefinedMetricWarning: Precision and F-score are ill-defined and being set to 0.0 in labels with no predicted samples. Use `zero_division` parameter to control this behavior.\n",
            "  _warn_prf(average, modifier, msg_start, len(result))\n",
            "C:\\Users\\pc\\AppData\\Local\\Programs\\Python\\Python310\\lib\\site-packages\\sklearn\\metrics\\_classification.py:1344: UndefinedMetricWarning: Recall and F-score are ill-defined and being set to 0.0 in labels with no true samples. Use `zero_division` parameter to control this behavior.\n",
            "  _warn_prf(average, modifier, msg_start, len(result))\n",
            "C:\\Users\\pc\\AppData\\Local\\Programs\\Python\\Python310\\lib\\site-packages\\sklearn\\metrics\\_classification.py:1344: UndefinedMetricWarning: Precision and F-score are ill-defined and being set to 0.0 in labels with no predicted samples. Use `zero_division` parameter to control this behavior.\n",
            "  _warn_prf(average, modifier, msg_start, len(result))\n",
            "C:\\Users\\pc\\AppData\\Local\\Programs\\Python\\Python310\\lib\\site-packages\\sklearn\\metrics\\_classification.py:1344: UndefinedMetricWarning: Recall and F-score are ill-defined and being set to 0.0 in labels with no true samples. Use `zero_division` parameter to control this behavior.\n",
            "  _warn_prf(average, modifier, msg_start, len(result))\n",
            "C:\\Users\\pc\\AppData\\Local\\Temp\\ipykernel_29792\\86688033.py:10: FutureWarning: The frame.append method is deprecated and will be removed from pandas in a future version. Use pandas.concat instead.\n",
            "  exl = exl.append(df, ignore_index=True)\n"
          ]
        }
      ],
      "source": [
        "exl = pd.DataFrame()\n",
        "\n",
        "\n",
        "report = classification_report(y_true, y_pred, labels=[i for i in range(41)], target_names = labels, output_dict=True)\n",
        "print(report)\n",
        "df = pd.DataFrame(report).transpose()\n",
        "print(\"\\n\")\n",
        "print(\"-\"*60 + \"\\n\" + \"    Label Report\\n\" + \"-\"*60)\n",
        "print(df)\n",
        "exl = exl.append(df, ignore_index=True)\n",
        "exl.to_excel('multiCorpus\\ ' + saveName + '_labelReport.xlsx', index=True)#.transpose()"
      ]
    },
    {
      "cell_type": "code",
      "execution_count": null,
      "id": "77c0fe1b-b7d6-41ca-9639-5598fc66e567",
      "metadata": {
        "id": "77c0fe1b-b7d6-41ca-9639-5598fc66e567"
      },
      "outputs": [],
      "source": [
        "i = 0\n",
        "for (pred, gold, inIDs) in zip(pred_label, gold_label, dataset['test']['input_ids']):\n",
        "    print(i, len(pred), len(inIDs[1:-1]), end=\"\\n\")\n",
        "    i = i+1\n",
        "    for i, (label1, label2, inID) in enumerate(zip(pred, gold, inIDs[1:-1])):\n",
        "        print(i, tokenizer.decode(inID), \":(\" + str(label1), \",\", label2 + ')')\n",
        "        if label1 != label2:\n",
        "            print(\"#########################\")\n",
        "            #print(\":(\" + str(label1), \",\", label2, end=')\\n')\n",
        "    print(\" \")\n",
        "    "
      ]
    },
    {
      "cell_type": "code",
      "execution_count": null,
      "id": "b52215dd-8d6e-4829-9041-eb3f9c85a150",
      "metadata": {
        "id": "b52215dd-8d6e-4829-9041-eb3f9c85a150"
      },
      "outputs": [],
      "source": []
    }
  ],
  "metadata": {
    "kernelspec": {
      "display_name": "Python 3 (ipykernel)",
      "language": "python",
      "name": "python3"
    },
    "language_info": {
      "codemirror_mode": {
        "name": "ipython",
        "version": 3
      },
      "file_extension": ".py",
      "mimetype": "text/x-python",
      "name": "python",
      "nbconvert_exporter": "python",
      "pygments_lexer": "ipython3",
      "version": "3.10.7"
    },
    "colab": {
      "provenance": [],
      "include_colab_link": true
    }
  },
  "nbformat": 4,
  "nbformat_minor": 5
}