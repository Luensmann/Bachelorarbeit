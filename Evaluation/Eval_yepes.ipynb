{
  "cells": [
    {
      "cell_type": "markdown",
      "metadata": {
        "id": "view-in-github",
        "colab_type": "text"
      },
      "source": [
        "<a href=\"https://colab.research.google.com/github/Luensmann/Bachelorarbeit/blob/main/Evaluation/Eval_yepes.ipynb\" target=\"_parent\"><img src=\"https://colab.research.google.com/assets/colab-badge.svg\" alt=\"Open In Colab\"/></a>"
      ]
    },
    {
      "cell_type": "code",
      "execution_count": null,
      "id": "50301fde-a849-460c-b0b5-973af6c68d68",
      "metadata": {
        "tags": [],
        "id": "50301fde-a849-460c-b0b5-973af6c68d68"
      },
      "outputs": [],
      "source": [
        "import torch\n",
        "from transformers import AutoTokenizer, BertForTokenClassification, AutoModelForTokenClassification\n",
        "from datasets import load_dataset"
      ]
    },
    {
      "cell_type": "code",
      "execution_count": null,
      "id": "cc6cf1b9-2f66-49d9-b8c0-64935645b80c",
      "metadata": {
        "tags": [],
        "id": "cc6cf1b9-2f66-49d9-b8c0-64935645b80c"
      },
      "outputs": [],
      "source": [
        "# labels\n",
        "\n",
        "labels = ['O', 'B-Gene_protein', 'I-Gene_protein', 'B-DNA_Mutation', 'I-DNA_Mutation', 'B-DNA_modification', 'I-DNA_modification', 'B-locus', 'I-locus', 'B-Mutation', 'I-Mutation', 'B-dbSNP', 'I-dbSNP', 'B-Protein_Mutation', 'I-Protein_Mutation', 'B-RNA', 'I-RNA', 'B-RNA_Mutation', 'I-RNA_Mutation']\n",
        "\n",
        "id2label = {\n",
        " 0: 'O',\n",
        " 1: 'B-Gene_protein',\n",
        " 2: 'I-Gene_protein',\n",
        " 3: 'B-DNA_Mutation',\n",
        " 4: 'I-DNA_Mutation',\n",
        " 5: 'B-DNA_modification',\n",
        " 6: 'I-DNA_modification',\n",
        " 7: 'B-locus',\n",
        " 8: 'I-locus',\n",
        " 9: 'B-Mutation',\n",
        " 10: 'I-Mutation',\n",
        " 11: 'B-dbSNP',\n",
        " 12: 'I-dbSNP',\n",
        " 13: 'B-Protein_Mutation',\n",
        " 14: 'I-Protein_Mutation',\n",
        " 15: 'B-RNA',\n",
        " 16: 'I-RNA',\n",
        " 17: 'B-RNA_Mutation',\n",
        " 18: 'I-RNA_Mutation'}\n",
        "\n",
        "label2id = {\n",
        " 'B-DNA_Mutation': 3,\n",
        " 'B-DNA_modification': 5,\n",
        " 'B-Gene_protein': 1,\n",
        " 'B-Mutation': 9,\n",
        " 'B-Protein_Mutation': 13,\n",
        " 'B-RNA': 15,\n",
        " 'B-RNA_Mutation': 17,\n",
        " 'B-dbSNP': 11,\n",
        " 'B-locus': 7,\n",
        " 'I-DNA_Mutation': 4,\n",
        " 'I-DNA_modification': 6,\n",
        " 'I-Gene_protein': 2,\n",
        " 'I-Mutation': 10,\n",
        " 'I-Protein_Mutation': 14,\n",
        " 'I-RNA': 16,\n",
        " 'I-RNA_Mutation': 18,\n",
        " 'I-dbSNP': 12,\n",
        " 'I-locus': 8,\n",
        " 'O': 0}"
      ]
    },
    {
      "cell_type": "code",
      "execution_count": null,
      "id": "6ca3ea21-b2a1-4c29-8908-d57d86305d53",
      "metadata": {
        "tags": [],
        "colab": {
          "referenced_widgets": [
            "76a7bf45f1454053aeb94a0ca41c36de",
            "fd7532a447da4cb9a3ef56330b0a6c33",
            "851142d464fa4229a3bda2bbe8743fdf",
            "7414c436d376499e82c9b2e6c9409301",
            "e5d2e10501514c3483542640ceb5dd24",
            "a0433aa000874957adc03db50ca47d0d",
            "",
            "9247c8bf5e1f404eabe542b60491a7d5"
          ]
        },
        "id": "6ca3ea21-b2a1-4c29-8908-d57d86305d53",
        "outputId": "e1a890b6-635f-4155-cd6e-5e4f69bf60fa"
      },
      "outputs": [
        {
          "data": {
            "application/vnd.jupyter.widget-view+json": {
              "model_id": "76a7bf45f1454053aeb94a0ca41c36de",
              "version_major": 2,
              "version_minor": 0
            },
            "text/plain": [
              "Downloading readme:   0%|          | 0.00/768 [00:00<?, ?B/s]"
            ]
          },
          "metadata": {},
          "output_type": "display_data"
        },
        {
          "name": "stdout",
          "output_type": "stream",
          "text": [
            "Downloading and preparing dataset None/None to C:/Users/pc/.cache/huggingface/datasets/Brizape___parquet/Brizape--amia_tokenized_split_0404_dev-5c88a251eef9689d/0.0.0/2a3b91fbd88a2c90d1dbbb32b460cf621d31bd5b05b934492fdef7d8d6f236ec...\n"
          ]
        },
        {
          "data": {
            "application/vnd.jupyter.widget-view+json": {
              "model_id": "fd7532a447da4cb9a3ef56330b0a6c33",
              "version_major": 2,
              "version_minor": 0
            },
            "text/plain": [
              "Downloading data files:   0%|          | 0/3 [00:00<?, ?it/s]"
            ]
          },
          "metadata": {},
          "output_type": "display_data"
        },
        {
          "data": {
            "application/vnd.jupyter.widget-view+json": {
              "model_id": "851142d464fa4229a3bda2bbe8743fdf",
              "version_major": 2,
              "version_minor": 0
            },
            "text/plain": [
              "Downloading data:   0%|          | 0.00/149k [00:00<?, ?B/s]"
            ]
          },
          "metadata": {},
          "output_type": "display_data"
        },
        {
          "data": {
            "application/vnd.jupyter.widget-view+json": {
              "model_id": "7414c436d376499e82c9b2e6c9409301",
              "version_major": 2,
              "version_minor": 0
            },
            "text/plain": [
              "Downloading data:   0%|          | 0.00/396k [00:00<?, ?B/s]"
            ]
          },
          "metadata": {},
          "output_type": "display_data"
        },
        {
          "data": {
            "application/vnd.jupyter.widget-view+json": {
              "model_id": "e5d2e10501514c3483542640ceb5dd24",
              "version_major": 2,
              "version_minor": 0
            },
            "text/plain": [
              "Downloading data:   0%|          | 0.00/170k [00:00<?, ?B/s]"
            ]
          },
          "metadata": {},
          "output_type": "display_data"
        },
        {
          "data": {
            "application/vnd.jupyter.widget-view+json": {
              "model_id": "a0433aa000874957adc03db50ca47d0d",
              "version_major": 2,
              "version_minor": 0
            },
            "text/plain": [
              "Extracting data files:   0%|          | 0/3 [00:00<?, ?it/s]"
            ]
          },
          "metadata": {},
          "output_type": "display_data"
        },
        {
          "data": {
            "application/vnd.jupyter.widget-view+json": {
              "model_id": "",
              "version_major": 2,
              "version_minor": 0
            },
            "text/plain": [
              "Generating validation split:   0%|          | 0/229 [00:00<?, ? examples/s]"
            ]
          },
          "metadata": {},
          "output_type": "display_data"
        },
        {
          "data": {
            "application/vnd.jupyter.widget-view+json": {
              "model_id": "",
              "version_major": 2,
              "version_minor": 0
            },
            "text/plain": [
              "Generating train split:   0%|          | 0/913 [00:00<?, ? examples/s]"
            ]
          },
          "metadata": {},
          "output_type": "display_data"
        },
        {
          "data": {
            "application/vnd.jupyter.widget-view+json": {
              "model_id": "",
              "version_major": 2,
              "version_minor": 0
            },
            "text/plain": [
              "Generating test split:   0%|          | 0/420 [00:00<?, ? examples/s]"
            ]
          },
          "metadata": {},
          "output_type": "display_data"
        },
        {
          "name": "stdout",
          "output_type": "stream",
          "text": [
            "Dataset parquet downloaded and prepared to C:/Users/pc/.cache/huggingface/datasets/Brizape___parquet/Brizape--amia_tokenized_split_0404_dev-5c88a251eef9689d/0.0.0/2a3b91fbd88a2c90d1dbbb32b460cf621d31bd5b05b934492fdef7d8d6f236ec. Subsequent calls will reuse this data.\n"
          ]
        },
        {
          "data": {
            "application/vnd.jupyter.widget-view+json": {
              "model_id": "9247c8bf5e1f404eabe542b60491a7d5",
              "version_major": 2,
              "version_minor": 0
            },
            "text/plain": [
              "  0%|          | 0/3 [00:00<?, ?it/s]"
            ]
          },
          "metadata": {},
          "output_type": "display_data"
        },
        {
          "data": {
            "text/plain": [
              "DatasetDict({\n",
              "    validation: Dataset({\n",
              "        features: ['id', 'tokens', 'ner_tags', 'texts', 'input_ids', 'token_type_ids', 'attention_mask', 'labels'],\n",
              "        num_rows: 229\n",
              "    })\n",
              "    train: Dataset({\n",
              "        features: ['id', 'tokens', 'ner_tags', 'texts', 'input_ids', 'token_type_ids', 'attention_mask', 'labels'],\n",
              "        num_rows: 913\n",
              "    })\n",
              "    test: Dataset({\n",
              "        features: ['id', 'tokens', 'ner_tags', 'texts', 'input_ids', 'token_type_ids', 'attention_mask', 'labels'],\n",
              "        num_rows: 420\n",
              "    })\n",
              "})"
            ]
          },
          "execution_count": 3,
          "metadata": {},
          "output_type": "execute_result"
        }
      ],
      "source": [
        "dataset = load_dataset(\"Brizape/amia_tokenized_split_0404_dev\")\n",
        "dataset"
      ]
    },
    {
      "cell_type": "code",
      "execution_count": null,
      "id": "ffed12d3-53c1-4fed-a20e-21d57794b5af",
      "metadata": {
        "tags": [],
        "id": "ffed12d3-53c1-4fed-a20e-21d57794b5af",
        "outputId": "3420a3fd-c663-4750-9e4d-111791f7b0d9"
      },
      "outputs": [
        {
          "name": "stdout",
          "output_type": "stream",
          "text": [
            "420\n",
            "420\n",
            "420\n"
          ]
        }
      ],
      "source": [
        "# get all texts for predictions\n",
        "texts = []\n",
        "for item in dataset[\"test\"]:\n",
        "    texts.append(item[\"texts\"])\n",
        "print(len(texts))\n",
        "\n",
        "# get all gold labels aka true labels\n",
        "gold_id_all = []\n",
        "for item in dataset[\"test\"]:\n",
        "    gold_id_all.append(item[\"labels\"][1:-1])\n",
        "print(len(gold_id_all))\n",
        "\n",
        "# convert all IDs into labels\n",
        "gold_label_all = []\n",
        "for item in gold_id_all:\n",
        "    gold_label_all.append([id2label[i] for i in item])\n",
        "print(len(gold_label_all))"
      ]
    },
    {
      "cell_type": "code",
      "execution_count": null,
      "id": "a401b805-ca0a-47b7-a5f9-5be99399caad",
      "metadata": {
        "tags": [],
        "colab": {
          "referenced_widgets": [
            "3e1016881c9c47cc9771b8210e104f1c",
            "55b45d875b8a409997d1539e6b3d6e10",
            "ea92037ab0b84153ba71c44d9eacdc12",
            "569242b1dba4462c8f3f5ef10d265ca9",
            "99cc4649aa0142298796e9166d2de2c9",
            "0145e37908cf43f998709405e31c43cb"
          ]
        },
        "id": "a401b805-ca0a-47b7-a5f9-5be99399caad",
        "outputId": "7df1c93f-2970-4115-e127-afc13ba45afc"
      },
      "outputs": [
        {
          "data": {
            "application/vnd.jupyter.widget-view+json": {
              "model_id": "3e1016881c9c47cc9771b8210e104f1c",
              "version_major": 2,
              "version_minor": 0
            },
            "text/plain": [
              "Downloading:   0%|          | 0.00/434 [00:00<?, ?B/s]"
            ]
          },
          "metadata": {},
          "output_type": "display_data"
        },
        {
          "name": "stderr",
          "output_type": "stream",
          "text": [
            "C:\\Users\\pc\\AppData\\Local\\Programs\\Python\\Python310\\lib\\site-packages\\huggingface_hub\\file_download.py:127: UserWarning: `huggingface_hub` cache-system uses symlinks by default to efficiently store duplicated files but your machine does not support them in C:\\Users\\pc\\.cache\\huggingface\\hub. Caching files will still work but in a degraded version that might require more space on your disk. This warning can be disabled by setting the `HF_HUB_DISABLE_SYMLINKS_WARNING` environment variable. For more details, see https://huggingface.co/docs/huggingface_hub/how-to-cache#limitations.\n",
            "To support symlinks on Windows, you either need to activate Developer Mode or to run Python as an administrator. In order to see activate developer mode, see this article: https://docs.microsoft.com/en-us/windows/apps/get-started/enable-your-device-for-development\n",
            "  warnings.warn(message)\n"
          ]
        },
        {
          "data": {
            "application/vnd.jupyter.widget-view+json": {
              "model_id": "55b45d875b8a409997d1539e6b3d6e10",
              "version_major": 2,
              "version_minor": 0
            },
            "text/plain": [
              "Downloading:   0%|          | 0.00/226k [00:00<?, ?B/s]"
            ]
          },
          "metadata": {},
          "output_type": "display_data"
        },
        {
          "data": {
            "application/vnd.jupyter.widget-view+json": {
              "model_id": "ea92037ab0b84153ba71c44d9eacdc12",
              "version_major": 2,
              "version_minor": 0
            },
            "text/plain": [
              "Downloading:   0%|          | 0.00/706k [00:00<?, ?B/s]"
            ]
          },
          "metadata": {},
          "output_type": "display_data"
        },
        {
          "data": {
            "application/vnd.jupyter.widget-view+json": {
              "model_id": "569242b1dba4462c8f3f5ef10d265ca9",
              "version_major": 2,
              "version_minor": 0
            },
            "text/plain": [
              "Downloading:   0%|          | 0.00/125 [00:00<?, ?B/s]"
            ]
          },
          "metadata": {},
          "output_type": "display_data"
        },
        {
          "data": {
            "application/vnd.jupyter.widget-view+json": {
              "model_id": "99cc4649aa0142298796e9166d2de2c9",
              "version_major": 2,
              "version_minor": 0
            },
            "text/plain": [
              "Downloading:   0%|          | 0.00/1.63k [00:00<?, ?B/s]"
            ]
          },
          "metadata": {},
          "output_type": "display_data"
        },
        {
          "data": {
            "application/vnd.jupyter.widget-view+json": {
              "model_id": "0145e37908cf43f998709405e31c43cb",
              "version_major": 2,
              "version_minor": 0
            },
            "text/plain": [
              "Downloading:   0%|          | 0.00/436M [00:00<?, ?B/s]"
            ]
          },
          "metadata": {},
          "output_type": "display_data"
        }
      ],
      "source": [
        "saveName = \"5e-05_0404_ES6_strict_tok\"\n",
        "model = \"Brizape/Yepes_\" + saveName\n",
        "tokenizer = AutoTokenizer.from_pretrained(model)\n",
        "model = AutoModelForTokenClassification.from_pretrained(model)"
      ]
    },
    {
      "cell_type": "code",
      "execution_count": null,
      "id": "938ed8fd-3499-4669-a050-0d05ed6e441c",
      "metadata": {
        "tags": [],
        "id": "938ed8fd-3499-4669-a050-0d05ed6e441c"
      },
      "outputs": [],
      "source": [
        "# gold_id_all - expected outputs in ids-format\n",
        "# gold_label_all - expected outputs in label-format\n",
        "# pred_label_all - all predicted labels in label-format\n",
        "# pred_id_all - all predicted labels in id-format\n",
        "\n",
        "# del all missmatches in both list:\n",
        "# gold_id - expected outputs in ids-format\n",
        "# gold_label - expected outputs in label-format\n",
        "# pred_label - all predicted labels in label-format\n",
        "# pred_id - all predicted labels in id-format\n",
        "\n",
        "# gold_label_norm - normalisation; removed prefix\n",
        "# pred_label_norm - normalisation; removed prefix\n",
        "\n",
        "# y_true - for sklearn, no sublists\n",
        "# y-pred - for sklearn, no sublists"
      ]
    },
    {
      "cell_type": "code",
      "execution_count": null,
      "id": "6d611a63-af84-4897-9e72-73bf1ab1c1d5",
      "metadata": {
        "tags": [],
        "id": "6d611a63-af84-4897-9e72-73bf1ab1c1d5"
      },
      "outputs": [],
      "source": [
        "def predict(text):\n",
        "    \n",
        "    inputs = tokenizer(text, add_special_tokens=False, return_tensors=\"pt\", truncation=True, max_length=512)\n",
        "    if inputs['input_ids'].numel() == 0:\n",
        "        print(\"input_ids is empty\")\n",
        "        return []\n",
        "    \n",
        "    with torch.no_grad():\n",
        "        logits = model(**inputs).logits \n",
        "    predictions = torch.argmax(logits, dim=2)\n",
        "    \n",
        "    predicted_token_class = [model.config.id2label[t.item()] for t in predictions[0]]\n",
        "\n",
        "    return predicted_token_class"
      ]
    },
    {
      "cell_type": "code",
      "execution_count": null,
      "id": "3fa7745f-3b55-4dd7-8ff0-0707c15a028f",
      "metadata": {
        "tags": [],
        "id": "3fa7745f-3b55-4dd7-8ff0-0707c15a028f",
        "outputId": "b31bc82a-cf56-45d8-d0ec-2e4aa4e995d7"
      },
      "outputs": [
        {
          "name": "stdout",
          "output_type": "stream",
          "text": [
            "0 1 2 3 4 5 6 7 8 9 10 11 12 13 14 15 16 input_ids is empty\n",
            "17 18 19 20 21 22 23 24 25 26 27 28 29 30 31 32 33 34 35 36 37 38 39 40 41 input_ids is empty\n",
            "42 43 44 45 46 47 48 49 50 51 52 53 54 55 56 57 58 59 60 61 input_ids is empty\n",
            "62 63 64 65 66 input_ids is empty\n",
            "67 68 69 70 71 72 73 74 75 76 77 78 79 80 input_ids is empty\n",
            "81 82 83 84 85 86 87 88 89 90 91 92 93 94 95 96 97 98 99 100 101 102 103 input_ids is empty\n",
            "104 105 106 107 108 input_ids is empty\n",
            "109 110 111 input_ids is empty\n",
            "112 113 114 115 116 input_ids is empty\n",
            "117 118 119 120 input_ids is empty\n",
            "121 122 123 input_ids is empty\n",
            "124 125 126 127 input_ids is empty\n",
            "128 129 130 input_ids is empty\n",
            "131 132 133 134 135 136 137 138 139 140 141 142 143 144 145 146 147 148 149 150 151 152 153 154 155 156 157 158 159 input_ids is empty\n",
            "160 161 162 163 164 input_ids is empty\n",
            "165 166 167 input_ids is empty\n",
            "168 169 170 171 input_ids is empty\n",
            "172 173 174 175 176 input_ids is empty\n",
            "177 178 179 180 181 182 input_ids is empty\n",
            "183 184 185 186 187 188 189 190 191 192 193 input_ids is empty\n",
            "194 195 196 197 198 input_ids is empty\n",
            "199 200 201 input_ids is empty\n",
            "202 203 204 205 206 207 208 209 210 211 212 213 214 215 216 217 218 219 220 221 222 223 224 225 226 227 228 input_ids is empty\n",
            "229 230 231 232 233 input_ids is empty\n",
            "234 235 236 237 238 input_ids is empty\n",
            "239 240 241 input_ids is empty\n",
            "242 243 244 245 246 input_ids is empty\n",
            "247 248 249 250 251 252 253 254 255 256 257 258 259 260 261 262 263 264 265 266 267 268 input_ids is empty\n",
            "269 270 271 input_ids is empty\n",
            "272 273 274 275 input_ids is empty\n",
            "276 277 278 279 280 input_ids is empty\n",
            "281 282 283 284 285 286 287 288 289 290 291 292 293 294 295 input_ids is empty\n",
            "296 297 298 input_ids is empty\n",
            "299 300 301 302 303 304 305 306 307 308 309 310 311 312 313 314 315 316 317 318 319 320 321 322 323 input_ids is empty\n",
            "324 325 326 327 328 329 330 331 332 333 334 335 336 337 338 339 340 341 342 343 344 345 346 347 348 349 350 351 352 353 354 input_ids is empty\n",
            "355 356 357 358 359 input_ids is empty\n",
            "360 361 362 363 input_ids is empty\n",
            "364 365 366 367 368 369 370 371 372 373 374 375 376 377 378 379 380 381 382 383 384 input_ids is empty\n",
            "385 386 387 input_ids is empty\n",
            "388 389 390 391 input_ids is empty\n",
            "392 393 394 395 input_ids is empty\n",
            "396 397 398 input_ids is empty\n",
            "399 400 401 input_ids is empty\n",
            "402 403 404 405 406 407 408 409 410 input_ids is empty\n",
            "411 412 413 414 415 416 417 418 419 input_ids is empty\n"
          ]
        },
        {
          "data": {
            "text/plain": [
              "420"
            ]
          },
          "execution_count": 8,
          "metadata": {},
          "output_type": "execute_result"
        }
      ],
      "source": [
        "# predict all text\n",
        "pred_label_all = []\n",
        "for index, text in enumerate(texts):\n",
        "    print(index, end=' ')\n",
        "    pred_label_all.append(predict(text))\n",
        "len(pred_label_all)\n",
        "\n"
      ]
    },
    {
      "cell_type": "code",
      "execution_count": null,
      "id": "b20a596d-1ced-447d-89f0-7c1b2530caa2",
      "metadata": {
        "tags": [],
        "id": "b20a596d-1ced-447d-89f0-7c1b2530caa2"
      },
      "outputs": [],
      "source": [
        "for i, pred in enumerate(pred_label_all):\n",
        "    if len(pred) == 512:\n",
        "        pred_label_all[i] = pred[1:-1]"
      ]
    },
    {
      "cell_type": "code",
      "execution_count": null,
      "id": "eaeace4c-9b14-4ced-b3f7-a35bd5dfcc8e",
      "metadata": {
        "tags": [],
        "id": "eaeace4c-9b14-4ced-b3f7-a35bd5dfcc8e",
        "outputId": "bb7be149-4908-4655-bf17-e8984f70d1c5"
      },
      "outputs": [
        {
          "data": {
            "text/plain": [
              "420"
            ]
          },
          "execution_count": 10,
          "metadata": {},
          "output_type": "execute_result"
        }
      ],
      "source": [
        "# convert all IDs into label\n",
        "pred_id_all = []\n",
        "for item in pred_label_all:\n",
        "    pred_id_all.append([label2id[i] for i in item])\n",
        "len(pred_id_all)"
      ]
    },
    {
      "cell_type": "code",
      "execution_count": null,
      "id": "67a04063-8ebe-46fb-a5d7-395a1b450a33",
      "metadata": {
        "tags": [],
        "id": "67a04063-8ebe-46fb-a5d7-395a1b450a33"
      },
      "outputs": [],
      "source": [
        "# checking if all gold and pred are same len\n",
        "# reutrn list with indices of all missmatches\n",
        "def check_len(gold, pred):\n",
        "    missmatch_index = []\n",
        "    for index, (gold, pred) in enumerate(zip(gold, pred)):\n",
        "        if len(gold)==len(pred):\n",
        "            #print(\"yes\")\n",
        "            continue\n",
        "        else:\n",
        "            missmatch_index.append(index)\n",
        "    print(\"indices to del:\" + str(missmatch_index))\n",
        "    return missmatch_index"
      ]
    },
    {
      "cell_type": "code",
      "execution_count": null,
      "id": "e77a2fd3-be25-4542-9172-df4e4e2e7416",
      "metadata": {
        "tags": [],
        "id": "e77a2fd3-be25-4542-9172-df4e4e2e7416"
      },
      "outputs": [],
      "source": [
        "# delete all missmatches from both sets\n",
        "def del_missmatches(list1, list2, indices_to_del):\n",
        "    for index in sorted(indices_to_del, reverse=True):\n",
        "            del list1[index]\n",
        "            del list2[index]"
      ]
    },
    {
      "cell_type": "code",
      "execution_count": null,
      "id": "fc87645c-866d-4222-8286-df197493732b",
      "metadata": {
        "tags": [],
        "id": "fc87645c-866d-4222-8286-df197493732b",
        "outputId": "667f1590-46ed-4973-9a32-1fe045d4e33b"
      },
      "outputs": [
        {
          "name": "stdout",
          "output_type": "stream",
          "text": [
            "############################## 170 510 509 ##############################\n",
            "0 0\n",
            "0 0\n",
            "0 0\n",
            "0 0\n",
            "0 0\n",
            "0 0\n",
            "0 0\n",
            "0 0\n",
            "0 0\n",
            "0 0\n",
            "0 0\n",
            "0 0\n",
            "0 0\n",
            "0 0\n",
            "0 0\n",
            "0 0\n",
            "0 0\n",
            "0 0\n",
            "0 0\n",
            "0 0\n",
            "0 0\n",
            "0 0\n",
            "0 0\n",
            "0 0\n",
            "0 0\n",
            "0 0\n",
            "0 0\n",
            "0 0\n",
            "0 0\n",
            "0 0\n",
            "0 0\n",
            "0 0\n",
            "0 0\n",
            "0 0\n",
            "0 0\n",
            "0 0\n",
            "0 0\n",
            "0 0\n",
            "0 0\n",
            "0 0\n",
            "0 0\n",
            "0 0\n",
            "0 0\n",
            "0 0\n",
            "0 0\n",
            "0 0\n",
            "0 0\n",
            "0 0\n",
            "0 0\n",
            "0 0\n",
            "0 0\n",
            "0 0\n",
            "0 0\n",
            "0 0\n",
            "0 0\n",
            "0 0\n",
            "0 0\n",
            "0 0\n",
            "0 0\n",
            "0 0\n",
            "0 0\n",
            "0 0\n",
            "0 0\n",
            "0 0\n",
            "0 0\n",
            "0 0\n",
            "0 0\n",
            "0 0\n",
            "0 0\n",
            "0 0\n",
            "0 0\n",
            "0 0\n",
            "0 0\n",
            "0 0\n",
            "0 0\n",
            "0 0\n",
            "0 0\n",
            "0 0\n",
            "0 0\n",
            "0 0\n",
            "0 0\n",
            "0 0\n",
            "0 0\n",
            "0 0\n",
            "0 0\n",
            "0 0\n",
            "0 0\n",
            "0 0\n",
            "0 0\n",
            "0 0\n",
            "0 0\n",
            "0 0\n",
            "0 0\n",
            "0 0\n",
            "0 0\n",
            "0 0\n",
            "0 0\n",
            "0 0\n",
            "0 0\n",
            "0 0\n",
            "0 0\n",
            "0 0\n",
            "0 0\n",
            "0 0\n",
            "0 0\n",
            "0 0\n",
            "0 0\n",
            "0 0\n",
            "0 0\n",
            "0 0\n",
            "0 0\n",
            "0 0\n",
            "0 0\n",
            "0 0\n",
            "0 0\n",
            "0 0\n",
            "0 0\n",
            "0 0\n",
            "0 0\n",
            "0 0\n",
            "0 0\n",
            "0 0\n",
            "0 0\n",
            "0 0\n",
            "0 0\n",
            "0 0\n",
            "0 0\n",
            "0 0\n",
            "0 0\n",
            "0 0\n",
            "0 0\n",
            "0 0\n",
            "0 0\n",
            "0 0\n",
            "0 0\n",
            "0 0\n",
            "0 0\n",
            "0 0\n",
            "0 0\n",
            "0 0\n",
            "0 0\n",
            "0 0\n",
            "0 0\n",
            "0 0\n",
            "0 0\n",
            "0 0\n",
            "0 0\n",
            "0 0\n",
            "0 0\n",
            "0 0\n",
            "0 0\n",
            "0 0\n",
            "0 0\n",
            "0 0\n",
            "0 0\n",
            "0 0\n",
            "0 0\n",
            "0 0\n",
            "0 0\n",
            "0 0\n",
            "0 0\n",
            "0 0\n",
            "0 0\n",
            "0 0\n",
            "0 0\n",
            "0 0\n",
            "0 0\n",
            "0 0\n",
            "0 0\n",
            "0 0\n",
            "0 0\n",
            "0 0\n",
            "0 0\n",
            "0 0\n",
            "0 0\n",
            "0 0\n",
            "0 0\n",
            "0 0\n",
            "0 0\n",
            "0 0\n",
            "0 0\n",
            "0 0\n",
            "0 0\n",
            "0 0\n",
            "0 0\n",
            "0 0\n",
            "0 0\n",
            "0 0\n",
            "0 0\n",
            "0 0\n",
            "0 0\n",
            "0 0\n",
            "0 0\n",
            "0 0\n",
            "0 0\n",
            "0 0\n",
            "0 0\n",
            "0 0\n",
            "0 0\n",
            "0 0\n",
            "0 0\n",
            "0 0\n",
            "0 0\n",
            "0 0\n",
            "0 0\n",
            "0 0\n",
            "0 0\n",
            "0 0\n",
            "0 0\n",
            "0 0\n",
            "0 0\n",
            "0 0\n",
            "0 0\n",
            "0 0\n",
            "0 0\n",
            "0 0\n",
            "0 0\n",
            "0 0\n",
            "0 0\n",
            "0 0\n",
            "0 0\n",
            "0 0\n",
            "0 0\n",
            "0 0\n",
            "0 0\n",
            "0 0\n",
            "0 0\n",
            "0 0\n",
            "0 0\n",
            "0 0\n",
            "0 0\n",
            "0 0\n",
            "0 0\n",
            "0 0\n",
            "0 0\n",
            "0 0\n",
            "0 0\n",
            "0 0\n",
            "0 0\n",
            "0 0\n",
            "0 0\n",
            "0 0\n",
            "0 0\n",
            "0 0\n",
            "0 0\n",
            "0 0\n",
            "0 0\n",
            "0 0\n",
            "0 0\n",
            "0 0\n",
            "0 0\n",
            "0 0\n",
            "3 3\n",
            "3 3\n",
            "4 2\n",
            "4 4\n",
            "0 0\n",
            "0 0\n",
            "0 0\n",
            "0 0\n",
            "0 0\n",
            "0 0\n",
            "0 0\n",
            "0 0\n",
            "0 0\n",
            "0 0\n",
            "0 0\n",
            "0 0\n",
            "0 0\n",
            "0 0\n",
            "0 0\n",
            "0 0\n",
            "0 0\n",
            "0 0\n",
            "0 0\n",
            "0 0\n",
            "0 0\n",
            "0 0\n",
            "0 0\n",
            "0 0\n",
            "0 0\n",
            "0 0\n",
            "0 0\n",
            "0 0\n",
            "0 0\n",
            "0 0\n",
            "0 0\n",
            "0 0\n",
            "0 0\n",
            "0 0\n",
            "0 0\n",
            "3 0\n",
            "4 0\n",
            "4 0\n",
            "0 0\n",
            "0 0\n",
            "0 0\n",
            "0 0\n",
            "3 0\n",
            "4 0\n",
            "4 0\n",
            "0 0\n",
            "0 0\n",
            "0 0\n",
            "0 0\n",
            "0 0\n",
            "0 0\n",
            "0 0\n",
            "0 0\n",
            "0 0\n",
            "0 0\n",
            "0 0\n",
            "0 0\n",
            "0 0\n",
            "0 0\n",
            "0 0\n",
            "0 0\n",
            "0 0\n",
            "0 0\n",
            "0 0\n",
            "0 0\n",
            "0 0\n",
            "0 0\n",
            "0 0\n",
            "0 0\n",
            "0 0\n",
            "0 0\n",
            "0 0\n",
            "0 0\n",
            "0 0\n",
            "0 0\n",
            "0 0\n",
            "0 0\n",
            "0 0\n",
            "0 0\n",
            "0 0\n",
            "0 0\n",
            "0 0\n",
            "0 0\n",
            "0 0\n",
            "0 0\n",
            "0 0\n",
            "0 0\n",
            "0 0\n",
            "0 0\n",
            "0 0\n",
            "0 0\n",
            "0 0\n",
            "0 0\n",
            "0 0\n",
            "0 0\n",
            "0 0\n",
            "0 0\n",
            "0 0\n",
            "0 0\n",
            "0 0\n",
            "0 0\n",
            "0 0\n",
            "0 0\n",
            "0 0\n",
            "0 0\n",
            "0 0\n",
            "0 0\n",
            "0 0\n",
            "0 0\n",
            "0 0\n",
            "0 0\n",
            "0 0\n",
            "0 0\n",
            "0 0\n",
            "0 0\n",
            "0 0\n",
            "0 0\n",
            "0 0\n",
            "0 0\n",
            "0 0\n",
            "0 0\n",
            "0 0\n",
            "0 0\n",
            "0 0\n",
            "0 0\n",
            "0 0\n",
            "0 0\n",
            "0 0\n",
            "0 0\n",
            "0 0\n",
            "0 0\n",
            "0 0\n",
            "0 0\n",
            "0 0\n",
            "0 0\n",
            "0 0\n",
            "0 0\n",
            "0 0\n",
            "0 0\n",
            "0 0\n",
            "0 0\n",
            "0 0\n",
            "0 0\n",
            "0 0\n",
            "0 0\n",
            "0 0\n",
            "0 0\n",
            "0 0\n",
            "0 0\n",
            "0 0\n",
            "0 0\n",
            "0 0\n",
            "0 0\n",
            "0 0\n",
            "0 0\n",
            "0 0\n",
            "0 0\n",
            "0 0\n",
            "0 0\n",
            "0 0\n",
            "0 0\n",
            "0 0\n",
            "0 0\n",
            "0 0\n",
            "0 0\n",
            "0 0\n",
            "0 0\n",
            "0 0\n",
            "0 0\n",
            "0 0\n",
            "0 0\n",
            "0 0\n",
            "0 0\n",
            "0 0\n",
            "0 0\n",
            "0 0\n",
            "0 0\n",
            "0 0\n",
            "0 0\n",
            "0 0\n",
            "0 0\n",
            "0 0\n",
            "0 0\n",
            "0 0\n",
            "0 0\n",
            "0 0\n",
            "0 0\n",
            "0 0\n",
            "0 0\n",
            "0 0\n",
            "0 0\n",
            "0 0\n",
            "0 0\n",
            "0 0\n",
            "0 0\n",
            "0 0\n",
            "0 0\n",
            "0 0\n",
            "0 0\n",
            "0 0\n",
            "0 0\n",
            "0 0\n",
            "0 0\n",
            "0 0\n",
            "0 0\n",
            "0 0\n",
            "0 0\n",
            "0 0\n",
            "0 0\n",
            "0 0\n",
            "0 0\n",
            "0 0\n",
            "0 0\n",
            "0 0\n",
            "0 0\n",
            "0 0\n",
            "0 0\n",
            "0 0\n",
            "0 0\n",
            "0 0\n",
            "0 0\n",
            "0 0\n",
            "0 0\n",
            "0 0\n",
            "0 0\n",
            "0 0\n",
            "0 0\n",
            "0 0\n",
            "0 0\n",
            "0 0\n",
            "0 0\n",
            "0 0\n",
            "0 0\n",
            "0 0\n",
            "0 0\n",
            "0 0\n",
            "0 0\n",
            "0 0\n",
            "0 0\n",
            "0 0\n",
            "0 0\n",
            "0 0\n",
            "0 0\n",
            "0 0\n",
            "0 0\n",
            "0 0\n",
            "0 0\n",
            "0 0\n",
            "0 0\n",
            "0 0\n",
            "0 0\n",
            "0 0\n",
            "0 0\n",
            "0 0\n"
          ]
        }
      ],
      "source": [
        "dele = [170]\n",
        "for index in dele:\n",
        "    print(\"#\"*(30), index, len(gold_id_all[index]), len(pred_id_all[index][1:-1]), \"#\"*(30))\n",
        "    for gold, pred in zip(gold_id_all[index], pred_id_all[index]):\n",
        "        #if gold != pred:\n",
        "        print(gold, pred)"
      ]
    },
    {
      "cell_type": "code",
      "execution_count": null,
      "id": "c566ae2d-09b0-4ad2-b7f2-f3ba89554151",
      "metadata": {
        "tags": [],
        "id": "c566ae2d-09b0-4ad2-b7f2-f3ba89554151",
        "outputId": "d23ad727-ea2e-4572-fc1b-0bb1f1735767"
      },
      "outputs": [
        {
          "name": "stdout",
          "output_type": "stream",
          "text": [
            "len befor:\n",
            "420\n",
            "420\n",
            "420\n",
            "420\n",
            "indices to del:[170]\n",
            "len after:\n",
            "419\n",
            "419\n",
            "419\n",
            "419\n"
          ]
        }
      ],
      "source": [
        "# copy _all files\n",
        "gold_id = gold_id_all[:]\n",
        "gold_label = gold_label_all[:]\n",
        "pred_id = pred_id_all[:]\n",
        "pred_label = pred_label_all[:]\n",
        "all = [gold_id, gold_label, pred_id, pred_label]\n",
        "print('len befor:')\n",
        "for list in all:\n",
        "    print(len(list))\n",
        "# get indicies with missmatch\n",
        "# and delete them from both sets\n",
        "indices_to_del = check_len(gold_id, pred_id)\n",
        "del_missmatches(gold_id , pred_id, indices_to_del)\n",
        "del_missmatches(gold_label , pred_label, indices_to_del)\n",
        "print('len after:')\n",
        "for list in all:\n",
        "    print(len(list))\n",
        "    \n"
      ]
    },
    {
      "cell_type": "code",
      "execution_count": null,
      "id": "954206f8-3de4-4fd2-9237-bfc7295d1dae",
      "metadata": {
        "id": "954206f8-3de4-4fd2-9237-bfc7295d1dae"
      },
      "outputs": [],
      "source": []
    },
    {
      "cell_type": "code",
      "execution_count": null,
      "id": "d273e315-9bcf-4c1b-90e3-ac143eb4672a",
      "metadata": {
        "tags": [],
        "id": "d273e315-9bcf-4c1b-90e3-ac143eb4672a"
      },
      "outputs": [],
      "source": [
        "############################################################\n",
        "######################### seqeval ##########################\n",
        "############################################################"
      ]
    },
    {
      "cell_type": "code",
      "execution_count": null,
      "id": "0721e886-5693-4594-8dca-73e823eb46dd",
      "metadata": {
        "tags": [],
        "id": "0721e886-5693-4594-8dca-73e823eb46dd"
      },
      "outputs": [],
      "source": [
        "from seqeval.metrics import accuracy_score\n",
        "from seqeval.metrics import classification_report\n",
        "from seqeval.metrics import f1_score\n",
        "from seqeval.scheme import IOB2"
      ]
    },
    {
      "cell_type": "code",
      "execution_count": null,
      "id": "3634f920-9971-477a-bb9b-429afd532cec",
      "metadata": {
        "tags": [],
        "id": "3634f920-9971-477a-bb9b-429afd532cec",
        "outputId": "e5335faa-26de-4d70-a3da-eb96b48fcead"
      },
      "outputs": [
        {
          "name": "stdout",
          "output_type": "stream",
          "text": [
            "\n",
            "\n",
            "------------------------------------------------------------\n",
            "    SeqEval strict\n",
            "------------------------------------------------------------\n",
            "strict: \n",
            "                  precision    recall  f1-score   support\n",
            "\n",
            "    DNA_Mutation       0.66      0.43      0.52       267\n",
            "    Gene_protein       0.59      0.49      0.54       231\n",
            "        Mutation       0.00      0.00      0.00         2\n",
            "Protein_Mutation       1.00      0.09      0.16        23\n",
            "             RNA       0.00      0.00      0.00         1\n",
            "    RNA_Mutation       0.00      0.00      0.00         2\n",
            "           dbSNP       0.00      0.00      0.00         3\n",
            "           locus       0.47      0.21      0.29        75\n",
            "\n",
            "       micro avg       0.61      0.41      0.49       604\n",
            "       macro avg       0.34      0.15      0.19       604\n",
            "    weighted avg       0.61      0.41      0.48       604\n",
            "\n",
            "\n",
            "\n",
            "------------------------------------------------------------\n",
            "    SeqEval default\n",
            "------------------------------------------------------------\n"
          ]
        },
        {
          "name": "stderr",
          "output_type": "stream",
          "text": [
            "C:\\Users\\pc\\AppData\\Local\\Programs\\Python\\Python310\\lib\\site-packages\\seqeval\\metrics\\v1.py:57: UndefinedMetricWarning: Precision and F-score are ill-defined and being set to 0.0 in labels with no predicted samples. Use `zero_division` parameter to control this behavior.\n",
            "  _warn_prf(average, modifier, msg_start, len(result))\n"
          ]
        },
        {
          "name": "stdout",
          "output_type": "stream",
          "text": [
            "default: \n",
            "                  precision    recall  f1-score   support\n",
            "\n",
            "    DNA_Mutation       0.65      0.43      0.52       267\n",
            "    Gene_protein       0.56      0.49      0.53       231\n",
            "        Mutation       0.00      0.00      0.00         2\n",
            "Protein_Mutation       0.23      0.13      0.17        23\n",
            "             RNA       0.00      0.00      0.00         1\n",
            "    RNA_Mutation       0.00      0.00      0.00         2\n",
            "           dbSNP       0.00      0.00      0.00         3\n",
            "           locus       0.31      0.27      0.29        75\n",
            "\n",
            "       micro avg       0.55      0.42      0.48       604\n",
            "       macro avg       0.22      0.17      0.19       604\n",
            "    weighted avg       0.55      0.42      0.47       604\n",
            "\n"
          ]
        }
      ],
      "source": [
        "# generate metrics\n",
        "print(\"\\n\")\n",
        "print(\"-\"*60 + \"\\n\" + \"    SeqEval strict\\n\" + \"-\"*60)\n",
        "print(\"strict: \\n\" + classification_report(gold_label, pred_label, scheme=IOB2, mode='strict'))\n",
        "\n",
        "print(\"\\n\")\n",
        "print(\"-\"*60 + \"\\n\" + \"    SeqEval default\\n\" + \"-\"*60)\n",
        "print(\"default: \\n\" + classification_report(gold_label, pred_label))"
      ]
    },
    {
      "cell_type": "code",
      "execution_count": null,
      "id": "617853df-8f3c-4c91-ab77-9198705eb85e",
      "metadata": {
        "tags": [],
        "id": "617853df-8f3c-4c91-ab77-9198705eb85e",
        "outputId": "8b8542a4-4d62-49c6-89eb-8ee4f4825b07"
      },
      "outputs": [
        {
          "name": "stdout",
          "output_type": "stream",
          "text": [
            "                  precision    recall  f1-score  support\n",
            "DNA_Mutation       0.658960  0.426966  0.518182    267.0\n",
            "Gene_protein       0.590674  0.493506  0.537736    231.0\n",
            "Mutation           0.000000  0.000000  0.000000      2.0\n",
            "Protein_Mutation   1.000000  0.086957  0.160000     23.0\n",
            "RNA                0.000000  0.000000  0.000000      1.0\n",
            "RNA_Mutation       0.000000  0.000000  0.000000      2.0\n",
            "dbSNP              0.000000  0.000000  0.000000      3.0\n",
            "locus              0.470588  0.213333  0.293578     75.0\n",
            "micro avg          0.611940  0.407285  0.489066    604.0\n",
            "macro avg          0.340028  0.152595  0.188687    604.0\n",
            "weighted avg       0.613712  0.407285  0.477268    604.0\n"
          ]
        }
      ],
      "source": [
        "# save reports as csv\n",
        "import pandas as pd\n",
        "report = pd.DataFrame(classification_report(gold_label, pred_label, mode='strict', digits=2, output_dict=True)).transpose()\n",
        "print(report)\n",
        "df = pd.DataFrame(report)#.transpose()\n",
        "# With a Sheet Name\n",
        "file_name = \"yepes\" + saveName\n",
        "report.to_excel('yepes\\ ' + saveName + '.xlsx', index=True)"
      ]
    },
    {
      "cell_type": "code",
      "execution_count": null,
      "id": "e4a3b016-f463-4894-83d3-a41022d924dd",
      "metadata": {
        "id": "e4a3b016-f463-4894-83d3-a41022d924dd"
      },
      "outputs": [],
      "source": [
        "#######################################################\n",
        "####################### sklearn #######################\n",
        "#######################################################"
      ]
    },
    {
      "cell_type": "code",
      "execution_count": null,
      "id": "37445535-5d68-4a9e-877f-1792b089a434",
      "metadata": {
        "tags": [],
        "id": "37445535-5d68-4a9e-877f-1792b089a434"
      },
      "outputs": [],
      "source": [
        "from sklearn.metrics import confusion_matrix\n",
        "from sklearn.utils.multiclass import unique_labels\n",
        "import pandas as pd\n",
        "import seaborn as sns\n",
        "import evaluate"
      ]
    },
    {
      "cell_type": "code",
      "execution_count": null,
      "id": "a1242d4e-9270-4ae7-83ad-b8a8efb0622b",
      "metadata": {
        "tags": [],
        "id": "a1242d4e-9270-4ae7-83ad-b8a8efb0622b",
        "outputId": "5c878acd-e08b-41ea-bb33-14f7872561e2"
      },
      "outputs": [
        {
          "data": {
            "text/plain": [
              "35460"
            ]
          },
          "execution_count": 23,
          "metadata": {},
          "output_type": "execute_result"
        }
      ],
      "source": [
        "y_pred = []\n",
        "for sublist in pred_id:\n",
        "    for label in sublist:\n",
        "        y_pred.append(label)\n",
        "len(y_pred)"
      ]
    },
    {
      "cell_type": "code",
      "execution_count": null,
      "id": "1706389a-85cb-4b89-b302-92f5c3e45290",
      "metadata": {
        "tags": [],
        "id": "1706389a-85cb-4b89-b302-92f5c3e45290",
        "outputId": "3323626c-eb4e-4645-cff1-d8016bd515cb"
      },
      "outputs": [
        {
          "data": {
            "text/plain": [
              "35460"
            ]
          },
          "execution_count": 24,
          "metadata": {},
          "output_type": "execute_result"
        }
      ],
      "source": [
        "y_true = []\n",
        "for sublist in gold_id:\n",
        "    for label in sublist:\n",
        "        y_true.append(label)\n",
        "len(y_true)"
      ]
    },
    {
      "cell_type": "code",
      "execution_count": null,
      "id": "f321664f-d3a7-476b-9f4b-cfa1722c487a",
      "metadata": {
        "tags": [],
        "id": "f321664f-d3a7-476b-9f4b-cfa1722c487a",
        "outputId": "81d4839c-c7d5-45a2-dd25-850a928afdc9"
      },
      "outputs": [
        {
          "name": "stdout",
          "output_type": "stream",
          "text": [
            "[ 0  1  2  3  4  7  8 12 13 14]\n",
            "[ 0  1  2  3  4  7  8  9 11 12 13 14 15 16 17]\n"
          ]
        }
      ],
      "source": [
        "print(unique_labels(y_pred))\n",
        "print(unique_labels(y_true))"
      ]
    },
    {
      "cell_type": "code",
      "execution_count": null,
      "id": "2db46878-7436-43d9-93b5-3ef82e020044",
      "metadata": {
        "tags": [],
        "id": "2db46878-7436-43d9-93b5-3ef82e020044",
        "outputId": "77c70abc-9271-4154-c7b2-b9fc6c21e708"
      },
      "outputs": [
        {
          "data": {
            "text/plain": [
              "array([[34202,    43,    19,    28,     1,     0,     0,     9,    27,\n",
              "            0,     0,     0,     0,     0,     5,     0,     0,     0,\n",
              "            0],\n",
              "       [   96,   123,    10,     1,     0,     0,     0,     1,     0,\n",
              "            0,     0,     0,     0,     0,     0,     0,     0,     0,\n",
              "            0],\n",
              "       [   78,     4,    90,     1,     0,     0,     0,     0,     0,\n",
              "            0,     0,     0,     0,     0,     0,     0,     0,     0,\n",
              "            0],\n",
              "       [  116,    10,     3,   125,    10,     0,     0,     1,     0,\n",
              "            0,     0,     0,     0,     0,     2,     0,     0,     0,\n",
              "            0],\n",
              "       [   63,     2,     1,     6,    40,     0,     0,     2,     6,\n",
              "            0,     0,     0,     0,     0,     3,     0,     0,     0,\n",
              "            0],\n",
              "       [    0,     0,     0,     0,     0,     0,     0,     0,     0,\n",
              "            0,     0,     0,     0,     0,     0,     0,     0,     0,\n",
              "            0],\n",
              "       [    0,     0,     0,     0,     0,     0,     0,     0,     0,\n",
              "            0,     0,     0,     0,     0,     0,     0,     0,     0,\n",
              "            0],\n",
              "       [   38,     4,     2,     3,     0,     0,     0,    16,    12,\n",
              "            0,     0,     0,     0,     0,     0,     0,     0,     0,\n",
              "            0],\n",
              "       [  118,     2,     6,     4,     0,     0,     0,     3,    52,\n",
              "            0,     0,     0,     0,     0,     0,     0,     0,     0,\n",
              "            0],\n",
              "       [    1,     0,     0,     1,     0,     0,     0,     0,     0,\n",
              "            0,     0,     0,     0,     0,     0,     0,     0,     0,\n",
              "            0],\n",
              "       [    0,     0,     0,     0,     0,     0,     0,     0,     0,\n",
              "            0,     0,     0,     0,     0,     0,     0,     0,     0,\n",
              "            0],\n",
              "       [    1,     0,     0,     0,     0,     0,     0,     2,     0,\n",
              "            0,     0,     0,     0,     0,     0,     0,     0,     0,\n",
              "            0],\n",
              "       [    4,     0,     0,     0,     0,     0,     0,     0,     1,\n",
              "            0,     0,     0,     2,     0,     0,     0,     0,     0,\n",
              "            0],\n",
              "       [    9,     4,     1,     1,     0,     0,     0,     0,     3,\n",
              "            0,     0,     0,     0,     2,     3,     0,     0,     0,\n",
              "            0],\n",
              "       [   16,     1,     0,     1,     0,     0,     0,     0,     1,\n",
              "            0,     0,     0,     0,     0,    12,     0,     0,     0,\n",
              "            0],\n",
              "       [    0,     0,     1,     0,     0,     0,     0,     0,     0,\n",
              "            0,     0,     0,     0,     0,     0,     0,     0,     0,\n",
              "            0],\n",
              "       [    0,     0,     2,     1,     0,     0,     0,     0,     0,\n",
              "            0,     0,     0,     0,     0,     0,     0,     0,     0,\n",
              "            0],\n",
              "       [    1,     0,     0,     1,     0,     0,     0,     0,     0,\n",
              "            0,     0,     0,     0,     0,     0,     0,     0,     0,\n",
              "            0],\n",
              "       [    0,     0,     0,     0,     0,     0,     0,     0,     0,\n",
              "            0,     0,     0,     0,     0,     0,     0,     0,     0,\n",
              "            0]], dtype=int64)"
            ]
          },
          "execution_count": 26,
          "metadata": {},
          "output_type": "execute_result"
        }
      ],
      "source": [
        "confusion_matrix(y_true, y_pred, labels= [i for i in range(19)])"
      ]
    },
    {
      "cell_type": "code",
      "execution_count": null,
      "id": "3c2d3287-667c-4dd6-a9a5-5050bcd8cf71",
      "metadata": {
        "tags": [],
        "id": "3c2d3287-667c-4dd6-a9a5-5050bcd8cf71"
      },
      "outputs": [],
      "source": [
        "def plot(freal, predicted_token_class, label_list):\n",
        "    label_names = labels #unique_labels(y_true)\n",
        "    columns = [f'{label}' for label in label_names]\n",
        "    index = [f'{label}' for label in label_names]\n",
        "    table = pd.DataFrame(confusion_matrix(y_true, y_pred, labels=[i for i in range(19)]), columns=columns, index=index)\n",
        "    return table"
      ]
    },
    {
      "cell_type": "code",
      "execution_count": null,
      "id": "921bcf54-371c-4452-8790-46ec7e8ed720",
      "metadata": {
        "id": "921bcf54-371c-4452-8790-46ec7e8ed720",
        "outputId": "df7bac3b-2336-42ea-9477-d8b7d59bc88e"
      },
      "outputs": [
        {
          "name": "stdout",
          "output_type": "stream",
          "text": [
            "                        O  B-Gene_protein  I-Gene_protein  B-DNA_Mutation  \\\n",
            "O                   34202              43              19              28   \n",
            "B-Gene_protein         96             123              10               1   \n",
            "I-Gene_protein         78               4              90               1   \n",
            "B-DNA_Mutation        116              10               3             125   \n",
            "I-DNA_Mutation         63               2               1               6   \n",
            "B-DNA_modification      0               0               0               0   \n",
            "I-DNA_modification      0               0               0               0   \n",
            "B-locus                38               4               2               3   \n",
            "I-locus               118               2               6               4   \n",
            "B-Mutation              1               0               0               1   \n",
            "I-Mutation              0               0               0               0   \n",
            "B-dbSNP                 1               0               0               0   \n",
            "I-dbSNP                 4               0               0               0   \n",
            "B-Protein_Mutation      9               4               1               1   \n",
            "I-Protein_Mutation     16               1               0               1   \n",
            "B-RNA                   0               0               1               0   \n",
            "I-RNA                   0               0               2               1   \n",
            "B-RNA_Mutation          1               0               0               1   \n",
            "I-RNA_Mutation          0               0               0               0   \n",
            "\n",
            "                    I-DNA_Mutation  B-DNA_modification  I-DNA_modification  \\\n",
            "O                                1                   0                   0   \n",
            "B-Gene_protein                   0                   0                   0   \n",
            "I-Gene_protein                   0                   0                   0   \n",
            "B-DNA_Mutation                  10                   0                   0   \n",
            "I-DNA_Mutation                  40                   0                   0   \n",
            "B-DNA_modification               0                   0                   0   \n",
            "I-DNA_modification               0                   0                   0   \n",
            "B-locus                          0                   0                   0   \n",
            "I-locus                          0                   0                   0   \n",
            "B-Mutation                       0                   0                   0   \n",
            "I-Mutation                       0                   0                   0   \n",
            "B-dbSNP                          0                   0                   0   \n",
            "I-dbSNP                          0                   0                   0   \n",
            "B-Protein_Mutation               0                   0                   0   \n",
            "I-Protein_Mutation               0                   0                   0   \n",
            "B-RNA                            0                   0                   0   \n",
            "I-RNA                            0                   0                   0   \n",
            "B-RNA_Mutation                   0                   0                   0   \n",
            "I-RNA_Mutation                   0                   0                   0   \n",
            "\n",
            "                    B-locus  I-locus  B-Mutation  I-Mutation  B-dbSNP  \\\n",
            "O                         9       27           0           0        0   \n",
            "B-Gene_protein            1        0           0           0        0   \n",
            "I-Gene_protein            0        0           0           0        0   \n",
            "B-DNA_Mutation            1        0           0           0        0   \n",
            "I-DNA_Mutation            2        6           0           0        0   \n",
            "B-DNA_modification        0        0           0           0        0   \n",
            "I-DNA_modification        0        0           0           0        0   \n",
            "B-locus                  16       12           0           0        0   \n",
            "I-locus                   3       52           0           0        0   \n",
            "B-Mutation                0        0           0           0        0   \n",
            "I-Mutation                0        0           0           0        0   \n",
            "B-dbSNP                   2        0           0           0        0   \n",
            "I-dbSNP                   0        1           0           0        0   \n",
            "B-Protein_Mutation        0        3           0           0        0   \n",
            "I-Protein_Mutation        0        1           0           0        0   \n",
            "B-RNA                     0        0           0           0        0   \n",
            "I-RNA                     0        0           0           0        0   \n",
            "B-RNA_Mutation            0        0           0           0        0   \n",
            "I-RNA_Mutation            0        0           0           0        0   \n",
            "\n",
            "                    I-dbSNP  B-Protein_Mutation  I-Protein_Mutation  B-RNA  \\\n",
            "O                         0                   0                   5      0   \n",
            "B-Gene_protein            0                   0                   0      0   \n",
            "I-Gene_protein            0                   0                   0      0   \n",
            "B-DNA_Mutation            0                   0                   2      0   \n",
            "I-DNA_Mutation            0                   0                   3      0   \n",
            "B-DNA_modification        0                   0                   0      0   \n",
            "I-DNA_modification        0                   0                   0      0   \n",
            "B-locus                   0                   0                   0      0   \n",
            "I-locus                   0                   0                   0      0   \n",
            "B-Mutation                0                   0                   0      0   \n",
            "I-Mutation                0                   0                   0      0   \n",
            "B-dbSNP                   0                   0                   0      0   \n",
            "I-dbSNP                   2                   0                   0      0   \n",
            "B-Protein_Mutation        0                   2                   3      0   \n",
            "I-Protein_Mutation        0                   0                  12      0   \n",
            "B-RNA                     0                   0                   0      0   \n",
            "I-RNA                     0                   0                   0      0   \n",
            "B-RNA_Mutation            0                   0                   0      0   \n",
            "I-RNA_Mutation            0                   0                   0      0   \n",
            "\n",
            "                    I-RNA  B-RNA_Mutation  I-RNA_Mutation  \n",
            "O                       0               0               0  \n",
            "B-Gene_protein          0               0               0  \n",
            "I-Gene_protein          0               0               0  \n",
            "B-DNA_Mutation          0               0               0  \n",
            "I-DNA_Mutation          0               0               0  \n",
            "B-DNA_modification      0               0               0  \n",
            "I-DNA_modification      0               0               0  \n",
            "B-locus                 0               0               0  \n",
            "I-locus                 0               0               0  \n",
            "B-Mutation              0               0               0  \n",
            "I-Mutation              0               0               0  \n",
            "B-dbSNP                 0               0               0  \n",
            "I-dbSNP                 0               0               0  \n",
            "B-Protein_Mutation      0               0               0  \n",
            "I-Protein_Mutation      0               0               0  \n",
            "B-RNA                   0               0               0  \n",
            "I-RNA                   0               0               0  \n",
            "B-RNA_Mutation          0               0               0  \n",
            "I-RNA_Mutation          0               0               0  \n"
          ]
        }
      ],
      "source": [
        "plot = plot(y_true, y_pred, labels)\n",
        "print(plot)\n",
        "df = pd.DataFrame(plot)#.transpose()\n",
        "df.to_excel('yepes\\ ' + saveName + 'confusion_.xlsx', index=True)"
      ]
    },
    {
      "cell_type": "code",
      "execution_count": null,
      "id": "cddeada2-70ff-4fc1-8d2c-b88b20c9b05b",
      "metadata": {
        "tags": [],
        "id": "cddeada2-70ff-4fc1-8d2c-b88b20c9b05b"
      },
      "outputs": [],
      "source": [
        "def plot_heat(freal, predicted_token_class, label_list):\n",
        "    label_names = label_list #unique_labels(y_true)\n",
        "    columns = [f'{label}' for label in label_names]\n",
        "    index = [f'{label}' for label in label_names]\n",
        "    table = pd.DataFrame(confusion_matrix(y_true, y_pred, labels= [i for i in range(19)]), columns=columns, index=index)\n",
        "    sns.set (rc = {'figure.figsize':(15, 12)})\n",
        "    return sns.heatmap(table, annot=True, fmt='d', linewidth=.1, vmax=125, cmap='YlOrBr')"
      ]
    },
    {
      "cell_type": "code",
      "execution_count": null,
      "id": "f9992f50-5b71-4ed6-bed7-4804ad804b93",
      "metadata": {
        "tags": [],
        "id": "f9992f50-5b71-4ed6-bed7-4804ad804b93",
        "outputId": "237974d2-fd37-4b4f-93a1-4fa673753522"
      },
      "outputs": [
        {
          "data": {
            "image/png": "[encoded data removed]",
            "text/plain": [
              "<Figure size 1500x1200 with 2 Axes>"
            ]
          },
          "metadata": {},
          "output_type": "display_data"
        }
      ],
      "source": [
        "ax = plot_heat(y_true, y_pred, labels)\n",
        "ax.set(xlabel=\"Prediction\", ylabel=\"Actual\")\n",
        "ax.figure.savefig(\"output.png\")"
      ]
    },
    {
      "cell_type": "code",
      "execution_count": null,
      "id": "88e0b36e-dbf5-4eed-955f-1f5762ad3bd6",
      "metadata": {
        "tags": [],
        "id": "88e0b36e-dbf5-4eed-955f-1f5762ad3bd6"
      },
      "outputs": [],
      "source": [
        "from sklearn.metrics import classification_report"
      ]
    },
    {
      "cell_type": "code",
      "execution_count": null,
      "id": "35c420e9-448a-45a8-bff1-c6f084b9e84c",
      "metadata": {
        "tags": [],
        "id": "35c420e9-448a-45a8-bff1-c6f084b9e84c",
        "outputId": "f04af27b-d083-4325-b2d6-6a0745c42be2"
      },
      "outputs": [
        {
          "name": "stdout",
          "output_type": "stream",
          "text": [
            "{'O': {'precision': 0.9844285179748439, 'recall': 0.9961554144579717, 'f1-score': 0.9902572491567382, 'support': 34334}, 'B-Gene_protein': {'precision': 0.6373056994818653, 'recall': 0.5324675324675324, 'f1-score': 0.5801886792452831, 'support': 231}, 'I-Gene_protein': {'precision': 0.6666666666666666, 'recall': 0.5202312138728323, 'f1-score': 0.5844155844155844, 'support': 173}, 'B-DNA_Mutation': {'precision': 0.7225433526011561, 'recall': 0.4681647940074906, 'f1-score': 0.5681818181818182, 'support': 267}, 'I-DNA_Mutation': {'precision': 0.7843137254901961, 'recall': 0.3252032520325203, 'f1-score': 0.45977011494252873, 'support': 123}, 'B-DNA_modification': {'precision': 0.0, 'recall': 0.0, 'f1-score': 0.0, 'support': 0}, 'I-DNA_modification': {'precision': 0.0, 'recall': 0.0, 'f1-score': 0.0, 'support': 0}, 'B-locus': {'precision': 0.47058823529411764, 'recall': 0.21333333333333335, 'f1-score': 0.29357798165137616, 'support': 75}, 'I-locus': {'precision': 0.5098039215686274, 'recall': 0.2810810810810811, 'f1-score': 0.3623693379790941, 'support': 185}, 'B-Mutation': {'precision': 0.0, 'recall': 0.0, 'f1-score': 0.0, 'support': 2}, 'I-Mutation': {'precision': 0.0, 'recall': 0.0, 'f1-score': 0.0, 'support': 0}, 'B-dbSNP': {'precision': 0.0, 'recall': 0.0, 'f1-score': 0.0, 'support': 3}, 'I-dbSNP': {'precision': 1.0, 'recall': 0.2857142857142857, 'f1-score': 0.4444444444444445, 'support': 7}, 'B-Protein_Mutation': {'precision': 1.0, 'recall': 0.08695652173913043, 'f1-score': 0.16, 'support': 23}, 'I-Protein_Mutation': {'precision': 0.48, 'recall': 0.3870967741935484, 'f1-score': 0.42857142857142855, 'support': 31}, 'B-RNA': {'precision': 0.0, 'recall': 0.0, 'f1-score': 0.0, 'support': 1}, 'I-RNA': {'precision': 0.0, 'recall': 0.0, 'f1-score': 0.0, 'support': 3}, 'B-RNA_Mutation': {'precision': 0.0, 'recall': 0.0, 'f1-score': 0.0, 'support': 2}, 'I-RNA_Mutation': {'precision': 0.0, 'recall': 0.0, 'f1-score': 0.0, 'support': 0}, 'micro avg': {'precision': 0.9775521714608009, 'recall': 0.9775521714608009, 'f1-score': 0.9775521714608009, 'support': 35460}, 'macro avg': {'precision': 0.38187632205670907, 'recall': 0.21560022120524874, 'f1-score': 0.25640929676780505, 'support': 35460}, 'weighted avg': {'precision': 0.9736547431635361, 'recall': 0.9775521714608009, 'f1-score': 0.9743939550111758, 'support': 35460}}\n",
            "\n",
            "\n",
            "------------------------------------------------------------\n",
            "    Label Report\n",
            "------------------------------------------------------------\n",
            "                    precision    recall  f1-score  support\n",
            "O                    0.984429  0.996155  0.990257  34334.0\n",
            "B-Gene_protein       0.637306  0.532468  0.580189    231.0\n",
            "I-Gene_protein       0.666667  0.520231  0.584416    173.0\n",
            "B-DNA_Mutation       0.722543  0.468165  0.568182    267.0\n",
            "I-DNA_Mutation       0.784314  0.325203  0.459770    123.0\n",
            "B-DNA_modification   0.000000  0.000000  0.000000      0.0\n",
            "I-DNA_modification   0.000000  0.000000  0.000000      0.0\n",
            "B-locus              0.470588  0.213333  0.293578     75.0\n",
            "I-locus              0.509804  0.281081  0.362369    185.0\n",
            "B-Mutation           0.000000  0.000000  0.000000      2.0\n",
            "I-Mutation           0.000000  0.000000  0.000000      0.0\n",
            "B-dbSNP              0.000000  0.000000  0.000000      3.0\n",
            "I-dbSNP              1.000000  0.285714  0.444444      7.0\n",
            "B-Protein_Mutation   1.000000  0.086957  0.160000     23.0\n",
            "I-Protein_Mutation   0.480000  0.387097  0.428571     31.0\n",
            "B-RNA                0.000000  0.000000  0.000000      1.0\n",
            "I-RNA                0.000000  0.000000  0.000000      3.0\n",
            "B-RNA_Mutation       0.000000  0.000000  0.000000      2.0\n",
            "I-RNA_Mutation       0.000000  0.000000  0.000000      0.0\n",
            "micro avg            0.977552  0.977552  0.977552  35460.0\n",
            "macro avg            0.381876  0.215600  0.256409  35460.0\n",
            "weighted avg         0.973655  0.977552  0.974394  35460.0\n"
          ]
        },
        {
          "name": "stderr",
          "output_type": "stream",
          "text": [
            "C:\\Users\\pc\\AppData\\Local\\Programs\\Python\\Python310\\lib\\site-packages\\sklearn\\metrics\\_classification.py:1344: UndefinedMetricWarning: Precision and F-score are ill-defined and being set to 0.0 in labels with no predicted samples. Use `zero_division` parameter to control this behavior.\n",
            "  _warn_prf(average, modifier, msg_start, len(result))\n",
            "C:\\Users\\pc\\AppData\\Local\\Programs\\Python\\Python310\\lib\\site-packages\\sklearn\\metrics\\_classification.py:1344: UndefinedMetricWarning: Recall and F-score are ill-defined and being set to 0.0 in labels with no true samples. Use `zero_division` parameter to control this behavior.\n",
            "  _warn_prf(average, modifier, msg_start, len(result))\n",
            "C:\\Users\\pc\\AppData\\Local\\Programs\\Python\\Python310\\lib\\site-packages\\sklearn\\metrics\\_classification.py:1344: UndefinedMetricWarning: Precision and F-score are ill-defined and being set to 0.0 in labels with no predicted samples. Use `zero_division` parameter to control this behavior.\n",
            "  _warn_prf(average, modifier, msg_start, len(result))\n",
            "C:\\Users\\pc\\AppData\\Local\\Programs\\Python\\Python310\\lib\\site-packages\\sklearn\\metrics\\_classification.py:1344: UndefinedMetricWarning: Recall and F-score are ill-defined and being set to 0.0 in labels with no true samples. Use `zero_division` parameter to control this behavior.\n",
            "  _warn_prf(average, modifier, msg_start, len(result))\n",
            "C:\\Users\\pc\\AppData\\Local\\Programs\\Python\\Python310\\lib\\site-packages\\sklearn\\metrics\\_classification.py:1344: UndefinedMetricWarning: Precision and F-score are ill-defined and being set to 0.0 in labels with no predicted samples. Use `zero_division` parameter to control this behavior.\n",
            "  _warn_prf(average, modifier, msg_start, len(result))\n",
            "C:\\Users\\pc\\AppData\\Local\\Programs\\Python\\Python310\\lib\\site-packages\\sklearn\\metrics\\_classification.py:1344: UndefinedMetricWarning: Recall and F-score are ill-defined and being set to 0.0 in labels with no true samples. Use `zero_division` parameter to control this behavior.\n",
            "  _warn_prf(average, modifier, msg_start, len(result))\n",
            "C:\\Users\\pc\\AppData\\Local\\Temp\\ipykernel_25304\\947841676.py:10: FutureWarning: The frame.append method is deprecated and will be removed from pandas in a future version. Use pandas.concat instead.\n",
            "  exl = exl.append(df, ignore_index=True)\n"
          ]
        }
      ],
      "source": [
        "exl = pd.DataFrame()\n",
        "\n",
        "\n",
        "report = classification_report(y_true, y_pred, labels=[i for i in range(19)], target_names = labels, output_dict=True)\n",
        "print(report)\n",
        "df = pd.DataFrame(report).transpose()\n",
        "print(\"\\n\")\n",
        "print(\"-\"*60 + \"\\n\" + \"    Label Report\\n\" + \"-\"*60)\n",
        "print(df)\n",
        "exl = exl.append(df, ignore_index=True)\n",
        "exl.to_excel('yepes\\ ' + saveName + '_labelReport.xlsx', index=True)#.transpose()"
      ]
    },
    {
      "cell_type": "code",
      "execution_count": null,
      "id": "c0a7b315-241a-4566-93f5-e33ee8f9a047",
      "metadata": {
        "id": "c0a7b315-241a-4566-93f5-e33ee8f9a047"
      },
      "outputs": [],
      "source": []
    },
    {
      "cell_type": "code",
      "execution_count": null,
      "id": "77c0fe1b-b7d6-41ca-9639-5598fc66e567",
      "metadata": {
        "id": "77c0fe1b-b7d6-41ca-9639-5598fc66e567"
      },
      "outputs": [],
      "source": [
        "i = 0\n",
        "for (pred, gold, inIDs) in zip(pred_label, gold_label, dataset['test']['input_ids']):\n",
        "    print(i, len(pred), len(inIDs[1:-1]), end=\"\\n\")\n",
        "    i = i+1\n",
        "    for i, (label1, label2, inID) in enumerate(zip(pred, gold, inIDs[1:-1])):\n",
        "        print(i, tokenizer.decode(inID), \":(\" + str(label1), \",\", label2 + ')')\n",
        "        if label1 != label2:\n",
        "            print(\"#########################\")\n",
        "            #print(\":(\" + str(label1), \",\", label2, end=')\\n')\n",
        "    print(\" \")"
      ]
    },
    {
      "cell_type": "code",
      "execution_count": null,
      "id": "e69dc3e5-5fac-45c2-9454-106fd01957c0",
      "metadata": {
        "id": "e69dc3e5-5fac-45c2-9454-106fd01957c0"
      },
      "outputs": [],
      "source": []
    }
  ],
  "metadata": {
    "kernelspec": {
      "display_name": "Python 3 (ipykernel)",
      "language": "python",
      "name": "python3"
    },
    "language_info": {
      "codemirror_mode": {
        "name": "ipython",
        "version": 3
      },
      "file_extension": ".py",
      "mimetype": "text/x-python",
      "name": "python",
      "nbconvert_exporter": "python",
      "pygments_lexer": "ipython3",
      "version": "3.10.7"
    },
    "colab": {
      "provenance": [],
      "include_colab_link": true
    }
  },
  "nbformat": 4,
  "nbformat_minor": 5
}