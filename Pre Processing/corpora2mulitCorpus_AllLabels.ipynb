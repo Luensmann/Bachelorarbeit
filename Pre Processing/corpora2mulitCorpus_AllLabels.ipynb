{
  "cells": [
    {
      "cell_type": "markdown",
      "metadata": {
        "id": "view-in-github",
        "colab_type": "text"
      },
      "source": [
        "<a href=\"https://colab.research.google.com/github/Luensmann/Bachelorarbeit/blob/main/Pre%20Processing/corpora2mulitCorpus_AllLabels.ipynb\" target=\"_parent\"><img src=\"https://colab.research.google.com/assets/colab-badge.svg\" alt=\"Open In Colab\"/></a>"
      ]
    },
    {
      "cell_type": "code",
      "execution_count": null,
      "id": "f5304f61-59a7-4e15-93b7-10d8d8aad8b1",
      "metadata": {
        "tags": [],
        "id": "f5304f61-59a7-4e15-93b7-10d8d8aad8b1"
      },
      "outputs": [],
      "source": [
        "import torch\n",
        "from transformers import AutoTokenizer, BertForTokenClassification, AutoModelForTokenClassification\n",
        "from datasets import concatenate_datasets, load_dataset, DatasetDict"
      ]
    },
    {
      "cell_type": "code",
      "execution_count": null,
      "id": "02ada111-69f3-48b2-8bd4-6e214806623a",
      "metadata": {
        "tags": [],
        "id": "02ada111-69f3-48b2-8bd4-6e214806623a"
      },
      "outputs": [],
      "source": [
        "# Multi-Corpus1Labels\n",
        "labels_all = [\n",
        "    'O',\n",
        "    'Gene_Protein',\n",
        "    'DNAMutation',\n",
        "    'ProteinMutation',\n",
        "    'SNP', \n",
        "    'DNA_modification',\n",
        "    'RNA',\n",
        "    'RNA_Mutation',\n",
        "    'locus',\n",
        "    'disease',\n",
        "    'body-part',\n",
        "    'mutation',\n",
        "    'Physiology',\n",
        "    'cohort-patient',\n",
        "    'size',\n",
        "    'gender',\n",
        "    'age',\n",
        "    'Concepts_Ideas',\n",
        "    'Disorder',\n",
        "    'Phenomena',\n",
        "    'ethnicity'\n",
        "]"
      ]
    },
    {
      "cell_type": "code",
      "execution_count": null,
      "id": "90fefb0e-7f36-441b-93d6-c44891f63362",
      "metadata": {
        "tags": [],
        "id": "90fefb0e-7f36-441b-93d6-c44891f63362"
      },
      "outputs": [],
      "source": [
        "# Multi-Corpus2Labels\n",
        "labels = [\n",
        "    'O',\n",
        "    'DNAMutation',\n",
        "    'ProteinMutation',\n",
        "    'SNP', \n",
        "    'DNA_modification',\n",
        "    'Gene_protein'\n",
        "]"
      ]
    },
    {
      "cell_type": "code",
      "execution_count": null,
      "id": "a16e9983-3278-4678-a2c2-e847330c24e1",
      "metadata": {
        "tags": [],
        "id": "a16e9983-3278-4678-a2c2-e847330c24e1"
      },
      "outputs": [],
      "source": [
        "tmvarID2MultiID = {\n",
        "    -100: -100,\n",
        "    0: 0,\n",
        "    1: 3,\n",
        "    2: 4,\n",
        "    3: 5,\n",
        "    4: 6,\n",
        "    5: 7,\n",
        "    6: 8,\n",
        "}"
      ]
    },
    {
      "cell_type": "code",
      "execution_count": null,
      "id": "76e3a7a1-9d02-4731-b8e5-ee61bcc214b2",
      "metadata": {
        "tags": [],
        "id": "76e3a7a1-9d02-4731-b8e5-ee61bcc214b2"
      },
      "outputs": [],
      "source": [
        "SETHID2MultiID = {\n",
        "    -100: -100,\n",
        "    0: 0,\n",
        "    1: 1,\n",
        "    2: 2,\n",
        "    3: 7,\n",
        "    4: 8,\n",
        "    5: 7, # RS to SNP\n",
        "    6: 8,\n",
        "}"
      ]
    },
    {
      "cell_type": "code",
      "execution_count": null,
      "id": "4581de49-4467-42db-85ba-1da8cee5f417",
      "metadata": {
        "tags": [],
        "id": "4581de49-4467-42db-85ba-1da8cee5f417"
      },
      "outputs": [],
      "source": [
        "yepesID2MultiID = {\n",
        "    -100: -100,\n",
        "     0: 0,\n",
        "     1: 1,\n",
        "     2: 2,\n",
        "     3: 3,\n",
        "     4: 4,\n",
        "     5: 9,\n",
        "     6: 10,\n",
        "     7: 15,\n",
        "     8: 16,\n",
        "     9: 21,\n",
        "     10: 22,\n",
        "     11: 7,\n",
        "     12: 8,\n",
        "     13: 5,\n",
        "     14: 6,\n",
        "     15: 11,\n",
        "     16: 12,\n",
        "     17: 13,\n",
        "     18: 14\n",
        "}"
      ]
    },
    {
      "cell_type": "code",
      "execution_count": null,
      "id": "649a9016-8343-4da0-a36a-1a8edd3132b1",
      "metadata": {
        "tags": [],
        "id": "649a9016-8343-4da0-a36a-1a8edd3132b1"
      },
      "outputs": [],
      "source": [
        "VariomeID2MultiID = {\n",
        "    -100: -100,\n",
        "     0: 0,\n",
        "     1: 17,\n",
        "     2: 18,\n",
        "     3: 19,\n",
        "     4: 20,\n",
        "     5: 21,\n",
        "     6: 22,\n",
        "     7: 23,\n",
        "     8: 24,\n",
        "     9: 25,\n",
        "     10: 26,\n",
        "     11: 27,\n",
        "     12: 28,\n",
        "     13: 29,\n",
        "     14: 30,\n",
        "     15: 31,\n",
        "     16: 32,\n",
        "     17: 33,\n",
        "     18: 34,\n",
        "     19: 35,\n",
        "     20: 36,\n",
        "     21: 1,\n",
        "     22: 2,\n",
        "     23: 37,\n",
        "     24: 38,\n",
        "     25: 39,\n",
        "     26: 40\n",
        "}"
      ]
    },
    {
      "cell_type": "code",
      "execution_count": null,
      "id": "72b258d1-c72a-46fc-bd25-a9c53559b729",
      "metadata": {
        "tags": [],
        "id": "72b258d1-c72a-46fc-bd25-a9c53559b729"
      },
      "outputs": [],
      "source": [
        "all = {\n",
        "     0: 'O',\n",
        "     1: 'B-Gene_Protein',\n",
        "     2: 'I-Gene_Protein',\n",
        "     3: 'B-DNAMutation',\n",
        "     4: 'I-DNAMutation',\n",
        "     5: 'B-ProteinMutation',\n",
        "     6: 'I-ProteinMutation',\n",
        "     7: 'B-SNP', # with RS\n",
        "     8: 'I-SNP',\n",
        "     9: 'B-DNA_modification',\n",
        "     10: 'I-DNA_modification',\n",
        "     11: 'B-RNA',\n",
        "     12: 'I-RNA',\n",
        "     13: 'B-RNA_Mutation',\n",
        "     14: 'I-RNA_Mutation',\n",
        "     15: 'B-locus',\n",
        "     16: 'I-locus',\n",
        "     17: 'B-disease',\n",
        "     18: 'I-disease',\n",
        "     19: 'B-body-part',\n",
        "     20: 'I-body-part',\n",
        "     21: 'B-mutation',\n",
        "     22: 'I-mutation',\n",
        "     23: 'B-Physiology',\n",
        "     24: 'I-Physiology',\n",
        "     25: 'B-cohort-patient',\n",
        "     26: 'I-cohort-patient',\n",
        "     27: 'B-size',\n",
        "     28: 'I-size',\n",
        "     29: 'B-gender',\n",
        "     30: 'I-gender',\n",
        "     31: 'B-age',\n",
        "     32: 'I-age',\n",
        "     33: 'B-Concepts_Ideas',\n",
        "     34: 'I-Concepts_Ideas',\n",
        "     35: 'B-Disorder',\n",
        "     36: 'I-Disorder',\n",
        "     37: 'B-Phenomena',\n",
        "     38: 'I-Phenomena',\n",
        "     39: 'B-ethnicity',\n",
        "     40: 'I-ethnicity'\n",
        "}"
      ]
    },
    {
      "cell_type": "code",
      "execution_count": null,
      "id": "9276b170-deb1-4fb6-ad1a-e7240898ad01",
      "metadata": {
        "tags": [],
        "colab": {
          "referenced_widgets": [
            "e585941557964905b522c3dba6951888"
          ]
        },
        "id": "9276b170-deb1-4fb6-ad1a-e7240898ad01",
        "outputId": "a65c7645-2ffd-4fc5-c3fa-0272761f0d5e"
      },
      "outputs": [
        {
          "name": "stderr",
          "output_type": "stream",
          "text": [
            "Found cached dataset parquet (C:/Users/pc/.cache/huggingface/datasets/Brizape___parquet/Brizape--tmvar_tokenized_split_0404_dev-3b41f35c1b43fb07/0.0.0/2a3b91fbd88a2c90d1dbbb32b460cf621d31bd5b05b934492fdef7d8d6f236ec)\n"
          ]
        },
        {
          "data": {
            "application/vnd.jupyter.widget-view+json": {
              "model_id": "e585941557964905b522c3dba6951888",
              "version_major": 2,
              "version_minor": 0
            },
            "text/plain": [
              "  0%|          | 0/3 [00:00<?, ?it/s]"
            ]
          },
          "metadata": {},
          "output_type": "display_data"
        },
        {
          "data": {
            "text/plain": [
              "DatasetDict({\n",
              "    train: Dataset({\n",
              "        features: ['id', 'tokens', 'ner_tags', 'texts', 'input_ids', 'token_type_ids', 'attention_mask', 'labels'],\n",
              "        num_rows: 801\n",
              "    })\n",
              "    validation: Dataset({\n",
              "        features: ['id', 'tokens', 'ner_tags', 'texts', 'input_ids', 'token_type_ids', 'attention_mask', 'labels'],\n",
              "        num_rows: 201\n",
              "    })\n",
              "    test: Dataset({\n",
              "        features: ['id', 'tokens', 'ner_tags', 'texts', 'input_ids', 'token_type_ids', 'attention_mask', 'labels'],\n",
              "        num_rows: 498\n",
              "    })\n",
              "})"
            ]
          },
          "execution_count": 8,
          "metadata": {},
          "output_type": "execute_result"
        }
      ],
      "source": [
        "tmvar = load_dataset(\"Brizape/tmvar_tokenized_split_0404_dev\")\n",
        "tmvar"
      ]
    },
    {
      "cell_type": "code",
      "execution_count": null,
      "id": "cf874325-256f-4074-8cc7-b34c6a9c49ad",
      "metadata": {
        "tags": [],
        "id": "cf874325-256f-4074-8cc7-b34c6a9c49ad"
      },
      "outputs": [],
      "source": [
        "def convert_tmvar_labels(example):\n",
        "    example['ner_tags'] = [tmvarID2MultiID[label] for label in example['ner_tags']]\n",
        "    example['labels'] = [tmvarID2MultiID[label] for label in example['labels']]\n",
        "    return example"
      ]
    },
    {
      "cell_type": "code",
      "execution_count": null,
      "id": "d4742120-bbd9-4353-9e82-f146cd58bcd8",
      "metadata": {
        "tags": [],
        "colab": {
          "referenced_widgets": [
            ""
          ]
        },
        "id": "d4742120-bbd9-4353-9e82-f146cd58bcd8",
        "outputId": "bde93757-f01d-4fa2-e71f-7285f07e374f"
      },
      "outputs": [
        {
          "data": {
            "application/vnd.jupyter.widget-view+json": {
              "model_id": "",
              "version_major": 2,
              "version_minor": 0
            },
            "text/plain": [
              "Map:   0%|          | 0/498 [00:00<?, ? examples/s]"
            ]
          },
          "metadata": {},
          "output_type": "display_data"
        },
        {
          "data": {
            "application/vnd.jupyter.widget-view+json": {
              "model_id": "",
              "version_major": 2,
              "version_minor": 0
            },
            "text/plain": [
              "Map:   0%|          | 0/801 [00:00<?, ? examples/s]"
            ]
          },
          "metadata": {},
          "output_type": "display_data"
        },
        {
          "data": {
            "application/vnd.jupyter.widget-view+json": {
              "model_id": "",
              "version_major": 2,
              "version_minor": 0
            },
            "text/plain": [
              "Map:   0%|          | 0/201 [00:00<?, ? examples/s]"
            ]
          },
          "metadata": {},
          "output_type": "display_data"
        },
        {
          "data": {
            "text/plain": [
              "DatasetDict({\n",
              "    test: Dataset({\n",
              "        features: ['id', 'tokens', 'ner_tags', 'texts', 'input_ids', 'token_type_ids', 'attention_mask', 'labels'],\n",
              "        num_rows: 498\n",
              "    })\n",
              "    train: Dataset({\n",
              "        features: ['id', 'tokens', 'ner_tags', 'texts', 'input_ids', 'token_type_ids', 'attention_mask', 'labels'],\n",
              "        num_rows: 801\n",
              "    })\n",
              "    validation: Dataset({\n",
              "        features: ['id', 'tokens', 'ner_tags', 'texts', 'input_ids', 'token_type_ids', 'attention_mask', 'labels'],\n",
              "        num_rows: 201\n",
              "    })\n",
              "})"
            ]
          },
          "execution_count": 65,
          "metadata": {},
          "output_type": "execute_result"
        }
      ],
      "source": [
        "# Apply the function to each dataset in the DatasetDict\n",
        "tmvarMultiID = tmvar.map(convert_tmvar_labels)\n",
        "tmvarMultiID"
      ]
    },
    {
      "cell_type": "code",
      "execution_count": null,
      "id": "d6fb1849-c2a3-44ab-806f-2d1b6ab9a2bc",
      "metadata": {
        "tags": [],
        "id": "d6fb1849-c2a3-44ab-806f-2d1b6ab9a2bc"
      },
      "outputs": [],
      "source": [
        "##################################"
      ]
    },
    {
      "cell_type": "code",
      "execution_count": null,
      "id": "55876b8b-b882-4894-bdcf-d6bc205b585e",
      "metadata": {
        "tags": [],
        "colab": {
          "referenced_widgets": [
            "5ba8d71ba0484cae92ce2628f283649a"
          ]
        },
        "id": "55876b8b-b882-4894-bdcf-d6bc205b585e",
        "outputId": "2b041e75-e50b-4d18-f607-b80162c146ba"
      },
      "outputs": [
        {
          "name": "stderr",
          "output_type": "stream",
          "text": [
            "Found cached dataset parquet (C:/Users/pc/.cache/huggingface/datasets/Brizape___parquet/Brizape--SETH_tokenized_split_0404_dev-f498170a431e904f/0.0.0/2a3b91fbd88a2c90d1dbbb32b460cf621d31bd5b05b934492fdef7d8d6f236ec)\n"
          ]
        },
        {
          "data": {
            "application/vnd.jupyter.widget-view+json": {
              "model_id": "5ba8d71ba0484cae92ce2628f283649a",
              "version_major": 2,
              "version_minor": 0
            },
            "text/plain": [
              "  0%|          | 0/3 [00:00<?, ?it/s]"
            ]
          },
          "metadata": {},
          "output_type": "display_data"
        },
        {
          "data": {
            "text/plain": [
              "DatasetDict({\n",
              "    test: Dataset({\n",
              "        features: ['id', 'tokens', 'ner_tags', 'texts', 'input_ids', 'token_type_ids', 'attention_mask', 'labels'],\n",
              "        num_rows: 126\n",
              "    })\n",
              "    validation: Dataset({\n",
              "        features: ['id', 'tokens', 'ner_tags', 'texts', 'input_ids', 'token_type_ids', 'attention_mask', 'labels'],\n",
              "        num_rows: 101\n",
              "    })\n",
              "    train: Dataset({\n",
              "        features: ['id', 'tokens', 'ner_tags', 'texts', 'input_ids', 'token_type_ids', 'attention_mask', 'labels'],\n",
              "        num_rows: 403\n",
              "    })\n",
              "})"
            ]
          },
          "execution_count": 71,
          "metadata": {},
          "output_type": "execute_result"
        }
      ],
      "source": [
        "SETH = load_dataset(\"Brizape/SETH_tokenized_split_0404_dev\")\n",
        "SETH"
      ]
    },
    {
      "cell_type": "code",
      "execution_count": null,
      "id": "e1417e20-7622-41eb-93ad-b66c1a6d3110",
      "metadata": {
        "tags": [],
        "id": "e1417e20-7622-41eb-93ad-b66c1a6d3110"
      },
      "outputs": [],
      "source": [
        "def convert_SETH_labels(example):\n",
        "    example['ner_tags'] = [SETHID2MultiID[label] for label in example['ner_tags']]\n",
        "    example['labels'] = [SETHID2MultiID[label] for label in example['labels']]\n",
        "    return example"
      ]
    },
    {
      "cell_type": "code",
      "execution_count": null,
      "id": "4cdb261f-bfdb-4e1e-86c7-c613cfedd804",
      "metadata": {
        "tags": [],
        "colab": {
          "referenced_widgets": [
            ""
          ]
        },
        "id": "4cdb261f-bfdb-4e1e-86c7-c613cfedd804",
        "outputId": "2c22018e-b6d6-4fe4-a527-5dbd8e8db129"
      },
      "outputs": [
        {
          "data": {
            "application/vnd.jupyter.widget-view+json": {
              "model_id": "",
              "version_major": 2,
              "version_minor": 0
            },
            "text/plain": [
              "Map:   0%|          | 0/126 [00:00<?, ? examples/s]"
            ]
          },
          "metadata": {},
          "output_type": "display_data"
        },
        {
          "data": {
            "application/vnd.jupyter.widget-view+json": {
              "model_id": "",
              "version_major": 2,
              "version_minor": 0
            },
            "text/plain": [
              "Map:   0%|          | 0/101 [00:00<?, ? examples/s]"
            ]
          },
          "metadata": {},
          "output_type": "display_data"
        },
        {
          "data": {
            "application/vnd.jupyter.widget-view+json": {
              "model_id": "",
              "version_major": 2,
              "version_minor": 0
            },
            "text/plain": [
              "Map:   0%|          | 0/403 [00:00<?, ? examples/s]"
            ]
          },
          "metadata": {},
          "output_type": "display_data"
        },
        {
          "data": {
            "text/plain": [
              "DatasetDict({\n",
              "    test: Dataset({\n",
              "        features: ['id', 'tokens', 'ner_tags', 'texts', 'input_ids', 'token_type_ids', 'attention_mask', 'labels'],\n",
              "        num_rows: 126\n",
              "    })\n",
              "    validation: Dataset({\n",
              "        features: ['id', 'tokens', 'ner_tags', 'texts', 'input_ids', 'token_type_ids', 'attention_mask', 'labels'],\n",
              "        num_rows: 101\n",
              "    })\n",
              "    train: Dataset({\n",
              "        features: ['id', 'tokens', 'ner_tags', 'texts', 'input_ids', 'token_type_ids', 'attention_mask', 'labels'],\n",
              "        num_rows: 403\n",
              "    })\n",
              "})"
            ]
          },
          "execution_count": 73,
          "metadata": {},
          "output_type": "execute_result"
        }
      ],
      "source": [
        "# Apply the function to each dataset in the DatasetDict\n",
        "SETHMultiID = SETH.map(convert_SETH_labels)\n",
        "SETHMultiID"
      ]
    },
    {
      "cell_type": "code",
      "execution_count": null,
      "id": "3a7bba54-afc4-409c-9c6e-05db313ce625",
      "metadata": {
        "tags": [],
        "id": "3a7bba54-afc4-409c-9c6e-05db313ce625"
      },
      "outputs": [],
      "source": [
        "#########################################"
      ]
    },
    {
      "cell_type": "code",
      "execution_count": null,
      "id": "2f64ae6d-0d2b-45f4-af53-407a6cbd17d4",
      "metadata": {
        "tags": [],
        "colab": {
          "referenced_widgets": [
            "0918ea65e6384e2caaffa89314491b7c"
          ]
        },
        "id": "2f64ae6d-0d2b-45f4-af53-407a6cbd17d4",
        "outputId": "7c3e3f51-7ea8-4a02-9d56-ead523e74ccb"
      },
      "outputs": [
        {
          "name": "stderr",
          "output_type": "stream",
          "text": [
            "Found cached dataset parquet (C:/Users/pc/.cache/huggingface/datasets/Brizape___parquet/Brizape--amia_tokenized_split_0404_dev-5c88a251eef9689d/0.0.0/2a3b91fbd88a2c90d1dbbb32b460cf621d31bd5b05b934492fdef7d8d6f236ec)\n"
          ]
        },
        {
          "data": {
            "application/vnd.jupyter.widget-view+json": {
              "model_id": "0918ea65e6384e2caaffa89314491b7c",
              "version_major": 2,
              "version_minor": 0
            },
            "text/plain": [
              "  0%|          | 0/3 [00:00<?, ?it/s]"
            ]
          },
          "metadata": {},
          "output_type": "display_data"
        },
        {
          "data": {
            "text/plain": [
              "DatasetDict({\n",
              "    train: Dataset({\n",
              "        features: ['id', 'tokens', 'ner_tags', 'texts', 'input_ids', 'token_type_ids', 'attention_mask', 'labels'],\n",
              "        num_rows: 913\n",
              "    })\n",
              "    validation: Dataset({\n",
              "        features: ['id', 'tokens', 'ner_tags', 'texts', 'input_ids', 'token_type_ids', 'attention_mask', 'labels'],\n",
              "        num_rows: 229\n",
              "    })\n",
              "    test: Dataset({\n",
              "        features: ['id', 'tokens', 'ner_tags', 'texts', 'input_ids', 'token_type_ids', 'attention_mask', 'labels'],\n",
              "        num_rows: 420\n",
              "    })\n",
              "})"
            ]
          },
          "execution_count": 74,
          "metadata": {},
          "output_type": "execute_result"
        }
      ],
      "source": [
        "yepes = load_dataset(\"Brizape/amia_tokenized_split_0404_dev\")\n",
        "yepes"
      ]
    },
    {
      "cell_type": "code",
      "execution_count": null,
      "id": "ffd27091-ce6f-4262-9158-e8e22ec3fcba",
      "metadata": {
        "tags": [],
        "id": "ffd27091-ce6f-4262-9158-e8e22ec3fcba"
      },
      "outputs": [],
      "source": [
        "def convert_yepes_labels(example):\n",
        "    example['ner_tags'] = [yepesID2MultiID[label] for label in example['ner_tags']]\n",
        "    example['labels'] = [yepesID2MultiID[label] for label in example['labels']]\n",
        "    return example"
      ]
    },
    {
      "cell_type": "code",
      "execution_count": null,
      "id": "4cbe3899-13a8-485f-b80c-cc9d59edd30b",
      "metadata": {
        "tags": [],
        "colab": {
          "referenced_widgets": [
            ""
          ]
        },
        "id": "4cbe3899-13a8-485f-b80c-cc9d59edd30b",
        "outputId": "2b28ecc6-15cb-4176-a743-83160bd3d59c"
      },
      "outputs": [
        {
          "data": {
            "application/vnd.jupyter.widget-view+json": {
              "model_id": "",
              "version_major": 2,
              "version_minor": 0
            },
            "text/plain": [
              "Map:   0%|          | 0/913 [00:00<?, ? examples/s]"
            ]
          },
          "metadata": {},
          "output_type": "display_data"
        },
        {
          "data": {
            "application/vnd.jupyter.widget-view+json": {
              "model_id": "",
              "version_major": 2,
              "version_minor": 0
            },
            "text/plain": [
              "Map:   0%|          | 0/229 [00:00<?, ? examples/s]"
            ]
          },
          "metadata": {},
          "output_type": "display_data"
        },
        {
          "data": {
            "application/vnd.jupyter.widget-view+json": {
              "model_id": "",
              "version_major": 2,
              "version_minor": 0
            },
            "text/plain": [
              "Map:   0%|          | 0/420 [00:00<?, ? examples/s]"
            ]
          },
          "metadata": {},
          "output_type": "display_data"
        },
        {
          "data": {
            "text/plain": [
              "DatasetDict({\n",
              "    train: Dataset({\n",
              "        features: ['id', 'tokens', 'ner_tags', 'texts', 'input_ids', 'token_type_ids', 'attention_mask', 'labels'],\n",
              "        num_rows: 913\n",
              "    })\n",
              "    validation: Dataset({\n",
              "        features: ['id', 'tokens', 'ner_tags', 'texts', 'input_ids', 'token_type_ids', 'attention_mask', 'labels'],\n",
              "        num_rows: 229\n",
              "    })\n",
              "    test: Dataset({\n",
              "        features: ['id', 'tokens', 'ner_tags', 'texts', 'input_ids', 'token_type_ids', 'attention_mask', 'labels'],\n",
              "        num_rows: 420\n",
              "    })\n",
              "})"
            ]
          },
          "execution_count": 77,
          "metadata": {},
          "output_type": "execute_result"
        }
      ],
      "source": [
        "# Apply the function to each dataset in the DatasetDict\n",
        "yepesMultiID = yepes.map(convert_yepes_labels)\n",
        "yepesMultiID"
      ]
    },
    {
      "cell_type": "code",
      "execution_count": null,
      "id": "da0ffae5-583a-439e-b91b-b1db0601f7eb",
      "metadata": {
        "tags": [],
        "id": "da0ffae5-583a-439e-b91b-b1db0601f7eb"
      },
      "outputs": [],
      "source": [
        "#########################################"
      ]
    },
    {
      "cell_type": "code",
      "execution_count": null,
      "id": "638832ec-ca62-4608-a018-6118935ea724",
      "metadata": {
        "tags": [],
        "colab": {
          "referenced_widgets": [
            "d4d8e8dff7234b1e9465c674d50e8d8f"
          ]
        },
        "id": "638832ec-ca62-4608-a018-6118935ea724",
        "outputId": "35d96fe9-75e9-4694-eea3-7af098ff6345"
      },
      "outputs": [
        {
          "name": "stderr",
          "output_type": "stream",
          "text": [
            "Found cached dataset parquet (C:/Users/pc/.cache/huggingface/datasets/Brizape___parquet/Brizape--Variome_tokenized_split_0404_dev-b48007fb3d12079a/0.0.0/2a3b91fbd88a2c90d1dbbb32b460cf621d31bd5b05b934492fdef7d8d6f236ec)\n"
          ]
        },
        {
          "data": {
            "application/vnd.jupyter.widget-view+json": {
              "model_id": "d4d8e8dff7234b1e9465c674d50e8d8f",
              "version_major": 2,
              "version_minor": 0
            },
            "text/plain": [
              "  0%|          | 0/3 [00:00<?, ?it/s]"
            ]
          },
          "metadata": {},
          "output_type": "display_data"
        },
        {
          "data": {
            "text/plain": [
              "DatasetDict({\n",
              "    validation: Dataset({\n",
              "        features: ['id', 'tokens', 'ner_tags', 'texts', 'input_ids', 'token_type_ids', 'attention_mask', 'labels'],\n",
              "        num_rows: 762\n",
              "    })\n",
              "    train: Dataset({\n",
              "        features: ['id', 'tokens', 'ner_tags', 'texts', 'input_ids', 'token_type_ids', 'attention_mask', 'labels'],\n",
              "        num_rows: 3048\n",
              "    })\n",
              "    test: Dataset({\n",
              "        features: ['id', 'tokens', 'ner_tags', 'texts', 'input_ids', 'token_type_ids', 'attention_mask', 'labels'],\n",
              "        num_rows: 991\n",
              "    })\n",
              "})"
            ]
          },
          "execution_count": 79,
          "metadata": {},
          "output_type": "execute_result"
        }
      ],
      "source": [
        "Variome = load_dataset(\"Brizape/Variome_tokenized_split_0404_dev\")\n",
        "Variome"
      ]
    },
    {
      "cell_type": "code",
      "execution_count": null,
      "id": "b1ff4522-3955-4c3f-a8a6-3c8e6fe76765",
      "metadata": {
        "tags": [],
        "id": "b1ff4522-3955-4c3f-a8a6-3c8e6fe76765"
      },
      "outputs": [],
      "source": [
        "def convert_Variome_labels(example):\n",
        "    example['ner_tags'] = [VariomeID2MultiID[label] for label in example['ner_tags']]\n",
        "    example['labels'] = [VariomeID2MultiID[label] for label in example['labels']]\n",
        "    return example"
      ]
    },
    {
      "cell_type": "code",
      "execution_count": null,
      "id": "08beaba5-34ec-4ece-8d76-075d1cf8da69",
      "metadata": {
        "tags": [],
        "colab": {
          "referenced_widgets": [
            ""
          ]
        },
        "id": "08beaba5-34ec-4ece-8d76-075d1cf8da69",
        "outputId": "133b2c2f-9d76-4d0a-d23d-a6cd1c51126a"
      },
      "outputs": [
        {
          "data": {
            "application/vnd.jupyter.widget-view+json": {
              "model_id": "",
              "version_major": 2,
              "version_minor": 0
            },
            "text/plain": [
              "Map:   0%|          | 0/762 [00:00<?, ? examples/s]"
            ]
          },
          "metadata": {},
          "output_type": "display_data"
        },
        {
          "data": {
            "application/vnd.jupyter.widget-view+json": {
              "model_id": "",
              "version_major": 2,
              "version_minor": 0
            },
            "text/plain": [
              "Map:   0%|          | 0/3048 [00:00<?, ? examples/s]"
            ]
          },
          "metadata": {},
          "output_type": "display_data"
        },
        {
          "data": {
            "application/vnd.jupyter.widget-view+json": {
              "model_id": "",
              "version_major": 2,
              "version_minor": 0
            },
            "text/plain": [
              "Map:   0%|          | 0/991 [00:00<?, ? examples/s]"
            ]
          },
          "metadata": {},
          "output_type": "display_data"
        },
        {
          "data": {
            "text/plain": [
              "DatasetDict({\n",
              "    validation: Dataset({\n",
              "        features: ['id', 'tokens', 'ner_tags', 'texts', 'input_ids', 'token_type_ids', 'attention_mask', 'labels'],\n",
              "        num_rows: 762\n",
              "    })\n",
              "    train: Dataset({\n",
              "        features: ['id', 'tokens', 'ner_tags', 'texts', 'input_ids', 'token_type_ids', 'attention_mask', 'labels'],\n",
              "        num_rows: 3048\n",
              "    })\n",
              "    test: Dataset({\n",
              "        features: ['id', 'tokens', 'ner_tags', 'texts', 'input_ids', 'token_type_ids', 'attention_mask', 'labels'],\n",
              "        num_rows: 991\n",
              "    })\n",
              "})"
            ]
          },
          "execution_count": 81,
          "metadata": {},
          "output_type": "execute_result"
        }
      ],
      "source": [
        "# Apply the function to each dataset in the DatasetDict\n",
        "VariomeMultiID = Variome.map(convert_Variome_labels)\n",
        "VariomeMultiID"
      ]
    },
    {
      "cell_type": "code",
      "execution_count": null,
      "id": "ac94a3f9-b0ef-4905-83c4-80e8747ea6c5",
      "metadata": {
        "tags": [],
        "id": "ac94a3f9-b0ef-4905-83c4-80e8747ea6c5"
      },
      "outputs": [],
      "source": [
        "#########################################"
      ]
    },
    {
      "cell_type": "code",
      "execution_count": null,
      "id": "3b2c85c9-48d8-4a95-be4b-8fa21120a3d4",
      "metadata": {
        "tags": [],
        "id": "3b2c85c9-48d8-4a95-be4b-8fa21120a3d4",
        "outputId": "feba60fd-a322-4463-a7df-2dece8e84446"
      },
      "outputs": [
        {
          "name": "stdout",
          "output_type": "stream",
          "text": [
            "test\n",
            "train\n",
            "validation\n"
          ]
        },
        {
          "data": {
            "text/plain": [
              "DatasetDict({\n",
              "    test: Dataset({\n",
              "        features: ['id', 'tokens', 'ner_tags', 'texts', 'input_ids', 'token_type_ids', 'attention_mask', 'labels'],\n",
              "        num_rows: 2035\n",
              "    })\n",
              "    train: Dataset({\n",
              "        features: ['id', 'tokens', 'ner_tags', 'texts', 'input_ids', 'token_type_ids', 'attention_mask', 'labels'],\n",
              "        num_rows: 5165\n",
              "    })\n",
              "    validation: Dataset({\n",
              "        features: ['id', 'tokens', 'ner_tags', 'texts', 'input_ids', 'token_type_ids', 'attention_mask', 'labels'],\n",
              "        num_rows: 1293\n",
              "    })\n",
              "})"
            ]
          },
          "execution_count": 90,
          "metadata": {},
          "output_type": "execute_result"
        }
      ],
      "source": [
        "# Create a new DatasetDict to store the concatenated datasets\n",
        "multiCorp = DatasetDict()\n",
        "\n",
        "# Iterate through dataset names and concatenate the corresponding datasets\n",
        "for dataset_name in tmvarMultiID.keys():\n",
        "    print(dataset_name)\n",
        "    multiCorp[dataset_name] = concatenate_datasets([tmvarMultiID[dataset_name], SETHMultiID[dataset_name], yepesMultiID[dataset_name], VariomeMultiID[dataset_name]])\n",
        "multiCorp"
      ]
    },
    {
      "cell_type": "code",
      "execution_count": null,
      "id": "a28953ab-9973-4679-a703-ccd96df2c141",
      "metadata": {
        "tags": [],
        "colab": {
          "referenced_widgets": [
            ""
          ]
        },
        "id": "a28953ab-9973-4679-a703-ccd96df2c141",
        "outputId": "2e13c67d-dde2-41b0-ea04-7896df5cdb43"
      },
      "outputs": [
        {
          "data": {
            "application/vnd.jupyter.widget-view+json": {
              "model_id": "",
              "version_major": 2,
              "version_minor": 0
            },
            "text/plain": [
              "Filter:   0%|          | 0/2035 [00:00<?, ? examples/s]"
            ]
          },
          "metadata": {},
          "output_type": "display_data"
        },
        {
          "data": {
            "application/vnd.jupyter.widget-view+json": {
              "model_id": "",
              "version_major": 2,
              "version_minor": 0
            },
            "text/plain": [
              "Filter:   0%|          | 0/5165 [00:00<?, ? examples/s]"
            ]
          },
          "metadata": {},
          "output_type": "display_data"
        },
        {
          "data": {
            "application/vnd.jupyter.widget-view+json": {
              "model_id": "",
              "version_major": 2,
              "version_minor": 0
            },
            "text/plain": [
              "Filter:   0%|          | 0/1293 [00:00<?, ? examples/s]"
            ]
          },
          "metadata": {},
          "output_type": "display_data"
        },
        {
          "data": {
            "text/plain": [
              "DatasetDict({\n",
              "    test: Dataset({\n",
              "        features: ['id', 'tokens', 'ner_tags', 'texts', 'input_ids', 'token_type_ids', 'attention_mask', 'labels'],\n",
              "        num_rows: 2035\n",
              "    })\n",
              "    train: Dataset({\n",
              "        features: ['id', 'tokens', 'ner_tags', 'texts', 'input_ids', 'token_type_ids', 'attention_mask', 'labels'],\n",
              "        num_rows: 5165\n",
              "    })\n",
              "    validation: Dataset({\n",
              "        features: ['id', 'tokens', 'ner_tags', 'texts', 'input_ids', 'token_type_ids', 'attention_mask', 'labels'],\n",
              "        num_rows: 1293\n",
              "    })\n",
              "})"
            ]
          },
          "execution_count": 87,
          "metadata": {},
          "output_type": "execute_result"
        }
      ],
      "source": [
        "multiCorp_filter = multiCorp.filter(lambda x: x[\"tokens\"] is not None)\n",
        "multiCorp_filter"
      ]
    },
    {
      "cell_type": "code",
      "execution_count": null,
      "id": "270fbd51-2de3-42d2-8312-f66226d98e10",
      "metadata": {
        "tags": [],
        "colab": {
          "referenced_widgets": [
            "bf63155c8f644939a70d28911218ec64"
          ]
        },
        "id": "270fbd51-2de3-42d2-8312-f66226d98e10",
        "outputId": "ac988cd1-664f-42b2-e597-f37ab2d90b64"
      },
      "outputs": [
        {
          "data": {
            "application/vnd.jupyter.widget-view+json": {
              "model_id": "bf63155c8f644939a70d28911218ec64",
              "version_major": 2,
              "version_minor": 0
            },
            "text/plain": [
              "VBox(children=(HTML(value='<center> <img\\nsrc=https://huggingface.co/front/assets/huggingface_logo-noborder.sv…"
            ]
          },
          "metadata": {},
          "output_type": "display_data"
        }
      ],
      "source": [
        "from huggingface_hub import notebook_login\n",
        "notebook_login()"
      ]
    },
    {
      "cell_type": "code",
      "execution_count": null,
      "id": "ecfa67aa-458d-4709-952d-c25c64df9cff",
      "metadata": {
        "tags": [],
        "colab": {
          "referenced_widgets": [
            "2e94dcf43ef346769b06e52232bdcbf5",
            "d5620fa826c2458cae78555ba7a45d54",
            "dd1cd6a1714049eabeea92656aa96943",
            "8bd44adb9f894771aae338ea21ef7a49",
            "aed3d25fc82b4732b2196d59a9a6776c",
            "13924e02f3ce47ce8cfe0997b5810c21",
            "7edbce1a20ac4760b663756e1c32b80f",
            "26975ead30ca4cf8a25bdf44ff0686e3",
            "55783f0ae95645e29670f9679934c65a"
          ]
        },
        "id": "ecfa67aa-458d-4709-952d-c25c64df9cff",
        "outputId": "415b4bff-f84f-4d85-972a-c6425172578c"
      },
      "outputs": [
        {
          "name": "stderr",
          "output_type": "stream",
          "text": [
            "Pushing split test to the Hub.\n"
          ]
        },
        {
          "data": {
            "application/vnd.jupyter.widget-view+json": {
              "model_id": "2e94dcf43ef346769b06e52232bdcbf5",
              "version_major": 2,
              "version_minor": 0
            },
            "text/plain": [
              "Pushing dataset shards to the dataset hub:   0%|          | 0/1 [00:00<?, ?it/s]"
            ]
          },
          "metadata": {},
          "output_type": "display_data"
        },
        {
          "data": {
            "application/vnd.jupyter.widget-view+json": {
              "model_id": "d5620fa826c2458cae78555ba7a45d54",
              "version_major": 2,
              "version_minor": 0
            },
            "text/plain": [
              "Creating parquet from Arrow format:   0%|          | 0/3 [00:00<?, ?ba/s]"
            ]
          },
          "metadata": {},
          "output_type": "display_data"
        },
        {
          "data": {
            "application/vnd.jupyter.widget-view+json": {
              "model_id": "dd1cd6a1714049eabeea92656aa96943",
              "version_major": 2,
              "version_minor": 0
            },
            "text/plain": [
              "Deleting unused files from dataset repository:   0%|          | 0/1 [00:00<?, ?it/s]"
            ]
          },
          "metadata": {},
          "output_type": "display_data"
        },
        {
          "name": "stderr",
          "output_type": "stream",
          "text": [
            "Pushing split train to the Hub.\n"
          ]
        },
        {
          "data": {
            "application/vnd.jupyter.widget-view+json": {
              "model_id": "8bd44adb9f894771aae338ea21ef7a49",
              "version_major": 2,
              "version_minor": 0
            },
            "text/plain": [
              "Pushing dataset shards to the dataset hub:   0%|          | 0/1 [00:00<?, ?it/s]"
            ]
          },
          "metadata": {},
          "output_type": "display_data"
        },
        {
          "data": {
            "application/vnd.jupyter.widget-view+json": {
              "model_id": "aed3d25fc82b4732b2196d59a9a6776c",
              "version_major": 2,
              "version_minor": 0
            },
            "text/plain": [
              "Creating parquet from Arrow format:   0%|          | 0/6 [00:00<?, ?ba/s]"
            ]
          },
          "metadata": {},
          "output_type": "display_data"
        },
        {
          "data": {
            "application/vnd.jupyter.widget-view+json": {
              "model_id": "13924e02f3ce47ce8cfe0997b5810c21",
              "version_major": 2,
              "version_minor": 0
            },
            "text/plain": [
              "Deleting unused files from dataset repository:   0%|          | 0/1 [00:00<?, ?it/s]"
            ]
          },
          "metadata": {},
          "output_type": "display_data"
        },
        {
          "name": "stderr",
          "output_type": "stream",
          "text": [
            "Pushing split validation to the Hub.\n"
          ]
        },
        {
          "data": {
            "application/vnd.jupyter.widget-view+json": {
              "model_id": "7edbce1a20ac4760b663756e1c32b80f",
              "version_major": 2,
              "version_minor": 0
            },
            "text/plain": [
              "Pushing dataset shards to the dataset hub:   0%|          | 0/1 [00:00<?, ?it/s]"
            ]
          },
          "metadata": {},
          "output_type": "display_data"
        },
        {
          "data": {
            "application/vnd.jupyter.widget-view+json": {
              "model_id": "26975ead30ca4cf8a25bdf44ff0686e3",
              "version_major": 2,
              "version_minor": 0
            },
            "text/plain": [
              "Creating parquet from Arrow format:   0%|          | 0/2 [00:00<?, ?ba/s]"
            ]
          },
          "metadata": {},
          "output_type": "display_data"
        },
        {
          "data": {
            "application/vnd.jupyter.widget-view+json": {
              "model_id": "55783f0ae95645e29670f9679934c65a",
              "version_major": 2,
              "version_minor": 0
            },
            "text/plain": [
              "Deleting unused files from dataset repository:   0%|          | 0/1 [00:00<?, ?it/s]"
            ]
          },
          "metadata": {},
          "output_type": "display_data"
        }
      ],
      "source": [
        "multiCorp_filter.push_to_hub(\"Brizape/multiCorp_tokenized_split_0404_dev\")"
      ]
    },
    {
      "cell_type": "code",
      "execution_count": null,
      "id": "ac581ec5-ec23-40fd-8bd2-fd0fc5b27a02",
      "metadata": {
        "id": "ac581ec5-ec23-40fd-8bd2-fd0fc5b27a02"
      },
      "outputs": [],
      "source": []
    }
  ],
  "metadata": {
    "kernelspec": {
      "display_name": "Python 3 (ipykernel)",
      "language": "python",
      "name": "python3"
    },
    "language_info": {
      "codemirror_mode": {
        "name": "ipython",
        "version": 3
      },
      "file_extension": ".py",
      "mimetype": "text/x-python",
      "name": "python",
      "nbconvert_exporter": "python",
      "pygments_lexer": "ipython3",
      "version": "3.10.7"
    },
    "colab": {
      "provenance": [],
      "include_colab_link": true
    }
  },
  "nbformat": 4,
  "nbformat_minor": 5
}