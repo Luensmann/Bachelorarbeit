{
  "cells": [
    {
      "cell_type": "markdown",
      "metadata": {
        "id": "view-in-github",
        "colab_type": "text"
      },
      "source": [
        "<a href=\"https://colab.research.google.com/github/Luensmann/Bachelorarbeit/blob/main/Pre%20Processing/split_dataset.ipynb\" target=\"_parent\"><img src=\"https://colab.research.google.com/assets/colab-badge.svg\" alt=\"Open In Colab\"/></a>"
      ]
    },
    {
      "cell_type": "code",
      "execution_count": null,
      "id": "f0eb87ba-eabb-45e8-ae1b-64a46ba1f00a",
      "metadata": {
        "tags": [],
        "id": "f0eb87ba-eabb-45e8-ae1b-64a46ba1f00a"
      },
      "outputs": [],
      "source": [
        "import torch\n",
        "from transformers import AutoTokenizer, BertForTokenClassification, AutoModelForTokenClassification\n",
        "from datasets import load_dataset\n",
        "from datasets import Dataset, DatasetDict"
      ]
    },
    {
      "cell_type": "code",
      "execution_count": null,
      "id": "64b31c71-8041-4f3a-8cd1-353744c182b7",
      "metadata": {
        "tags": [],
        "id": "64b31c71-8041-4f3a-8cd1-353744c182b7",
        "outputId": "a064ace1-4347-4eb2-f13e-0046eae899f5",
        "colab": {
          "referenced_widgets": [
            "e41655e3e7ac400e8cb111e544792b71",
            "4d61f0a3ea964aeabd0fb0b60c50c5e7",
            "d6c0deef946a49e08397ec5b36460bfb",
            "55745c4e48bf420ba550fd595bbe06cf",
            "367842e6fe0c449597fd897b767e29fa",
            "",
            "b5b571cf88984ac28c0d8115912706dd"
          ]
        }
      },
      "outputs": [
        {
          "data": {
            "application/vnd.jupyter.widget-view+json": {
              "model_id": "e41655e3e7ac400e8cb111e544792b71",
              "version_major": 2,
              "version_minor": 0
            },
            "text/plain": [
              "Downloading readme:   0%|          | 0.00/517 [00:00<?, ?B/s]"
            ]
          },
          "metadata": {},
          "output_type": "display_data"
        },
        {
          "name": "stdout",
          "output_type": "stream",
          "text": [
            "Downloading and preparing dataset None/None to C:/Users/pc/.cache/huggingface/datasets/Brizape___parquet/Brizape--SETH_0404-783d4790b0e24b4b/0.0.0/2a3b91fbd88a2c90d1dbbb32b460cf621d31bd5b05b934492fdef7d8d6f236ec...\n"
          ]
        },
        {
          "data": {
            "application/vnd.jupyter.widget-view+json": {
              "model_id": "4d61f0a3ea964aeabd0fb0b60c50c5e7",
              "version_major": 2,
              "version_minor": 0
            },
            "text/plain": [
              "Downloading data files:   0%|          | 0/2 [00:00<?, ?it/s]"
            ]
          },
          "metadata": {},
          "output_type": "display_data"
        },
        {
          "data": {
            "application/vnd.jupyter.widget-view+json": {
              "model_id": "d6c0deef946a49e08397ec5b36460bfb",
              "version_major": 2,
              "version_minor": 0
            },
            "text/plain": [
              "Downloading data:   0%|          | 0.00/175k [00:00<?, ?B/s]"
            ]
          },
          "metadata": {},
          "output_type": "display_data"
        },
        {
          "data": {
            "application/vnd.jupyter.widget-view+json": {
              "model_id": "55745c4e48bf420ba550fd595bbe06cf",
              "version_major": 2,
              "version_minor": 0
            },
            "text/plain": [
              "Downloading data:   0%|          | 0.00/663k [00:00<?, ?B/s]"
            ]
          },
          "metadata": {},
          "output_type": "display_data"
        },
        {
          "data": {
            "application/vnd.jupyter.widget-view+json": {
              "model_id": "367842e6fe0c449597fd897b767e29fa",
              "version_major": 2,
              "version_minor": 0
            },
            "text/plain": [
              "Extracting data files:   0%|          | 0/2 [00:00<?, ?it/s]"
            ]
          },
          "metadata": {},
          "output_type": "display_data"
        },
        {
          "data": {
            "application/vnd.jupyter.widget-view+json": {
              "model_id": "",
              "version_major": 2,
              "version_minor": 0
            },
            "text/plain": [
              "Generating test split:   0%|          | 0/126 [00:00<?, ? examples/s]"
            ]
          },
          "metadata": {},
          "output_type": "display_data"
        },
        {
          "data": {
            "application/vnd.jupyter.widget-view+json": {
              "model_id": "",
              "version_major": 2,
              "version_minor": 0
            },
            "text/plain": [
              "Generating train split:   0%|          | 0/504 [00:00<?, ? examples/s]"
            ]
          },
          "metadata": {},
          "output_type": "display_data"
        },
        {
          "name": "stdout",
          "output_type": "stream",
          "text": [
            "Dataset parquet downloaded and prepared to C:/Users/pc/.cache/huggingface/datasets/Brizape___parquet/Brizape--SETH_0404-783d4790b0e24b4b/0.0.0/2a3b91fbd88a2c90d1dbbb32b460cf621d31bd5b05b934492fdef7d8d6f236ec. Subsequent calls will reuse this data.\n"
          ]
        },
        {
          "data": {
            "application/vnd.jupyter.widget-view+json": {
              "model_id": "b5b571cf88984ac28c0d8115912706dd",
              "version_major": 2,
              "version_minor": 0
            },
            "text/plain": [
              "  0%|          | 0/2 [00:00<?, ?it/s]"
            ]
          },
          "metadata": {},
          "output_type": "display_data"
        },
        {
          "data": {
            "text/plain": [
              "DatasetDict({\n",
              "    test: Dataset({\n",
              "        features: ['id', 'texts', 'tokens', 'ner_tags'],\n",
              "        num_rows: 126\n",
              "    })\n",
              "    train: Dataset({\n",
              "        features: ['id', 'texts', 'tokens', 'ner_tags'],\n",
              "        num_rows: 504\n",
              "    })\n",
              "})"
            ]
          },
          "execution_count": 70,
          "metadata": {},
          "output_type": "execute_result"
        }
      ],
      "source": [
        "dataset = load_dataset(\"Brizape/SETH_0404\")\n",
        "dataset"
      ]
    },
    {
      "cell_type": "code",
      "execution_count": null,
      "id": "5fa4eeab-a174-48d2-84ec-e805a54d2b2e",
      "metadata": {
        "tags": [],
        "id": "5fa4eeab-a174-48d2-84ec-e805a54d2b2e"
      },
      "outputs": [],
      "source": [
        "for data_index, data in enumerate(dataset['train']['tokens'][:3]):\n",
        "    print(\"#\"*(30), data_index, len(data), (\"#\"*(30)))\n",
        "    j = 0\n",
        "    for i, token in enumerate(data):\n",
        "        j = j+1\n",
        "        if(token == \"\\n\\n\" or token == \"\\n\"):\n",
        "            j = 0\n",
        "        if(j > 400):\n",
        "            print(\"#~\"*(60))\n",
        "        print(j, i, repr(token))"
      ]
    },
    {
      "cell_type": "code",
      "execution_count": null,
      "id": "cd5cadfb-6bdf-4105-b524-356b27a660cb",
      "metadata": {
        "id": "cd5cadfb-6bdf-4105-b524-356b27a660cb"
      },
      "outputs": [],
      "source": [
        "print(repr(new_data['test']['texts'][:5]))\n",
        "print(repr(dataset['train']['texts'][0]))"
      ]
    },
    {
      "cell_type": "code",
      "execution_count": null,
      "id": "24f6e224-7ebd-4373-bece-3942a176b289",
      "metadata": {
        "tags": [],
        "id": "24f6e224-7ebd-4373-bece-3942a176b289"
      },
      "outputs": [],
      "source": [
        "# Function to split rows\n",
        "def split_rows(dataset):\n",
        "    new_rows = []\n",
        "\n",
        "    for row in dataset:\n",
        "        tokens = row['tokens']\n",
        "        ner_tags = row['ner_tags']\n",
        "        \n",
        "        split_indices = [i for i, t in enumerate(tokens) if t == '\\n\\n' or t == '\\n']\n",
        "\n",
        "        prev_idx = 0\n",
        "        for idx in split_indices:\n",
        "            new_row = {k: row[k] for k in row if k not in ['tokens', 'ner_tags', 'texts']}\n",
        "            new_row['tokens'] = tokens[prev_idx:idx]\n",
        "            new_row['ner_tags'] = ner_tags[prev_idx:idx]\n",
        "            new_row['texts'] = ' '.join(new_row['tokens'])\n",
        "            new_rows.append(new_row)\n",
        "            prev_idx = idx + 1\n",
        "\n",
        "        new_row = {k: row[k] for k in row if k not in ['tokens', 'ner_tags', 'texts']}\n",
        "        new_row['tokens'] = tokens[prev_idx:]\n",
        "        new_row['ner_tags'] = ner_tags[prev_idx:]\n",
        "        new_row['texts'] = ' '.join(new_row['tokens'])\n",
        "        new_rows.append(new_row)\n",
        "\n",
        "    return new_rows"
      ]
    },
    {
      "cell_type": "code",
      "execution_count": null,
      "id": "37c38788-420b-405d-9d0e-d386b478e692",
      "metadata": {
        "tags": [],
        "id": "37c38788-420b-405d-9d0e-d386b478e692",
        "outputId": "fd2182e8-3dca-49a6-810e-38a0eca0ab65"
      },
      "outputs": [
        {
          "name": "stdout",
          "output_type": "stream",
          "text": [
            "DatasetDict({\n",
            "    test: Dataset({\n",
            "        features: ['id', 'tokens', 'ner_tags', 'texts'],\n",
            "        num_rows: 126\n",
            "    })\n",
            "    train: Dataset({\n",
            "        features: ['id', 'tokens', 'ner_tags', 'texts'],\n",
            "        num_rows: 504\n",
            "    })\n",
            "})\n"
          ]
        }
      ],
      "source": [
        "# Splitting rows and creating a new DatasetDict\n",
        "new_data = DatasetDict()\n",
        "for split_name in dataset.keys():\n",
        "    split_data = split_rows(dataset[split_name])\n",
        "    new_data[split_name] = Dataset.from_dict({k: [row[k] for row in split_data] for k in split_data[0]})\n",
        "\n",
        "print(new_data)"
      ]
    },
    {
      "cell_type": "code",
      "execution_count": null,
      "id": "d15d0b4a-f44b-4ea6-81a7-6b99d0f3880b",
      "metadata": {
        "tags": [],
        "id": "d15d0b4a-f44b-4ea6-81a7-6b99d0f3880b",
        "outputId": "f1ea3da5-99fa-420f-bb8e-293cdeda1ec2",
        "colab": {
          "referenced_widgets": [
            "43caf60d82084162a7282ced1569cb35",
            "baadec626e194e8aada0f50496025fed",
            "3a6abe97485a4e7eab77fac37a16bcda",
            "59f18298ead34bdfb7ad0123f4ce3240"
          ]
        }
      },
      "outputs": [
        {
          "name": "stderr",
          "output_type": "stream",
          "text": [
            "Pushing split test to the Hub.\n"
          ]
        },
        {
          "data": {
            "application/vnd.jupyter.widget-view+json": {
              "model_id": "43caf60d82084162a7282ced1569cb35",
              "version_major": 2,
              "version_minor": 0
            },
            "text/plain": [
              "Pushing dataset shards to the dataset hub:   0%|          | 0/1 [00:00<?, ?it/s]"
            ]
          },
          "metadata": {},
          "output_type": "display_data"
        },
        {
          "data": {
            "application/vnd.jupyter.widget-view+json": {
              "model_id": "baadec626e194e8aada0f50496025fed",
              "version_major": 2,
              "version_minor": 0
            },
            "text/plain": [
              "Creating parquet from Arrow format:   0%|          | 0/1 [00:00<?, ?ba/s]"
            ]
          },
          "metadata": {},
          "output_type": "display_data"
        },
        {
          "name": "stderr",
          "output_type": "stream",
          "text": [
            "Pushing split train to the Hub.\n"
          ]
        },
        {
          "data": {
            "application/vnd.jupyter.widget-view+json": {
              "model_id": "3a6abe97485a4e7eab77fac37a16bcda",
              "version_major": 2,
              "version_minor": 0
            },
            "text/plain": [
              "Pushing dataset shards to the dataset hub:   0%|          | 0/1 [00:00<?, ?it/s]"
            ]
          },
          "metadata": {},
          "output_type": "display_data"
        },
        {
          "data": {
            "application/vnd.jupyter.widget-view+json": {
              "model_id": "59f18298ead34bdfb7ad0123f4ce3240",
              "version_major": 2,
              "version_minor": 0
            },
            "text/plain": [
              "Creating parquet from Arrow format:   0%|          | 0/1 [00:00<?, ?ba/s]"
            ]
          },
          "metadata": {},
          "output_type": "display_data"
        }
      ],
      "source": [
        "new_data.push_to_hub(\"Brizape/SETH_split_0404\")"
      ]
    },
    {
      "cell_type": "code",
      "execution_count": null,
      "id": "875ef602-1728-4d55-8952-d3bd5ddb0d60",
      "metadata": {
        "tags": [],
        "id": "875ef602-1728-4d55-8952-d3bd5ddb0d60"
      },
      "outputs": [],
      "source": [
        "for data_index, (data, tags) in enumerate(zip(new_data['test']['token'][:3], new_data['test']['ner_tags'][:3])):\n",
        "    print(\"#\"*(30), data_index, len(data), (\"#\"*(30)))\n",
        "    j = 0\n",
        "    for i, (token, tag) in enumerate(zip(data, tags)):\n",
        "        j = j+1\n",
        "        if(token == \"\\n\\n\" or token == \"\\n\"):\n",
        "            j = 0\n",
        "        if(j > 400):\n",
        "            print(\"#~\"*(60))\n",
        "        print(j, i, repr(token), tag)"
      ]
    }
  ],
  "metadata": {
    "kernelspec": {
      "display_name": "Python 3 (ipykernel)",
      "language": "python",
      "name": "python3"
    },
    "language_info": {
      "codemirror_mode": {
        "name": "ipython",
        "version": 3
      },
      "file_extension": ".py",
      "mimetype": "text/x-python",
      "name": "python",
      "nbconvert_exporter": "python",
      "pygments_lexer": "ipython3",
      "version": "3.10.7"
    },
    "colab": {
      "provenance": [],
      "include_colab_link": true
    }
  },
  "nbformat": 4,
  "nbformat_minor": 5
}